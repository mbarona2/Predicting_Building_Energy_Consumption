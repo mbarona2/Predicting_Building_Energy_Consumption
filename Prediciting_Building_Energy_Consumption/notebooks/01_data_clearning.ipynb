{
 "cells": [
  {
   "cell_type": "markdown",
   "id": "103a210e",
   "metadata": {},
   "source": [
    "# 1 Data cleaning<a id='1_Data_cleaning'></a>"
   ]
  },
  {
   "cell_type": "markdown",
   "id": "dea8844e",
   "metadata": {},
   "source": [
    "## 1.1 Contents<a id='1.1_Contents'></a>\n",
    "* [1 Data cleaning](#1_Data_cleaning)\n",
    "  * [1.1 Contents](#1.1_Contents)\n",
    "  * [1.2 Introduction](#1.2_Introduction)\n",
    "    * [1.2.1 Recap Of Data Science Problem](#1.2.1_Recap_Of_Data_Science_Problem)\n",
    "    * [1.2.2 Introduction To Notebook](#1.2.2_Introduction_To_Notebook)\n",
    "  * [1.3 Objectives](#1.3_Objectives)\n",
    "  * [1.4 Imports](#1.4_Imports)\n",
    "  * [1.5 Load Data](#1.5_Load_Data)\n",
    "    * [1.5.1 Meter Readings](#1.5.1_Meter_Readings)\n",
    "    * [1.5.2 Building Characteristics](#1.5.2_Building_Characteristics)\n",
    "    * [1.5.3 Weather Data](#1.5.3_Weather_Data)\n",
    "    * [1.5.4 Number Of Missing Values](#1.5.4_Number_Of_Missing_Values)\n",
    "  * [1.6 Exploration of the Data](#1.6_Exploration_of_the_Data)\n",
    "    * [1.6.1 Categorical Features](#1.6.1_Categorical_Features)\n",
    "      * [1.6.1.1 Building Primary Use](#1.6.1.1_Building_Primary_Use)\n",
    "      * [1.6.1.2 Site ID](#1.6.1.2_Site_ID)\n",
    "      * [1.6.1.3 Meters](#1.6.1.3_Meters)\n",
    "    * [1.6.2 Numeric Features](#1.6.2_Numeric_Features)\n",
    "      * [1.6.2.1 Numeric Data Summary](#1.6.2.1_Numeric_Data_Summary)\n",
    "      * [1.6.2.2 Numeric Data Distribution](#1.6.2.2_Numeric_Data_Distribution)\n",
    "    * [1.6.3 Identifying Potential Outliers](#1.6.3_Identifying_Potential_Outliers)\n",
    "      * [1.6.3.1 Potential Outliers in meter_reading](#1.6.3.1_Potential_Outliers_in_meter_reading)\n",
    "      * [1.6.3.2 Potential Outliers in precip_depth_1_hr](#1.6.3.2_Potential_Outliers_in_precip_depth_1_hr)"
   ]
  },
  {
   "cell_type": "markdown",
   "id": "8e2e6e2b",
   "metadata": {},
   "source": [
    "## 1.2 Introduction<a id='1.2_Introduction'></a>"
   ]
  },
  {
   "cell_type": "markdown",
   "id": "0f04832a",
   "metadata": {},
   "source": [
    "### 1.2.1 Recap Of Data Science Problem<a id='1.2.1_Recap_Of_Data_Science_Problem'></a>"
   ]
  },
  {
   "cell_type": "markdown",
   "id": "96cb9a0b",
   "metadata": {},
   "source": [
    "The goal of this project is to predict the building energy baseline and identify ways in which energy savings can be improved"
   ]
  },
  {
   "cell_type": "markdown",
   "id": "51e31dc1",
   "metadata": {},
   "source": [
    "### 1.2.2 Introduction To Notebook<a id='1.2.2_Introduction_To_Notebook'></a>"
   ]
  },
  {
   "cell_type": "markdown",
   "id": "b87bde68",
   "metadata": {},
   "source": [
    "The datasets are the following:\n",
    "* meter readings with energy use in kWh per hour for the year 2016. This dataset contains the building ID, the meter type (e.g., chilled water, electricity, steam, and hot water), and the meter reading.\n",
    "* Details about each building. This includes the primary use of the building (e.g., education, office, etc.), number of floors, square footage, year it was built, and a site ID that links to weather data\n",
    "* Weather data. This includes precipitation, cloud coverage, air temperature, dew temperature, sea level pressure, and wind direction and speed."
   ]
  },
  {
   "cell_type": "markdown",
   "id": "871c6441",
   "metadata": {},
   "source": [
    "## 1.3 Objectives<a id='1.3_Objectives'></a>"
   ]
  },
  {
   "cell_type": "markdown",
   "id": "59022391",
   "metadata": {},
   "source": [
    "* Identify null values and outliers\n",
    "* Explore the distribution of the data\n",
    "* Assess what data is worth keeping, replacing, or removing"
   ]
  },
  {
   "cell_type": "markdown",
   "id": "39d649c6",
   "metadata": {},
   "source": [
    "## 1.4 Imports<a id='1.4_Imports'></a>"
   ]
  },
  {
   "cell_type": "code",
   "execution_count": 1,
   "id": "676b502a",
   "metadata": {},
   "outputs": [],
   "source": [
    "#Import pandas, matplotlib.pyplot, and seaborn in the correct lines below\n",
    "import pandas as pd\n",
    "import matplotlib.pyplot as plt\n",
    "import seaborn as sns\n",
    "import os"
   ]
  },
  {
   "cell_type": "markdown",
   "id": "20a733d7",
   "metadata": {},
   "source": [
    "## 1.5 Load Data<a id='1.5_Load_Data'></a>"
   ]
  },
  {
   "cell_type": "code",
   "execution_count": 2,
   "id": "f8a234f4",
   "metadata": {},
   "outputs": [],
   "source": [
    "# the supplied CSV data files are in the data/raw directory\n",
    "meter_data = pd.read_csv('../data/raw/train.csv')\n",
    "building_metadata=pd.read_csv('../data/raw/building_metadata.csv')\n",
    "weather_data=pd.read_csv('../data/raw/weather_train.csv')"
   ]
  },
  {
   "cell_type": "markdown",
   "id": "19d970ac",
   "metadata": {},
   "source": [
    "### 1.5.1 Meter Readings<a id='1.5.1_Meter_Readings'></a>"
   ]
  },
  {
   "cell_type": "code",
   "execution_count": 3,
   "id": "ce039509",
   "metadata": {},
   "outputs": [
    {
     "name": "stdout",
     "output_type": "stream",
     "text": [
      "<class 'pandas.core.frame.DataFrame'>\n",
      "RangeIndex: 20216100 entries, 0 to 20216099\n",
      "Data columns (total 4 columns):\n",
      " #   Column         Dtype  \n",
      "---  ------         -----  \n",
      " 0   building_id    int64  \n",
      " 1   meter          int64  \n",
      " 2   timestamp      object \n",
      " 3   meter_reading  float64\n",
      "dtypes: float64(1), int64(2), object(1)\n",
      "memory usage: 616.9+ MB\n"
     ]
    }
   ],
   "source": [
    "#Call the info method on energy_data to see a summary of the data\n",
    "meter_data.info()"
   ]
  },
  {
   "cell_type": "code",
   "execution_count": 4,
   "id": "dd2e263a",
   "metadata": {},
   "outputs": [
    {
     "data": {
      "text/html": [
       "<div>\n",
       "<style scoped>\n",
       "    .dataframe tbody tr th:only-of-type {\n",
       "        vertical-align: middle;\n",
       "    }\n",
       "\n",
       "    .dataframe tbody tr th {\n",
       "        vertical-align: top;\n",
       "    }\n",
       "\n",
       "    .dataframe thead th {\n",
       "        text-align: right;\n",
       "    }\n",
       "</style>\n",
       "<table border=\"1\" class=\"dataframe\">\n",
       "  <thead>\n",
       "    <tr style=\"text-align: right;\">\n",
       "      <th></th>\n",
       "      <th>building_id</th>\n",
       "      <th>meter</th>\n",
       "      <th>timestamp</th>\n",
       "      <th>meter_reading</th>\n",
       "    </tr>\n",
       "  </thead>\n",
       "  <tbody>\n",
       "    <tr>\n",
       "      <th>0</th>\n",
       "      <td>0</td>\n",
       "      <td>0</td>\n",
       "      <td>2016-01-01 00:00:00</td>\n",
       "      <td>0.0</td>\n",
       "    </tr>\n",
       "    <tr>\n",
       "      <th>1</th>\n",
       "      <td>1</td>\n",
       "      <td>0</td>\n",
       "      <td>2016-01-01 00:00:00</td>\n",
       "      <td>0.0</td>\n",
       "    </tr>\n",
       "    <tr>\n",
       "      <th>2</th>\n",
       "      <td>2</td>\n",
       "      <td>0</td>\n",
       "      <td>2016-01-01 00:00:00</td>\n",
       "      <td>0.0</td>\n",
       "    </tr>\n",
       "    <tr>\n",
       "      <th>3</th>\n",
       "      <td>3</td>\n",
       "      <td>0</td>\n",
       "      <td>2016-01-01 00:00:00</td>\n",
       "      <td>0.0</td>\n",
       "    </tr>\n",
       "    <tr>\n",
       "      <th>4</th>\n",
       "      <td>4</td>\n",
       "      <td>0</td>\n",
       "      <td>2016-01-01 00:00:00</td>\n",
       "      <td>0.0</td>\n",
       "    </tr>\n",
       "  </tbody>\n",
       "</table>\n",
       "</div>"
      ],
      "text/plain": [
       "   building_id  meter            timestamp  meter_reading\n",
       "0            0      0  2016-01-01 00:00:00            0.0\n",
       "1            1      0  2016-01-01 00:00:00            0.0\n",
       "2            2      0  2016-01-01 00:00:00            0.0\n",
       "3            3      0  2016-01-01 00:00:00            0.0\n",
       "4            4      0  2016-01-01 00:00:00            0.0"
      ]
     },
     "execution_count": 4,
     "metadata": {},
     "output_type": "execute_result"
    }
   ],
   "source": [
    "meter_data.head(5)"
   ]
  },
  {
   "cell_type": "markdown",
   "id": "ca2c5884",
   "metadata": {},
   "source": [
    "In this data, we have a building ID, a meter ID, a timestamp, and the recorded meter reading. \n",
    "\n",
    "The timestamp goes from January 1st, 2016, to December 31st, 2016\n",
    "\n",
    "The meter ID corresponds to 0: electricity, [1: chilled water, 2: steam, 3: hot water](https://www1.eere.energy.gov/buildings/publications/pdfs/commercial_initiative/hvac_volume1_final_report.pdf)"
   ]
  },
  {
   "cell_type": "markdown",
   "id": "31b831ac",
   "metadata": {},
   "source": [
    "### 1.5.2 Building Characteristics<a id='1.5.2_Building_Characteristics'></a>"
   ]
  },
  {
   "cell_type": "code",
   "execution_count": 5,
   "id": "52c1968d",
   "metadata": {},
   "outputs": [
    {
     "name": "stdout",
     "output_type": "stream",
     "text": [
      "<class 'pandas.core.frame.DataFrame'>\n",
      "RangeIndex: 1449 entries, 0 to 1448\n",
      "Data columns (total 6 columns):\n",
      " #   Column       Non-Null Count  Dtype  \n",
      "---  ------       --------------  -----  \n",
      " 0   site_id      1449 non-null   int64  \n",
      " 1   building_id  1449 non-null   int64  \n",
      " 2   primary_use  1449 non-null   object \n",
      " 3   square_feet  1449 non-null   int64  \n",
      " 4   year_built   675 non-null    float64\n",
      " 5   floor_count  355 non-null    float64\n",
      "dtypes: float64(2), int64(3), object(1)\n",
      "memory usage: 68.0+ KB\n"
     ]
    }
   ],
   "source": [
    "building_metadata.info()"
   ]
  },
  {
   "cell_type": "code",
   "execution_count": 6,
   "id": "ca04e691",
   "metadata": {},
   "outputs": [
    {
     "data": {
      "text/html": [
       "<div>\n",
       "<style scoped>\n",
       "    .dataframe tbody tr th:only-of-type {\n",
       "        vertical-align: middle;\n",
       "    }\n",
       "\n",
       "    .dataframe tbody tr th {\n",
       "        vertical-align: top;\n",
       "    }\n",
       "\n",
       "    .dataframe thead th {\n",
       "        text-align: right;\n",
       "    }\n",
       "</style>\n",
       "<table border=\"1\" class=\"dataframe\">\n",
       "  <thead>\n",
       "    <tr style=\"text-align: right;\">\n",
       "      <th></th>\n",
       "      <th>site_id</th>\n",
       "      <th>building_id</th>\n",
       "      <th>primary_use</th>\n",
       "      <th>square_feet</th>\n",
       "      <th>year_built</th>\n",
       "      <th>floor_count</th>\n",
       "    </tr>\n",
       "  </thead>\n",
       "  <tbody>\n",
       "    <tr>\n",
       "      <th>0</th>\n",
       "      <td>0</td>\n",
       "      <td>0</td>\n",
       "      <td>Education</td>\n",
       "      <td>7432</td>\n",
       "      <td>2008.0</td>\n",
       "      <td>NaN</td>\n",
       "    </tr>\n",
       "    <tr>\n",
       "      <th>1</th>\n",
       "      <td>0</td>\n",
       "      <td>1</td>\n",
       "      <td>Education</td>\n",
       "      <td>2720</td>\n",
       "      <td>2004.0</td>\n",
       "      <td>NaN</td>\n",
       "    </tr>\n",
       "    <tr>\n",
       "      <th>2</th>\n",
       "      <td>0</td>\n",
       "      <td>2</td>\n",
       "      <td>Education</td>\n",
       "      <td>5376</td>\n",
       "      <td>1991.0</td>\n",
       "      <td>NaN</td>\n",
       "    </tr>\n",
       "    <tr>\n",
       "      <th>3</th>\n",
       "      <td>0</td>\n",
       "      <td>3</td>\n",
       "      <td>Education</td>\n",
       "      <td>23685</td>\n",
       "      <td>2002.0</td>\n",
       "      <td>NaN</td>\n",
       "    </tr>\n",
       "    <tr>\n",
       "      <th>4</th>\n",
       "      <td>0</td>\n",
       "      <td>4</td>\n",
       "      <td>Education</td>\n",
       "      <td>116607</td>\n",
       "      <td>1975.0</td>\n",
       "      <td>NaN</td>\n",
       "    </tr>\n",
       "  </tbody>\n",
       "</table>\n",
       "</div>"
      ],
      "text/plain": [
       "   site_id  building_id primary_use  square_feet  year_built  floor_count\n",
       "0        0            0   Education         7432      2008.0          NaN\n",
       "1        0            1   Education         2720      2004.0          NaN\n",
       "2        0            2   Education         5376      1991.0          NaN\n",
       "3        0            3   Education        23685      2002.0          NaN\n",
       "4        0            4   Education       116607      1975.0          NaN"
      ]
     },
     "execution_count": 6,
     "metadata": {},
     "output_type": "execute_result"
    }
   ],
   "source": [
    "building_metadata.head(5)"
   ]
  },
  {
   "cell_type": "markdown",
   "id": "082c6653",
   "metadata": {},
   "source": [
    "In this dataset, we have 1449 different buildings. \n",
    "\n",
    "The site ID is a foreign key for the weather data.\n",
    "\n",
    "We have building ID with its characteristics, which are:\n",
    "* Its primary use\n",
    "* Its size in square feet\n",
    "* The year it was built \n",
    "* The number of floors it has\n",
    "\n",
    "Notes relevant for cleaning:\n",
    "* year_built and floor_count only have 675 and 355 non-null values out of the 1449 entries\n",
    "* The dtypes of year_built and floor_count are float, when they should be integer \n",
    "    * tried to change the dtype, but the NaN values gave me errors"
   ]
  },
  {
   "cell_type": "markdown",
   "id": "0561a5db",
   "metadata": {},
   "source": [
    "### 1.5.3 Weather Data<a id='1.5.3_Weather_Data'></a>"
   ]
  },
  {
   "cell_type": "code",
   "execution_count": 7,
   "id": "bf431393",
   "metadata": {},
   "outputs": [
    {
     "name": "stdout",
     "output_type": "stream",
     "text": [
      "<class 'pandas.core.frame.DataFrame'>\n",
      "RangeIndex: 139773 entries, 0 to 139772\n",
      "Data columns (total 9 columns):\n",
      " #   Column              Non-Null Count   Dtype  \n",
      "---  ------              --------------   -----  \n",
      " 0   site_id             139773 non-null  int64  \n",
      " 1   timestamp           139773 non-null  object \n",
      " 2   air_temperature     139718 non-null  float64\n",
      " 3   cloud_coverage      70600 non-null   float64\n",
      " 4   dew_temperature     139660 non-null  float64\n",
      " 5   precip_depth_1_hr   89484 non-null   float64\n",
      " 6   sea_level_pressure  129155 non-null  float64\n",
      " 7   wind_direction      133505 non-null  float64\n",
      " 8   wind_speed          139469 non-null  float64\n",
      "dtypes: float64(7), int64(1), object(1)\n",
      "memory usage: 9.6+ MB\n"
     ]
    }
   ],
   "source": [
    "weather_data.info()"
   ]
  },
  {
   "cell_type": "code",
   "execution_count": 8,
   "id": "9cd52751",
   "metadata": {},
   "outputs": [
    {
     "data": {
      "text/html": [
       "<div>\n",
       "<style scoped>\n",
       "    .dataframe tbody tr th:only-of-type {\n",
       "        vertical-align: middle;\n",
       "    }\n",
       "\n",
       "    .dataframe tbody tr th {\n",
       "        vertical-align: top;\n",
       "    }\n",
       "\n",
       "    .dataframe thead th {\n",
       "        text-align: right;\n",
       "    }\n",
       "</style>\n",
       "<table border=\"1\" class=\"dataframe\">\n",
       "  <thead>\n",
       "    <tr style=\"text-align: right;\">\n",
       "      <th></th>\n",
       "      <th>site_id</th>\n",
       "      <th>timestamp</th>\n",
       "      <th>air_temperature</th>\n",
       "      <th>cloud_coverage</th>\n",
       "      <th>dew_temperature</th>\n",
       "      <th>precip_depth_1_hr</th>\n",
       "      <th>sea_level_pressure</th>\n",
       "      <th>wind_direction</th>\n",
       "      <th>wind_speed</th>\n",
       "    </tr>\n",
       "  </thead>\n",
       "  <tbody>\n",
       "    <tr>\n",
       "      <th>0</th>\n",
       "      <td>0</td>\n",
       "      <td>2016-01-01 00:00:00</td>\n",
       "      <td>25.0</td>\n",
       "      <td>6.0</td>\n",
       "      <td>20.0</td>\n",
       "      <td>NaN</td>\n",
       "      <td>1019.7</td>\n",
       "      <td>0.0</td>\n",
       "      <td>0.0</td>\n",
       "    </tr>\n",
       "    <tr>\n",
       "      <th>1</th>\n",
       "      <td>0</td>\n",
       "      <td>2016-01-01 01:00:00</td>\n",
       "      <td>24.4</td>\n",
       "      <td>NaN</td>\n",
       "      <td>21.1</td>\n",
       "      <td>-1.0</td>\n",
       "      <td>1020.2</td>\n",
       "      <td>70.0</td>\n",
       "      <td>1.5</td>\n",
       "    </tr>\n",
       "    <tr>\n",
       "      <th>2</th>\n",
       "      <td>0</td>\n",
       "      <td>2016-01-01 02:00:00</td>\n",
       "      <td>22.8</td>\n",
       "      <td>2.0</td>\n",
       "      <td>21.1</td>\n",
       "      <td>0.0</td>\n",
       "      <td>1020.2</td>\n",
       "      <td>0.0</td>\n",
       "      <td>0.0</td>\n",
       "    </tr>\n",
       "    <tr>\n",
       "      <th>3</th>\n",
       "      <td>0</td>\n",
       "      <td>2016-01-01 03:00:00</td>\n",
       "      <td>21.1</td>\n",
       "      <td>2.0</td>\n",
       "      <td>20.6</td>\n",
       "      <td>0.0</td>\n",
       "      <td>1020.1</td>\n",
       "      <td>0.0</td>\n",
       "      <td>0.0</td>\n",
       "    </tr>\n",
       "    <tr>\n",
       "      <th>4</th>\n",
       "      <td>0</td>\n",
       "      <td>2016-01-01 04:00:00</td>\n",
       "      <td>20.0</td>\n",
       "      <td>2.0</td>\n",
       "      <td>20.0</td>\n",
       "      <td>-1.0</td>\n",
       "      <td>1020.0</td>\n",
       "      <td>250.0</td>\n",
       "      <td>2.6</td>\n",
       "    </tr>\n",
       "  </tbody>\n",
       "</table>\n",
       "</div>"
      ],
      "text/plain": [
       "   site_id            timestamp  air_temperature  cloud_coverage  \\\n",
       "0        0  2016-01-01 00:00:00             25.0             6.0   \n",
       "1        0  2016-01-01 01:00:00             24.4             NaN   \n",
       "2        0  2016-01-01 02:00:00             22.8             2.0   \n",
       "3        0  2016-01-01 03:00:00             21.1             2.0   \n",
       "4        0  2016-01-01 04:00:00             20.0             2.0   \n",
       "\n",
       "   dew_temperature  precip_depth_1_hr  sea_level_pressure  wind_direction  \\\n",
       "0             20.0                NaN              1019.7             0.0   \n",
       "1             21.1               -1.0              1020.2            70.0   \n",
       "2             21.1                0.0              1020.2             0.0   \n",
       "3             20.6                0.0              1020.1             0.0   \n",
       "4             20.0               -1.0              1020.0           250.0   \n",
       "\n",
       "   wind_speed  \n",
       "0         0.0  \n",
       "1         1.5  \n",
       "2         0.0  \n",
       "3         0.0  \n",
       "4         2.6  "
      ]
     },
     "execution_count": 8,
     "metadata": {},
     "output_type": "execute_result"
    }
   ],
   "source": [
    "weather_data.head(5)"
   ]
  },
  {
   "cell_type": "markdown",
   "id": "3f546434",
   "metadata": {},
   "source": [
    "This dataset contains the site ID, which is linked to the site ID in the building metadata, the timestamp, and the weather details for that particular site and timestamp.\n",
    "\n",
    "The weather features are:\n",
    "* Air temperature\n",
    "* Cloud coverage\n",
    "* Dew temperature\n",
    "* Precipitation depth in 1 hour\n",
    "* Sea level pressure\n",
    "* Wind direction\n",
    "* Wind speed\n",
    "    \n",
    "The features with the most null values are cloud_coverage and precip_depth_1_hr. They seem to be missing nearly half of the values"
   ]
  },
  {
   "cell_type": "markdown",
   "id": "96bea37a",
   "metadata": {},
   "source": [
    "### 1.5.4 Number Of Missing Values<a id='1.5.4_Number_Of_Missing_Values'></a>"
   ]
  },
  {
   "cell_type": "code",
   "execution_count": 9,
   "id": "37966888",
   "metadata": {},
   "outputs": [
    {
     "data": {
      "text/html": [
       "<div>\n",
       "<style scoped>\n",
       "    .dataframe tbody tr th:only-of-type {\n",
       "        vertical-align: middle;\n",
       "    }\n",
       "\n",
       "    .dataframe tbody tr th {\n",
       "        vertical-align: top;\n",
       "    }\n",
       "\n",
       "    .dataframe thead th {\n",
       "        text-align: right;\n",
       "    }\n",
       "</style>\n",
       "<table border=\"1\" class=\"dataframe\">\n",
       "  <thead>\n",
       "    <tr style=\"text-align: right;\">\n",
       "      <th></th>\n",
       "      <th>Count</th>\n",
       "      <th>%</th>\n",
       "    </tr>\n",
       "  </thead>\n",
       "  <tbody>\n",
       "    <tr>\n",
       "      <th>building_id</th>\n",
       "      <td>0</td>\n",
       "      <td>0.0</td>\n",
       "    </tr>\n",
       "    <tr>\n",
       "      <th>meter</th>\n",
       "      <td>0</td>\n",
       "      <td>0.0</td>\n",
       "    </tr>\n",
       "    <tr>\n",
       "      <th>timestamp</th>\n",
       "      <td>0</td>\n",
       "      <td>0.0</td>\n",
       "    </tr>\n",
       "    <tr>\n",
       "      <th>meter_reading</th>\n",
       "      <td>0</td>\n",
       "      <td>0.0</td>\n",
       "    </tr>\n",
       "  </tbody>\n",
       "</table>\n",
       "</div>"
      ],
      "text/plain": [
       "               Count    %\n",
       "building_id        0  0.0\n",
       "meter              0  0.0\n",
       "timestamp          0  0.0\n",
       "meter_reading      0  0.0"
      ]
     },
     "execution_count": 9,
     "metadata": {},
     "output_type": "execute_result"
    }
   ],
   "source": [
    "#In this cell, I will construct a Pandas DataFrame that shows the number and percentage of missing values by column in each dataset\n",
    "meter_reading_missing=pd.concat([meter_data.isnull().sum(),100*meter_data.isnull().mean()], axis=1)\n",
    "meter_reading_missing.columns=['Count','%']\n",
    "meter_reading_missing=meter_reading_missing.sort_values(by='Count',ascending=False)\n",
    "meter_reading_missing"
   ]
  },
  {
   "cell_type": "code",
   "execution_count": 10,
   "id": "c073c8c9",
   "metadata": {},
   "outputs": [
    {
     "data": {
      "text/html": [
       "<div>\n",
       "<style scoped>\n",
       "    .dataframe tbody tr th:only-of-type {\n",
       "        vertical-align: middle;\n",
       "    }\n",
       "\n",
       "    .dataframe tbody tr th {\n",
       "        vertical-align: top;\n",
       "    }\n",
       "\n",
       "    .dataframe thead th {\n",
       "        text-align: right;\n",
       "    }\n",
       "</style>\n",
       "<table border=\"1\" class=\"dataframe\">\n",
       "  <thead>\n",
       "    <tr style=\"text-align: right;\">\n",
       "      <th></th>\n",
       "      <th>Count</th>\n",
       "      <th>%</th>\n",
       "    </tr>\n",
       "  </thead>\n",
       "  <tbody>\n",
       "    <tr>\n",
       "      <th>floor_count</th>\n",
       "      <td>1094</td>\n",
       "      <td>75.500345</td>\n",
       "    </tr>\n",
       "    <tr>\n",
       "      <th>year_built</th>\n",
       "      <td>774</td>\n",
       "      <td>53.416149</td>\n",
       "    </tr>\n",
       "    <tr>\n",
       "      <th>site_id</th>\n",
       "      <td>0</td>\n",
       "      <td>0.000000</td>\n",
       "    </tr>\n",
       "    <tr>\n",
       "      <th>building_id</th>\n",
       "      <td>0</td>\n",
       "      <td>0.000000</td>\n",
       "    </tr>\n",
       "    <tr>\n",
       "      <th>primary_use</th>\n",
       "      <td>0</td>\n",
       "      <td>0.000000</td>\n",
       "    </tr>\n",
       "    <tr>\n",
       "      <th>square_feet</th>\n",
       "      <td>0</td>\n",
       "      <td>0.000000</td>\n",
       "    </tr>\n",
       "  </tbody>\n",
       "</table>\n",
       "</div>"
      ],
      "text/plain": [
       "             Count          %\n",
       "floor_count   1094  75.500345\n",
       "year_built     774  53.416149\n",
       "site_id          0   0.000000\n",
       "building_id      0   0.000000\n",
       "primary_use      0   0.000000\n",
       "square_feet      0   0.000000"
      ]
     },
     "execution_count": 10,
     "metadata": {},
     "output_type": "execute_result"
    }
   ],
   "source": [
    "building_metadata_missing=pd.concat([building_metadata.isnull().sum(),100*building_metadata.isnull().mean()], axis=1)\n",
    "building_metadata_missing.columns=['Count','%']\n",
    "building_metadata_missing=building_metadata_missing.sort_values(by='Count',ascending=False)\n",
    "building_metadata_missing"
   ]
  },
  {
   "cell_type": "code",
   "execution_count": 11,
   "id": "7321bd1e",
   "metadata": {},
   "outputs": [
    {
     "data": {
      "text/html": [
       "<div>\n",
       "<style scoped>\n",
       "    .dataframe tbody tr th:only-of-type {\n",
       "        vertical-align: middle;\n",
       "    }\n",
       "\n",
       "    .dataframe tbody tr th {\n",
       "        vertical-align: top;\n",
       "    }\n",
       "\n",
       "    .dataframe thead th {\n",
       "        text-align: right;\n",
       "    }\n",
       "</style>\n",
       "<table border=\"1\" class=\"dataframe\">\n",
       "  <thead>\n",
       "    <tr style=\"text-align: right;\">\n",
       "      <th></th>\n",
       "      <th>Count</th>\n",
       "      <th>%</th>\n",
       "    </tr>\n",
       "  </thead>\n",
       "  <tbody>\n",
       "    <tr>\n",
       "      <th>cloud_coverage</th>\n",
       "      <td>69173</td>\n",
       "      <td>49.489529</td>\n",
       "    </tr>\n",
       "    <tr>\n",
       "      <th>precip_depth_1_hr</th>\n",
       "      <td>50289</td>\n",
       "      <td>35.979052</td>\n",
       "    </tr>\n",
       "    <tr>\n",
       "      <th>sea_level_pressure</th>\n",
       "      <td>10618</td>\n",
       "      <td>7.596603</td>\n",
       "    </tr>\n",
       "    <tr>\n",
       "      <th>wind_direction</th>\n",
       "      <td>6268</td>\n",
       "      <td>4.484414</td>\n",
       "    </tr>\n",
       "    <tr>\n",
       "      <th>wind_speed</th>\n",
       "      <td>304</td>\n",
       "      <td>0.217496</td>\n",
       "    </tr>\n",
       "    <tr>\n",
       "      <th>dew_temperature</th>\n",
       "      <td>113</td>\n",
       "      <td>0.080845</td>\n",
       "    </tr>\n",
       "    <tr>\n",
       "      <th>air_temperature</th>\n",
       "      <td>55</td>\n",
       "      <td>0.039350</td>\n",
       "    </tr>\n",
       "    <tr>\n",
       "      <th>site_id</th>\n",
       "      <td>0</td>\n",
       "      <td>0.000000</td>\n",
       "    </tr>\n",
       "    <tr>\n",
       "      <th>timestamp</th>\n",
       "      <td>0</td>\n",
       "      <td>0.000000</td>\n",
       "    </tr>\n",
       "  </tbody>\n",
       "</table>\n",
       "</div>"
      ],
      "text/plain": [
       "                    Count          %\n",
       "cloud_coverage      69173  49.489529\n",
       "precip_depth_1_hr   50289  35.979052\n",
       "sea_level_pressure  10618   7.596603\n",
       "wind_direction       6268   4.484414\n",
       "wind_speed            304   0.217496\n",
       "dew_temperature       113   0.080845\n",
       "air_temperature        55   0.039350\n",
       "site_id                 0   0.000000\n",
       "timestamp               0   0.000000"
      ]
     },
     "execution_count": 11,
     "metadata": {},
     "output_type": "execute_result"
    }
   ],
   "source": [
    "weather_data_missing=pd.concat([weather_data.isnull().sum(),100*weather_data.isnull().mean()], axis=1)\n",
    "weather_data_missing.columns=['Count','%']\n",
    "weather_data_missing=weather_data_missing.sort_values(by='Count',ascending=False)\n",
    "weather_data_missing"
   ]
  },
  {
   "cell_type": "markdown",
   "id": "3fb26718",
   "metadata": {},
   "source": [
    "* when we calculate the amount of missing values by percentage, we find floor_count is missing 75% of the data, therefore, we may have to remove this column for future work.\n",
    "\n",
    "* The year_built, and cloud_coverage are missing about 50% of the values.\n",
    "\n",
    "* precip_depth_1_hr is missing 36% of the values.\n",
    "\n",
    "Another thing to note is that isnull() is not the only indicator of missing data. Sometimes 'missingness' can be encoded, perhaps by a -1 or 999. I may have to look for these values as well."
   ]
  },
  {
   "cell_type": "markdown",
   "id": "4ef67130",
   "metadata": {},
   "source": [
    "## 1.6 Exploration of the Data<a id='1.6_Exploration_of_the_Data'></a>"
   ]
  },
  {
   "cell_type": "markdown",
   "id": "0761214b",
   "metadata": {},
   "source": [
    "### 1.6.1 Categorical Features<a id='1.6.1_Categorical_Features'></a>"
   ]
  },
  {
   "cell_type": "markdown",
   "id": "7b00091f",
   "metadata": {},
   "source": [
    "The only categorical feature in this dataset is the primary use of the building.\n",
    "\n",
    "Some questions I have at the moment... can the meter type and site ID be categorical features? How many meter readings from each type are there for each type of building?"
   ]
  },
  {
   "cell_type": "markdown",
   "id": "f89223cf",
   "metadata": {},
   "source": [
    "Here I will explore the distribution of the primary use of the building. In the future, I will be interested in seeing the amount of energy use for each type of building. As a reminder, there are no missing values for the primary_use column."
   ]
  },
  {
   "cell_type": "markdown",
   "id": "6593f952",
   "metadata": {},
   "source": [
    "#### 1.6.1.1 Building Primary Use<a id='1.6.1.1_Building_Primary_Use'></a>"
   ]
  },
  {
   "cell_type": "code",
   "execution_count": 70,
   "id": "a3083447",
   "metadata": {},
   "outputs": [
    {
     "data": {
      "text/html": [
       "<div>\n",
       "<style scoped>\n",
       "    .dataframe tbody tr th:only-of-type {\n",
       "        vertical-align: middle;\n",
       "    }\n",
       "\n",
       "    .dataframe tbody tr th {\n",
       "        vertical-align: top;\n",
       "    }\n",
       "\n",
       "    .dataframe thead th {\n",
       "        text-align: right;\n",
       "    }\n",
       "</style>\n",
       "<table border=\"1\" class=\"dataframe\">\n",
       "  <thead>\n",
       "    <tr style=\"text-align: right;\">\n",
       "      <th></th>\n",
       "      <th>primary_use</th>\n",
       "      <th>Count</th>\n",
       "      <th>%</th>\n",
       "    </tr>\n",
       "  </thead>\n",
       "  <tbody>\n",
       "    <tr>\n",
       "      <th>0</th>\n",
       "      <td>Education</td>\n",
       "      <td>549</td>\n",
       "      <td>37.888199</td>\n",
       "    </tr>\n",
       "    <tr>\n",
       "      <th>1</th>\n",
       "      <td>Office</td>\n",
       "      <td>279</td>\n",
       "      <td>19.254658</td>\n",
       "    </tr>\n",
       "    <tr>\n",
       "      <th>2</th>\n",
       "      <td>Entertainment/public assembly</td>\n",
       "      <td>184</td>\n",
       "      <td>12.698413</td>\n",
       "    </tr>\n",
       "    <tr>\n",
       "      <th>3</th>\n",
       "      <td>Public services</td>\n",
       "      <td>156</td>\n",
       "      <td>10.766046</td>\n",
       "    </tr>\n",
       "    <tr>\n",
       "      <th>4</th>\n",
       "      <td>Lodging/residential</td>\n",
       "      <td>147</td>\n",
       "      <td>10.144928</td>\n",
       "    </tr>\n",
       "    <tr>\n",
       "      <th>5</th>\n",
       "      <td>Other</td>\n",
       "      <td>25</td>\n",
       "      <td>1.725328</td>\n",
       "    </tr>\n",
       "    <tr>\n",
       "      <th>6</th>\n",
       "      <td>Healthcare</td>\n",
       "      <td>23</td>\n",
       "      <td>1.587302</td>\n",
       "    </tr>\n",
       "    <tr>\n",
       "      <th>7</th>\n",
       "      <td>Parking</td>\n",
       "      <td>22</td>\n",
       "      <td>1.518288</td>\n",
       "    </tr>\n",
       "    <tr>\n",
       "      <th>8</th>\n",
       "      <td>Warehouse/storage</td>\n",
       "      <td>13</td>\n",
       "      <td>0.897170</td>\n",
       "    </tr>\n",
       "    <tr>\n",
       "      <th>9</th>\n",
       "      <td>Manufacturing/industrial</td>\n",
       "      <td>12</td>\n",
       "      <td>0.828157</td>\n",
       "    </tr>\n",
       "    <tr>\n",
       "      <th>10</th>\n",
       "      <td>Retail</td>\n",
       "      <td>11</td>\n",
       "      <td>0.759144</td>\n",
       "    </tr>\n",
       "    <tr>\n",
       "      <th>11</th>\n",
       "      <td>Services</td>\n",
       "      <td>10</td>\n",
       "      <td>0.690131</td>\n",
       "    </tr>\n",
       "    <tr>\n",
       "      <th>12</th>\n",
       "      <td>Technology/science</td>\n",
       "      <td>6</td>\n",
       "      <td>0.414079</td>\n",
       "    </tr>\n",
       "    <tr>\n",
       "      <th>13</th>\n",
       "      <td>Food sales and service</td>\n",
       "      <td>5</td>\n",
       "      <td>0.345066</td>\n",
       "    </tr>\n",
       "    <tr>\n",
       "      <th>14</th>\n",
       "      <td>Utility</td>\n",
       "      <td>4</td>\n",
       "      <td>0.276052</td>\n",
       "    </tr>\n",
       "    <tr>\n",
       "      <th>15</th>\n",
       "      <td>Religious worship</td>\n",
       "      <td>3</td>\n",
       "      <td>0.207039</td>\n",
       "    </tr>\n",
       "  </tbody>\n",
       "</table>\n",
       "</div>"
      ],
      "text/plain": [
       "                      primary_use  Count          %\n",
       "0                       Education    549  37.888199\n",
       "1                          Office    279  19.254658\n",
       "2   Entertainment/public assembly    184  12.698413\n",
       "3                 Public services    156  10.766046\n",
       "4             Lodging/residential    147  10.144928\n",
       "5                           Other     25   1.725328\n",
       "6                      Healthcare     23   1.587302\n",
       "7                         Parking     22   1.518288\n",
       "8               Warehouse/storage     13   0.897170\n",
       "9        Manufacturing/industrial     12   0.828157\n",
       "10                         Retail     11   0.759144\n",
       "11                       Services     10   0.690131\n",
       "12             Technology/science      6   0.414079\n",
       "13         Food sales and service      5   0.345066\n",
       "14                        Utility      4   0.276052\n",
       "15              Religious worship      3   0.207039"
      ]
     },
     "execution_count": 70,
     "metadata": {},
     "output_type": "execute_result"
    }
   ],
   "source": [
    "#select unique values\n",
    "#building_metadata['primary_use'].value_counts()\n",
    "#calculate the percentage of each type out of all buildings in this dataset\n",
    "#100*building_metadata['primary_use'].value_counts()/len(building_metadata)\n",
    "#Put the counts and percentages in the same df\n",
    "primary_use_df=pd.concat([building_metadata['primary_use'].value_counts(),\n",
    "                           100*building_metadata['primary_use'].value_counts()/len(building_metadata)],axis=1)\n",
    "primary_use_df.columns=['Count','%']\n",
    "primary_use_df.sort_values(by='Count',ascending=False)\n",
    "primary_use_df=primary_use_df.reset_index()\n",
    "primary_use_df = primary_use_df.rename(columns={'index': 'primary_use'})\n",
    "primary_use_df"
   ]
  },
  {
   "cell_type": "markdown",
   "id": "8a261c03",
   "metadata": {},
   "source": [
    "The primary use of most buildings are education, office, entertainment/public assembly, public services, and lodging/residential.\n",
    "\n",
    "Something that will be interesting here is to find the energy use of each type of building and what kinds of meters each type of building has, and how their energy use varies for each building type."
   ]
  },
  {
   "cell_type": "code",
   "execution_count": 51,
   "id": "f5247079",
   "metadata": {},
   "outputs": [
    {
     "data": {
      "text/plain": [
       "Text(0.5, 0, 'Count')"
      ]
     },
     "execution_count": 51,
     "metadata": {},
     "output_type": "execute_result"
    },
    {
     "data": {
      "image/png": "[encoded data removed]",
      "text/plain": [
       "<Figure size 864x576 with 1 Axes>"
      ]
     },
     "metadata": {
      "needs_background": "light"
     },
     "output_type": "display_data"
    }
   ],
   "source": [
    "fig, ax = plt.subplots(1, 1, figsize=(12,8))\n",
    "building_metadata['primary_use'].value_counts().plot(kind='barh', ax=ax)\n",
    "ax.set_title('Building Primary Use')\n",
    "ax.set_xlabel('Count')"
   ]
  },
  {
   "cell_type": "markdown",
   "id": "89f90486",
   "metadata": {},
   "source": [
    "#### 1.6.1.2 Site ID<a id='1.6.1.2_Site_ID'></a>"
   ]
  },
  {
   "cell_type": "code",
   "execution_count": 53,
   "id": "823ccdd3",
   "metadata": {},
   "outputs": [
    {
     "data": {
      "text/html": [
       "<div>\n",
       "<style scoped>\n",
       "    .dataframe tbody tr th:only-of-type {\n",
       "        vertical-align: middle;\n",
       "    }\n",
       "\n",
       "    .dataframe tbody tr th {\n",
       "        vertical-align: top;\n",
       "    }\n",
       "\n",
       "    .dataframe thead th {\n",
       "        text-align: right;\n",
       "    }\n",
       "</style>\n",
       "<table border=\"1\" class=\"dataframe\">\n",
       "  <thead>\n",
       "    <tr style=\"text-align: right;\">\n",
       "      <th></th>\n",
       "      <th>Count</th>\n",
       "      <th>%</th>\n",
       "    </tr>\n",
       "  </thead>\n",
       "  <tbody>\n",
       "    <tr>\n",
       "      <th>3</th>\n",
       "      <td>274</td>\n",
       "      <td>18.909593</td>\n",
       "    </tr>\n",
       "    <tr>\n",
       "      <th>13</th>\n",
       "      <td>154</td>\n",
       "      <td>10.628019</td>\n",
       "    </tr>\n",
       "    <tr>\n",
       "      <th>2</th>\n",
       "      <td>135</td>\n",
       "      <td>9.316770</td>\n",
       "    </tr>\n",
       "    <tr>\n",
       "      <th>9</th>\n",
       "      <td>124</td>\n",
       "      <td>8.557626</td>\n",
       "    </tr>\n",
       "    <tr>\n",
       "      <th>15</th>\n",
       "      <td>124</td>\n",
       "      <td>8.557626</td>\n",
       "    </tr>\n",
       "    <tr>\n",
       "      <th>0</th>\n",
       "      <td>105</td>\n",
       "      <td>7.246377</td>\n",
       "    </tr>\n",
       "    <tr>\n",
       "      <th>14</th>\n",
       "      <td>102</td>\n",
       "      <td>7.039337</td>\n",
       "    </tr>\n",
       "    <tr>\n",
       "      <th>4</th>\n",
       "      <td>91</td>\n",
       "      <td>6.280193</td>\n",
       "    </tr>\n",
       "    <tr>\n",
       "      <th>5</th>\n",
       "      <td>89</td>\n",
       "      <td>6.142167</td>\n",
       "    </tr>\n",
       "    <tr>\n",
       "      <th>8</th>\n",
       "      <td>70</td>\n",
       "      <td>4.830918</td>\n",
       "    </tr>\n",
       "    <tr>\n",
       "      <th>1</th>\n",
       "      <td>51</td>\n",
       "      <td>3.519669</td>\n",
       "    </tr>\n",
       "    <tr>\n",
       "      <th>6</th>\n",
       "      <td>44</td>\n",
       "      <td>3.036577</td>\n",
       "    </tr>\n",
       "    <tr>\n",
       "      <th>12</th>\n",
       "      <td>36</td>\n",
       "      <td>2.484472</td>\n",
       "    </tr>\n",
       "    <tr>\n",
       "      <th>10</th>\n",
       "      <td>30</td>\n",
       "      <td>2.070393</td>\n",
       "    </tr>\n",
       "    <tr>\n",
       "      <th>7</th>\n",
       "      <td>15</td>\n",
       "      <td>1.035197</td>\n",
       "    </tr>\n",
       "    <tr>\n",
       "      <th>11</th>\n",
       "      <td>5</td>\n",
       "      <td>0.345066</td>\n",
       "    </tr>\n",
       "  </tbody>\n",
       "</table>\n",
       "</div>"
      ],
      "text/plain": [
       "    Count          %\n",
       "3     274  18.909593\n",
       "13    154  10.628019\n",
       "2     135   9.316770\n",
       "9     124   8.557626\n",
       "15    124   8.557626\n",
       "0     105   7.246377\n",
       "14    102   7.039337\n",
       "4      91   6.280193\n",
       "5      89   6.142167\n",
       "8      70   4.830918\n",
       "1      51   3.519669\n",
       "6      44   3.036577\n",
       "12     36   2.484472\n",
       "10     30   2.070393\n",
       "7      15   1.035197\n",
       "11      5   0.345066"
      ]
     },
     "execution_count": 53,
     "metadata": {},
     "output_type": "execute_result"
    }
   ],
   "source": [
    "#select unique values\n",
    "#building_metadata['site_id'].value_counts()\n",
    "#calculate the percentage of each type out of all buildings in this dataset\n",
    "#100*building_metadata['site_id'].value_counts()/len(building_metadata)\n",
    "#Put the counts and percentages in the same df\n",
    "site_id_df=pd.concat([building_metadata['site_id'].value_counts(),\n",
    "                           100*building_metadata['site_id'].value_counts()/len(building_metadata)],axis=1)\n",
    "site_id_df.columns=['Count','%']\n",
    "site_id_df.sort_values(by='Count',ascending=False)\n",
    "site_id_df"
   ]
  },
  {
   "cell_type": "markdown",
   "id": "d9371177",
   "metadata": {},
   "source": [
    "Sites 3 and 13 have the greatest percentages of the buildings."
   ]
  },
  {
   "cell_type": "markdown",
   "id": "f6c39b3f",
   "metadata": {},
   "source": [
    "What will be interesting to think about in the future are more details about the site ID. Its weather? Distribution of types of buildings? The energy use?"
   ]
  },
  {
   "cell_type": "code",
   "execution_count": 55,
   "id": "d5c41b81",
   "metadata": {},
   "outputs": [
    {
     "data": {
      "text/plain": [
       "Text(0.5, 0, 'Count')"
      ]
     },
     "execution_count": 55,
     "metadata": {},
     "output_type": "execute_result"
    },
    {
     "data": {
      "image/png": "[encoded data removed]",
      "text/plain": [
       "<Figure size 864x576 with 1 Axes>"
      ]
     },
     "metadata": {
      "needs_background": "light"
     },
     "output_type": "display_data"
    }
   ],
   "source": [
    "fig, ax = plt.subplots(1, 1, figsize=(12,8))\n",
    "building_metadata['site_id'].value_counts().plot(kind='barh', ax=ax)\n",
    "ax.set_title('Number of Buildings in Each Site')\n",
    "ax.set_xlabel('Count')"
   ]
  },
  {
   "cell_type": "markdown",
   "id": "1ae46c73",
   "metadata": {},
   "source": [
    "#### 1.6.1.3 Meters<a id='1.6.1.3_Meters'></a>"
   ]
  },
  {
   "cell_type": "markdown",
   "id": "b8f84455",
   "metadata": {},
   "source": [
    "How many of each meter does each type of building have? This is interesting to answer because the buildings can be different in the kind of energy that they consume\n",
    "\n",
    "To answer this question, I have to merge the building_metadata and the meter_data"
   ]
  },
  {
   "cell_type": "code",
   "execution_count": 92,
   "id": "716172a1",
   "metadata": {},
   "outputs": [
    {
     "data": {
      "text/html": [
       "<div>\n",
       "<style scoped>\n",
       "    .dataframe tbody tr th:only-of-type {\n",
       "        vertical-align: middle;\n",
       "    }\n",
       "\n",
       "    .dataframe tbody tr th {\n",
       "        vertical-align: top;\n",
       "    }\n",
       "\n",
       "    .dataframe thead th {\n",
       "        text-align: right;\n",
       "    }\n",
       "</style>\n",
       "<table border=\"1\" class=\"dataframe\">\n",
       "  <thead>\n",
       "    <tr style=\"text-align: right;\">\n",
       "      <th></th>\n",
       "      <th>building_id</th>\n",
       "      <th>meter</th>\n",
       "      <th>timestamp</th>\n",
       "      <th>meter_reading</th>\n",
       "      <th>site_id</th>\n",
       "      <th>primary_use</th>\n",
       "      <th>square_feet</th>\n",
       "      <th>year_built</th>\n",
       "      <th>floor_count</th>\n",
       "    </tr>\n",
       "  </thead>\n",
       "  <tbody>\n",
       "    <tr>\n",
       "      <th>0</th>\n",
       "      <td>0</td>\n",
       "      <td>0</td>\n",
       "      <td>2016-01-01 00:00:00</td>\n",
       "      <td>0.0</td>\n",
       "      <td>0</td>\n",
       "      <td>Education</td>\n",
       "      <td>7432</td>\n",
       "      <td>2008.0</td>\n",
       "      <td>NaN</td>\n",
       "    </tr>\n",
       "    <tr>\n",
       "      <th>1</th>\n",
       "      <td>0</td>\n",
       "      <td>0</td>\n",
       "      <td>2016-01-01 01:00:00</td>\n",
       "      <td>0.0</td>\n",
       "      <td>0</td>\n",
       "      <td>Education</td>\n",
       "      <td>7432</td>\n",
       "      <td>2008.0</td>\n",
       "      <td>NaN</td>\n",
       "    </tr>\n",
       "    <tr>\n",
       "      <th>2</th>\n",
       "      <td>0</td>\n",
       "      <td>0</td>\n",
       "      <td>2016-01-01 02:00:00</td>\n",
       "      <td>0.0</td>\n",
       "      <td>0</td>\n",
       "      <td>Education</td>\n",
       "      <td>7432</td>\n",
       "      <td>2008.0</td>\n",
       "      <td>NaN</td>\n",
       "    </tr>\n",
       "    <tr>\n",
       "      <th>3</th>\n",
       "      <td>0</td>\n",
       "      <td>0</td>\n",
       "      <td>2016-01-01 03:00:00</td>\n",
       "      <td>0.0</td>\n",
       "      <td>0</td>\n",
       "      <td>Education</td>\n",
       "      <td>7432</td>\n",
       "      <td>2008.0</td>\n",
       "      <td>NaN</td>\n",
       "    </tr>\n",
       "    <tr>\n",
       "      <th>4</th>\n",
       "      <td>0</td>\n",
       "      <td>0</td>\n",
       "      <td>2016-01-01 04:00:00</td>\n",
       "      <td>0.0</td>\n",
       "      <td>0</td>\n",
       "      <td>Education</td>\n",
       "      <td>7432</td>\n",
       "      <td>2008.0</td>\n",
       "      <td>NaN</td>\n",
       "    </tr>\n",
       "  </tbody>\n",
       "</table>\n",
       "</div>"
      ],
      "text/plain": [
       "   building_id  meter            timestamp  meter_reading  site_id  \\\n",
       "0            0      0  2016-01-01 00:00:00            0.0        0   \n",
       "1            0      0  2016-01-01 01:00:00            0.0        0   \n",
       "2            0      0  2016-01-01 02:00:00            0.0        0   \n",
       "3            0      0  2016-01-01 03:00:00            0.0        0   \n",
       "4            0      0  2016-01-01 04:00:00            0.0        0   \n",
       "\n",
       "  primary_use  square_feet  year_built  floor_count  \n",
       "0   Education         7432      2008.0          NaN  \n",
       "1   Education         7432      2008.0          NaN  \n",
       "2   Education         7432      2008.0          NaN  \n",
       "3   Education         7432      2008.0          NaN  \n",
       "4   Education         7432      2008.0          NaN  "
      ]
     },
     "execution_count": 92,
     "metadata": {},
     "output_type": "execute_result"
    }
   ],
   "source": [
    "building_meter_data=meter_data.merge(building_metadata,on='building_id')\n",
    "building_meter_data.head()\n",
    "#len(building_meter_data)==len(meter_data)"
   ]
  },
  {
   "cell_type": "markdown",
   "id": "e659fdbf",
   "metadata": {},
   "source": [
    "After merging, here I replace the 0, 1, 2, and 3 values under meter with their corresponding meter types. From there, I create new columns from the strings under meter and give them 1/0 values, so that I can group by building type and get the percentage of each meter type for all meter readings. I also merge to this dataset the distribution by counts and percentage of building type, so I can sort the final dataset by primary_use %."
   ]
  },
  {
   "cell_type": "code",
   "execution_count": 93,
   "id": "3811e8f4",
   "metadata": {},
   "outputs": [
    {
     "data": {
      "text/html": [
       "<div>\n",
       "<style scoped>\n",
       "    .dataframe tbody tr th:only-of-type {\n",
       "        vertical-align: middle;\n",
       "    }\n",
       "\n",
       "    .dataframe tbody tr th {\n",
       "        vertical-align: top;\n",
       "    }\n",
       "\n",
       "    .dataframe thead th {\n",
       "        text-align: right;\n",
       "    }\n",
       "</style>\n",
       "<table border=\"1\" class=\"dataframe\">\n",
       "  <thead>\n",
       "    <tr style=\"text-align: right;\">\n",
       "      <th></th>\n",
       "      <th>building_id</th>\n",
       "      <th>meter</th>\n",
       "      <th>timestamp</th>\n",
       "      <th>meter_reading</th>\n",
       "      <th>site_id</th>\n",
       "      <th>primary_use</th>\n",
       "      <th>square_feet</th>\n",
       "      <th>year_built</th>\n",
       "      <th>floor_count</th>\n",
       "      <th>meter_chilled_water</th>\n",
       "      <th>meter_electricity</th>\n",
       "      <th>meter_hot_water</th>\n",
       "      <th>meter_steam</th>\n",
       "    </tr>\n",
       "  </thead>\n",
       "  <tbody>\n",
       "    <tr>\n",
       "      <th>0</th>\n",
       "      <td>0</td>\n",
       "      <td>electricity</td>\n",
       "      <td>2016-01-01 00:00:00</td>\n",
       "      <td>0.0</td>\n",
       "      <td>0</td>\n",
       "      <td>Education</td>\n",
       "      <td>7432</td>\n",
       "      <td>2008.0</td>\n",
       "      <td>NaN</td>\n",
       "      <td>0</td>\n",
       "      <td>1</td>\n",
       "      <td>0</td>\n",
       "      <td>0</td>\n",
       "    </tr>\n",
       "    <tr>\n",
       "      <th>1</th>\n",
       "      <td>0</td>\n",
       "      <td>electricity</td>\n",
       "      <td>2016-01-01 01:00:00</td>\n",
       "      <td>0.0</td>\n",
       "      <td>0</td>\n",
       "      <td>Education</td>\n",
       "      <td>7432</td>\n",
       "      <td>2008.0</td>\n",
       "      <td>NaN</td>\n",
       "      <td>0</td>\n",
       "      <td>1</td>\n",
       "      <td>0</td>\n",
       "      <td>0</td>\n",
       "    </tr>\n",
       "    <tr>\n",
       "      <th>2</th>\n",
       "      <td>0</td>\n",
       "      <td>electricity</td>\n",
       "      <td>2016-01-01 02:00:00</td>\n",
       "      <td>0.0</td>\n",
       "      <td>0</td>\n",
       "      <td>Education</td>\n",
       "      <td>7432</td>\n",
       "      <td>2008.0</td>\n",
       "      <td>NaN</td>\n",
       "      <td>0</td>\n",
       "      <td>1</td>\n",
       "      <td>0</td>\n",
       "      <td>0</td>\n",
       "    </tr>\n",
       "    <tr>\n",
       "      <th>3</th>\n",
       "      <td>0</td>\n",
       "      <td>electricity</td>\n",
       "      <td>2016-01-01 03:00:00</td>\n",
       "      <td>0.0</td>\n",
       "      <td>0</td>\n",
       "      <td>Education</td>\n",
       "      <td>7432</td>\n",
       "      <td>2008.0</td>\n",
       "      <td>NaN</td>\n",
       "      <td>0</td>\n",
       "      <td>1</td>\n",
       "      <td>0</td>\n",
       "      <td>0</td>\n",
       "    </tr>\n",
       "    <tr>\n",
       "      <th>4</th>\n",
       "      <td>0</td>\n",
       "      <td>electricity</td>\n",
       "      <td>2016-01-01 04:00:00</td>\n",
       "      <td>0.0</td>\n",
       "      <td>0</td>\n",
       "      <td>Education</td>\n",
       "      <td>7432</td>\n",
       "      <td>2008.0</td>\n",
       "      <td>NaN</td>\n",
       "      <td>0</td>\n",
       "      <td>1</td>\n",
       "      <td>0</td>\n",
       "      <td>0</td>\n",
       "    </tr>\n",
       "  </tbody>\n",
       "</table>\n",
       "</div>"
      ],
      "text/plain": [
       "   building_id        meter            timestamp  meter_reading  site_id  \\\n",
       "0            0  electricity  2016-01-01 00:00:00            0.0        0   \n",
       "1            0  electricity  2016-01-01 01:00:00            0.0        0   \n",
       "2            0  electricity  2016-01-01 02:00:00            0.0        0   \n",
       "3            0  electricity  2016-01-01 03:00:00            0.0        0   \n",
       "4            0  electricity  2016-01-01 04:00:00            0.0        0   \n",
       "\n",
       "  primary_use  square_feet  year_built  floor_count  meter_chilled_water  \\\n",
       "0   Education         7432      2008.0          NaN                    0   \n",
       "1   Education         7432      2008.0          NaN                    0   \n",
       "2   Education         7432      2008.0          NaN                    0   \n",
       "3   Education         7432      2008.0          NaN                    0   \n",
       "4   Education         7432      2008.0          NaN                    0   \n",
       "\n",
       "   meter_electricity  meter_hot_water  meter_steam  \n",
       "0                  1                0            0  \n",
       "1                  1                0            0  \n",
       "2                  1                0            0  \n",
       "3                  1                0            0  \n",
       "4                  1                0            0  "
      ]
     },
     "execution_count": 93,
     "metadata": {},
     "output_type": "execute_result"
    }
   ],
   "source": [
    "building_meter_data['meter'] = building_meter_data['meter'].map({0:'electricity', 1:'chilled_water',2:'steam',3:'hot_water'}) \n",
    "dummy_meter = pd.get_dummies(building_meter_data['meter'], prefix='meter')\n",
    "building_meter_data = pd.merge(\n",
    "    left=building_meter_data,\n",
    "    right=dummy_meter,\n",
    "    left_index=True,\n",
    "    right_index=True,\n",
    ")\n",
    "building_meter_data.head()"
   ]
  },
  {
   "cell_type": "code",
   "execution_count": 94,
   "id": "b5dbeff1",
   "metadata": {},
   "outputs": [
    {
     "data": {
      "text/html": [
       "<div>\n",
       "<style scoped>\n",
       "    .dataframe tbody tr th:only-of-type {\n",
       "        vertical-align: middle;\n",
       "    }\n",
       "\n",
       "    .dataframe tbody tr th {\n",
       "        vertical-align: top;\n",
       "    }\n",
       "\n",
       "    .dataframe thead th {\n",
       "        text-align: right;\n",
       "    }\n",
       "</style>\n",
       "<table border=\"1\" class=\"dataframe\">\n",
       "  <thead>\n",
       "    <tr style=\"text-align: right;\">\n",
       "      <th></th>\n",
       "      <th>primary_use</th>\n",
       "      <th>meter_chilled_water</th>\n",
       "      <th>meter_electricity</th>\n",
       "      <th>meter_hot_water</th>\n",
       "      <th>meter_steam</th>\n",
       "      <th>Count</th>\n",
       "      <th>%</th>\n",
       "    </tr>\n",
       "  </thead>\n",
       "  <tbody>\n",
       "    <tr>\n",
       "      <th>0</th>\n",
       "      <td>Education</td>\n",
       "      <td>22.327158</td>\n",
       "      <td>56.300946</td>\n",
       "      <td>7.453355</td>\n",
       "      <td>13.918541</td>\n",
       "      <td>549</td>\n",
       "      <td>37.888199</td>\n",
       "    </tr>\n",
       "    <tr>\n",
       "      <th>1</th>\n",
       "      <td>Office</td>\n",
       "      <td>25.418284</td>\n",
       "      <td>52.565972</td>\n",
       "      <td>6.591558</td>\n",
       "      <td>15.424186</td>\n",
       "      <td>279</td>\n",
       "      <td>19.254658</td>\n",
       "    </tr>\n",
       "    <tr>\n",
       "      <th>2</th>\n",
       "      <td>Entertainment/public assembly</td>\n",
       "      <td>16.409564</td>\n",
       "      <td>66.726286</td>\n",
       "      <td>6.145391</td>\n",
       "      <td>10.718759</td>\n",
       "      <td>184</td>\n",
       "      <td>12.698413</td>\n",
       "    </tr>\n",
       "    <tr>\n",
       "      <th>3</th>\n",
       "      <td>Public services</td>\n",
       "      <td>10.817548</td>\n",
       "      <td>79.385636</td>\n",
       "      <td>4.752271</td>\n",
       "      <td>5.044545</td>\n",
       "      <td>156</td>\n",
       "      <td>10.766046</td>\n",
       "    </tr>\n",
       "    <tr>\n",
       "      <th>4</th>\n",
       "      <td>Lodging/residential</td>\n",
       "      <td>21.330145</td>\n",
       "      <td>57.262139</td>\n",
       "      <td>4.465590</td>\n",
       "      <td>16.942126</td>\n",
       "      <td>147</td>\n",
       "      <td>10.144928</td>\n",
       "    </tr>\n",
       "  </tbody>\n",
       "</table>\n",
       "</div>"
      ],
      "text/plain": [
       "                     primary_use  meter_chilled_water  meter_electricity  \\\n",
       "0                      Education            22.327158          56.300946   \n",
       "1                         Office            25.418284          52.565972   \n",
       "2  Entertainment/public assembly            16.409564          66.726286   \n",
       "3                Public services            10.817548          79.385636   \n",
       "4            Lodging/residential            21.330145          57.262139   \n",
       "\n",
       "   meter_hot_water  meter_steam  Count          %  \n",
       "0         7.453355    13.918541    549  37.888199  \n",
       "1         6.591558    15.424186    279  19.254658  \n",
       "2         6.145391    10.718759    184  12.698413  \n",
       "3         4.752271     5.044545    156  10.766046  \n",
       "4         4.465590    16.942126    147  10.144928  "
      ]
     },
     "execution_count": 94,
     "metadata": {},
     "output_type": "execute_result"
    }
   ],
   "source": [
    "primary_use_meters=building_meter_data.groupby('primary_use')[['meter_chilled_water','meter_electricity','meter_hot_water','meter_steam']].mean()*100\n",
    "primary_use_meters=primary_use_meters.merge(primary_use_df,on='primary_use')\n",
    "primary_use_meters=primary_use_meters.sort_values(by='%',ascending=False,ignore_index=True)\n",
    "primary_use_meters.head()"
   ]
  },
  {
   "cell_type": "code",
   "execution_count": 95,
   "id": "841d06b4",
   "metadata": {},
   "outputs": [
    {
     "data": {
      "text/plain": [
       "Text(0.5, 0, 'building type')"
      ]
     },
     "execution_count": 95,
     "metadata": {},
     "output_type": "execute_result"
    },
    {
     "data": {
      "image/png": "[encoded data removed]",
      "text/plain": [
       "<Figure size 1152x576 with 1 Axes>"
      ]
     },
     "metadata": {
      "needs_background": "light"
     },
     "output_type": "display_data"
    }
   ],
   "source": [
    "fig, ax = plt.subplots(1, 1, figsize=(16,8))\n",
    "primary_use_meters.plot(x=\"primary_use\", y=['meter_chilled_water','meter_electricity','meter_hot_water','meter_steam'], kind=\"bar\", ax=ax)\n",
    "ax.set_title('% of meter readings for each building type')\n",
    "ax.set_xlabel('building type')"
   ]
  },
  {
   "cell_type": "markdown",
   "id": "f94f52ee",
   "metadata": {},
   "source": [
    "From the bargraph above we see that:\n",
    "* all building types have mostly electricity meter readings. \n",
    "* Warehouse/Storage and Services don't have any chilled water meter readings. \n",
    "* 'Other', Parking, Warehouse/Storage, Manufacturing/industrial, Retail, Services, Utility, and Religious worship don't have any hot water meter readings \n",
    "* Retail and Religious worship don't have any steam meter readings. "
   ]
  },
  {
   "cell_type": "markdown",
   "id": "728aaa95",
   "metadata": {},
   "source": [
    "### 1.6.2 Numeric Features<a id='1.6.2_Numeric_Features'></a>"
   ]
  },
  {
   "cell_type": "markdown",
   "id": "7e48978f",
   "metadata": {},
   "source": [
    "#### 1.6.2.1 Numeric Data Summary<a id='1.6.2.1_Numeric_Data_Summary'></a>"
   ]
  },
  {
   "cell_type": "markdown",
   "id": "323d4f70",
   "metadata": {},
   "source": [
    "Before looking at the meter data, I will have to fix the electricity readings. According to the information in the kaggle competition, the unit for the electricity measurement is kBTU. So, to convert to kWh, I have to multiply by 0.2931. "
   ]
  },
  {
   "cell_type": "code",
   "execution_count": 103,
   "id": "228d8b30",
   "metadata": {},
   "outputs": [
    {
     "data": {
      "text/html": [
       "<div>\n",
       "<style scoped>\n",
       "    .dataframe tbody tr th:only-of-type {\n",
       "        vertical-align: middle;\n",
       "    }\n",
       "\n",
       "    .dataframe tbody tr th {\n",
       "        vertical-align: top;\n",
       "    }\n",
       "\n",
       "    .dataframe thead th {\n",
       "        text-align: right;\n",
       "    }\n",
       "</style>\n",
       "<table border=\"1\" class=\"dataframe\">\n",
       "  <thead>\n",
       "    <tr style=\"text-align: right;\">\n",
       "      <th></th>\n",
       "      <th>building_id</th>\n",
       "      <th>meter</th>\n",
       "      <th>timestamp</th>\n",
       "      <th>meter_reading</th>\n",
       "    </tr>\n",
       "  </thead>\n",
       "  <tbody>\n",
       "    <tr>\n",
       "      <th>172</th>\n",
       "      <td>161</td>\n",
       "      <td>1</td>\n",
       "      <td>2016-01-01 00:00:00</td>\n",
       "      <td>0.000000</td>\n",
       "    </tr>\n",
       "    <tr>\n",
       "      <th>174</th>\n",
       "      <td>162</td>\n",
       "      <td>1</td>\n",
       "      <td>2016-01-01 00:00:00</td>\n",
       "      <td>0.000000</td>\n",
       "    </tr>\n",
       "    <tr>\n",
       "      <th>176</th>\n",
       "      <td>163</td>\n",
       "      <td>1</td>\n",
       "      <td>2016-01-01 00:00:00</td>\n",
       "      <td>1.340024</td>\n",
       "    </tr>\n",
       "    <tr>\n",
       "      <th>181</th>\n",
       "      <td>166</td>\n",
       "      <td>1</td>\n",
       "      <td>2016-01-01 00:00:00</td>\n",
       "      <td>61.517587</td>\n",
       "    </tr>\n",
       "    <tr>\n",
       "      <th>184</th>\n",
       "      <td>167</td>\n",
       "      <td>1</td>\n",
       "      <td>2016-01-01 00:00:00</td>\n",
       "      <td>0.000000</td>\n",
       "    </tr>\n",
       "  </tbody>\n",
       "</table>\n",
       "</div>"
      ],
      "text/plain": [
       "     building_id  meter            timestamp  meter_reading\n",
       "172          161      1  2016-01-01 00:00:00       0.000000\n",
       "174          162      1  2016-01-01 00:00:00       0.000000\n",
       "176          163      1  2016-01-01 00:00:00       1.340024\n",
       "181          166      1  2016-01-01 00:00:00      61.517587\n",
       "184          167      1  2016-01-01 00:00:00       0.000000"
      ]
     },
     "execution_count": 103,
     "metadata": {},
     "output_type": "execute_result"
    }
   ],
   "source": [
    "meter_data[meter_data['meter']==1].head()"
   ]
  },
  {
   "cell_type": "code",
   "execution_count": 104,
   "id": "bafa1c70",
   "metadata": {},
   "outputs": [
    {
     "data": {
      "text/plain": [
       "172     0.000000\n",
       "174     0.000000\n",
       "176     0.392761\n",
       "181    18.030805\n",
       "184     0.000000\n",
       "Name: meter_reading, dtype: float64"
      ]
     },
     "execution_count": 104,
     "metadata": {},
     "output_type": "execute_result"
    }
   ],
   "source": [
    "corrected_values=meter_data[meter_data['meter']==1]['meter_reading']*0.2931\n",
    "corrected_meter_data=meter_data\n",
    "corrected_meter_data.loc[corrected_meter_data['meter']==1,'meter_reading']=corrected_values\n",
    "corrected_meter_data[corrected_meter_data['meter']==1]['meter_reading'].head()"
   ]
  },
  {
   "cell_type": "code",
   "execution_count": 105,
   "id": "5dcc7cf6",
   "metadata": {},
   "outputs": [
    {
     "data": {
      "text/html": [
       "<div>\n",
       "<style scoped>\n",
       "    .dataframe tbody tr th:only-of-type {\n",
       "        vertical-align: middle;\n",
       "    }\n",
       "\n",
       "    .dataframe tbody tr th {\n",
       "        vertical-align: top;\n",
       "    }\n",
       "\n",
       "    .dataframe thead th {\n",
       "        text-align: right;\n",
       "    }\n",
       "</style>\n",
       "<table border=\"1\" class=\"dataframe\">\n",
       "  <thead>\n",
       "    <tr style=\"text-align: right;\">\n",
       "      <th></th>\n",
       "      <th>count</th>\n",
       "      <th>mean</th>\n",
       "      <th>std</th>\n",
       "      <th>min</th>\n",
       "      <th>25%</th>\n",
       "      <th>50%</th>\n",
       "      <th>75%</th>\n",
       "      <th>max</th>\n",
       "    </tr>\n",
       "  </thead>\n",
       "  <tbody>\n",
       "    <tr>\n",
       "      <th>building_id</th>\n",
       "      <td>20216100.0</td>\n",
       "      <td>799.278000</td>\n",
       "      <td>426.913309</td>\n",
       "      <td>0.0</td>\n",
       "      <td>393.000000</td>\n",
       "      <td>895.0000</td>\n",
       "      <td>1179.0</td>\n",
       "      <td>1448.0</td>\n",
       "    </tr>\n",
       "    <tr>\n",
       "      <th>meter</th>\n",
       "      <td>20216100.0</td>\n",
       "      <td>0.662441</td>\n",
       "      <td>0.930992</td>\n",
       "      <td>0.0</td>\n",
       "      <td>0.000000</td>\n",
       "      <td>0.0000</td>\n",
       "      <td>1.0</td>\n",
       "      <td>3.0</td>\n",
       "    </tr>\n",
       "    <tr>\n",
       "      <th>meter_reading</th>\n",
       "      <td>20216100.0</td>\n",
       "      <td>1997.343434</td>\n",
       "      <td>153194.199918</td>\n",
       "      <td>0.0</td>\n",
       "      <td>10.519473</td>\n",
       "      <td>50.8801</td>\n",
       "      <td>176.9</td>\n",
       "      <td>21904700.0</td>\n",
       "    </tr>\n",
       "  </tbody>\n",
       "</table>\n",
       "</div>"
      ],
      "text/plain": [
       "                    count         mean            std  min         25%  \\\n",
       "building_id    20216100.0   799.278000     426.913309  0.0  393.000000   \n",
       "meter          20216100.0     0.662441       0.930992  0.0    0.000000   \n",
       "meter_reading  20216100.0  1997.343434  153194.199918  0.0   10.519473   \n",
       "\n",
       "                    50%     75%         max  \n",
       "building_id    895.0000  1179.0      1448.0  \n",
       "meter            0.0000     1.0         3.0  \n",
       "meter_reading   50.8801   176.9  21904700.0  "
      ]
     },
     "execution_count": 105,
     "metadata": {},
     "output_type": "execute_result"
    }
   ],
   "source": [
    "corrected_meter_data.describe().T"
   ]
  },
  {
   "cell_type": "markdown",
   "id": "d4688293",
   "metadata": {},
   "source": [
    "what is interesting to get an idea of is:\n",
    " * How many meter recordings are there for each building? In other words, do we have enough meter readings for each building?\n",
    " * How much data do we have for each type of meter for each building?\n",
    " * We could even go further and see if we have enough data for each type of building (e.g., education, office, etc)\n",
    "     * In the case that we don't have enough data, we will have to assess if this data is worth keeping\n",
    "     * I've answered some of this to some degree above\n",
    " * What are the mean, std, min, etc. for each type of meter? How much do they differ?\n",
    "     \n",
    "* To check whether the meter reading values make sense, I looked up from [EIA the electricity consumption totals for buildings](https://www.eia.gov/consumption/commercial/data/2012/c&e/cfm/pba4.php). According to the chart, a building consumes 14.6 kWh/sqft of electricity a year. This number corresponds to 362 kWh per hour for a 200,000 sqft building. While this value is larger than what the data contains, it is about the same order of magnitude. "
   ]
  },
  {
   "cell_type": "code",
   "execution_count": 106,
   "id": "e045f6ec",
   "metadata": {},
   "outputs": [
    {
     "data": {
      "text/html": [
       "<div>\n",
       "<style scoped>\n",
       "    .dataframe tbody tr th:only-of-type {\n",
       "        vertical-align: middle;\n",
       "    }\n",
       "\n",
       "    .dataframe tbody tr th {\n",
       "        vertical-align: top;\n",
       "    }\n",
       "\n",
       "    .dataframe thead th {\n",
       "        text-align: right;\n",
       "    }\n",
       "</style>\n",
       "<table border=\"1\" class=\"dataframe\">\n",
       "  <thead>\n",
       "    <tr style=\"text-align: right;\">\n",
       "      <th></th>\n",
       "      <th>count</th>\n",
       "      <th>mean</th>\n",
       "      <th>std</th>\n",
       "      <th>min</th>\n",
       "      <th>25%</th>\n",
       "      <th>50%</th>\n",
       "      <th>75%</th>\n",
       "      <th>max</th>\n",
       "    </tr>\n",
       "  </thead>\n",
       "  <tbody>\n",
       "    <tr>\n",
       "      <th>site_id</th>\n",
       "      <td>1449.0</td>\n",
       "      <td>6.952381</td>\n",
       "      <td>5.003432</td>\n",
       "      <td>0.0</td>\n",
       "      <td>3.0</td>\n",
       "      <td>5.0</td>\n",
       "      <td>13.0</td>\n",
       "      <td>15.0</td>\n",
       "    </tr>\n",
       "    <tr>\n",
       "      <th>building_id</th>\n",
       "      <td>1449.0</td>\n",
       "      <td>724.000000</td>\n",
       "      <td>418.434583</td>\n",
       "      <td>0.0</td>\n",
       "      <td>362.0</td>\n",
       "      <td>724.0</td>\n",
       "      <td>1086.0</td>\n",
       "      <td>1448.0</td>\n",
       "    </tr>\n",
       "    <tr>\n",
       "      <th>square_feet</th>\n",
       "      <td>1449.0</td>\n",
       "      <td>92111.776398</td>\n",
       "      <td>110769.950997</td>\n",
       "      <td>283.0</td>\n",
       "      <td>23012.0</td>\n",
       "      <td>57673.0</td>\n",
       "      <td>115676.0</td>\n",
       "      <td>875000.0</td>\n",
       "    </tr>\n",
       "    <tr>\n",
       "      <th>year_built</th>\n",
       "      <td>675.0</td>\n",
       "      <td>1967.957037</td>\n",
       "      <td>31.054030</td>\n",
       "      <td>1900.0</td>\n",
       "      <td>1949.0</td>\n",
       "      <td>1970.0</td>\n",
       "      <td>1995.0</td>\n",
       "      <td>2017.0</td>\n",
       "    </tr>\n",
       "    <tr>\n",
       "      <th>floor_count</th>\n",
       "      <td>355.0</td>\n",
       "      <td>3.740845</td>\n",
       "      <td>3.333683</td>\n",
       "      <td>1.0</td>\n",
       "      <td>1.0</td>\n",
       "      <td>3.0</td>\n",
       "      <td>5.0</td>\n",
       "      <td>26.0</td>\n",
       "    </tr>\n",
       "  </tbody>\n",
       "</table>\n",
       "</div>"
      ],
      "text/plain": [
       "              count          mean            std     min      25%      50%  \\\n",
       "site_id      1449.0      6.952381       5.003432     0.0      3.0      5.0   \n",
       "building_id  1449.0    724.000000     418.434583     0.0    362.0    724.0   \n",
       "square_feet  1449.0  92111.776398  110769.950997   283.0  23012.0  57673.0   \n",
       "year_built    675.0   1967.957037      31.054030  1900.0   1949.0   1970.0   \n",
       "floor_count   355.0      3.740845       3.333683     1.0      1.0      3.0   \n",
       "\n",
       "                  75%       max  \n",
       "site_id          13.0      15.0  \n",
       "building_id    1086.0    1448.0  \n",
       "square_feet  115676.0  875000.0  \n",
       "year_built     1995.0    2017.0  \n",
       "floor_count       5.0      26.0  "
      ]
     },
     "execution_count": 106,
     "metadata": {},
     "output_type": "execute_result"
    }
   ],
   "source": [
    "building_metadata.describe().T"
   ]
  },
  {
   "cell_type": "code",
   "execution_count": 107,
   "id": "1fbb6c97",
   "metadata": {},
   "outputs": [
    {
     "data": {
      "text/html": [
       "<div>\n",
       "<style scoped>\n",
       "    .dataframe tbody tr th:only-of-type {\n",
       "        vertical-align: middle;\n",
       "    }\n",
       "\n",
       "    .dataframe tbody tr th {\n",
       "        vertical-align: top;\n",
       "    }\n",
       "\n",
       "    .dataframe thead th {\n",
       "        text-align: right;\n",
       "    }\n",
       "</style>\n",
       "<table border=\"1\" class=\"dataframe\">\n",
       "  <thead>\n",
       "    <tr style=\"text-align: right;\">\n",
       "      <th></th>\n",
       "      <th>count</th>\n",
       "      <th>mean</th>\n",
       "      <th>std</th>\n",
       "      <th>min</th>\n",
       "      <th>25%</th>\n",
       "      <th>50%</th>\n",
       "      <th>75%</th>\n",
       "      <th>max</th>\n",
       "    </tr>\n",
       "  </thead>\n",
       "  <tbody>\n",
       "    <tr>\n",
       "      <th>site_id</th>\n",
       "      <td>139773.0</td>\n",
       "      <td>7.478977</td>\n",
       "      <td>4.604744</td>\n",
       "      <td>0.0</td>\n",
       "      <td>3.0</td>\n",
       "      <td>7.0</td>\n",
       "      <td>11.0</td>\n",
       "      <td>15.0</td>\n",
       "    </tr>\n",
       "    <tr>\n",
       "      <th>air_temperature</th>\n",
       "      <td>139718.0</td>\n",
       "      <td>14.418106</td>\n",
       "      <td>10.626595</td>\n",
       "      <td>-28.9</td>\n",
       "      <td>7.2</td>\n",
       "      <td>15.0</td>\n",
       "      <td>22.2</td>\n",
       "      <td>47.2</td>\n",
       "    </tr>\n",
       "    <tr>\n",
       "      <th>cloud_coverage</th>\n",
       "      <td>70600.0</td>\n",
       "      <td>2.149306</td>\n",
       "      <td>2.599150</td>\n",
       "      <td>0.0</td>\n",
       "      <td>0.0</td>\n",
       "      <td>2.0</td>\n",
       "      <td>4.0</td>\n",
       "      <td>9.0</td>\n",
       "    </tr>\n",
       "    <tr>\n",
       "      <th>dew_temperature</th>\n",
       "      <td>139660.0</td>\n",
       "      <td>7.350158</td>\n",
       "      <td>9.790235</td>\n",
       "      <td>-35.0</td>\n",
       "      <td>0.6</td>\n",
       "      <td>8.3</td>\n",
       "      <td>14.4</td>\n",
       "      <td>26.1</td>\n",
       "    </tr>\n",
       "    <tr>\n",
       "      <th>precip_depth_1_hr</th>\n",
       "      <td>89484.0</td>\n",
       "      <td>0.983047</td>\n",
       "      <td>8.463678</td>\n",
       "      <td>-1.0</td>\n",
       "      <td>0.0</td>\n",
       "      <td>0.0</td>\n",
       "      <td>0.0</td>\n",
       "      <td>343.0</td>\n",
       "    </tr>\n",
       "    <tr>\n",
       "      <th>sea_level_pressure</th>\n",
       "      <td>129155.0</td>\n",
       "      <td>1016.158038</td>\n",
       "      <td>7.629684</td>\n",
       "      <td>968.2</td>\n",
       "      <td>1011.8</td>\n",
       "      <td>1016.4</td>\n",
       "      <td>1020.8</td>\n",
       "      <td>1045.5</td>\n",
       "    </tr>\n",
       "    <tr>\n",
       "      <th>wind_direction</th>\n",
       "      <td>133505.0</td>\n",
       "      <td>180.526632</td>\n",
       "      <td>111.523629</td>\n",
       "      <td>0.0</td>\n",
       "      <td>80.0</td>\n",
       "      <td>190.0</td>\n",
       "      <td>280.0</td>\n",
       "      <td>360.0</td>\n",
       "    </tr>\n",
       "    <tr>\n",
       "      <th>wind_speed</th>\n",
       "      <td>139469.0</td>\n",
       "      <td>3.560527</td>\n",
       "      <td>2.335874</td>\n",
       "      <td>0.0</td>\n",
       "      <td>2.1</td>\n",
       "      <td>3.1</td>\n",
       "      <td>5.0</td>\n",
       "      <td>19.0</td>\n",
       "    </tr>\n",
       "  </tbody>\n",
       "</table>\n",
       "</div>"
      ],
      "text/plain": [
       "                       count         mean         std    min     25%     50%  \\\n",
       "site_id             139773.0     7.478977    4.604744    0.0     3.0     7.0   \n",
       "air_temperature     139718.0    14.418106   10.626595  -28.9     7.2    15.0   \n",
       "cloud_coverage       70600.0     2.149306    2.599150    0.0     0.0     2.0   \n",
       "dew_temperature     139660.0     7.350158    9.790235  -35.0     0.6     8.3   \n",
       "precip_depth_1_hr    89484.0     0.983047    8.463678   -1.0     0.0     0.0   \n",
       "sea_level_pressure  129155.0  1016.158038    7.629684  968.2  1011.8  1016.4   \n",
       "wind_direction      133505.0   180.526632  111.523629    0.0    80.0   190.0   \n",
       "wind_speed          139469.0     3.560527    2.335874    0.0     2.1     3.1   \n",
       "\n",
       "                       75%     max  \n",
       "site_id               11.0    15.0  \n",
       "air_temperature       22.2    47.2  \n",
       "cloud_coverage         4.0     9.0  \n",
       "dew_temperature       14.4    26.1  \n",
       "precip_depth_1_hr      0.0   343.0  \n",
       "sea_level_pressure  1020.8  1045.5  \n",
       "wind_direction       280.0   360.0  \n",
       "wind_speed             5.0    19.0  "
      ]
     },
     "execution_count": 107,
     "metadata": {},
     "output_type": "execute_result"
    }
   ],
   "source": [
    "weather_data.describe().T"
   ]
  },
  {
   "cell_type": "markdown",
   "id": "2c732fab",
   "metadata": {},
   "source": [
    "Weather data was collected from a meteorological station as close as possible to the site.\n",
    "* site_id\n",
    "* air_temperature - Degrees Celsius\n",
    "* [cloud_coverage](https://polarpedia.eu/en/okta-scale/#:~:text=1%20okta%20represents%20a%20cloud,fog%20or%20other%20meteorological%20phenomena.) - Portion of the sky covered in clouds, in oktas\n",
    "* [dew_temperature](https://www.weather.gov/arx/why_dewpoint_vs_humidity) - Degrees Celsius\n",
    "* [precip_depth_1_hr](https://water.usgs.gov/edu/activity-howmuchrain-metric.html) - Millimeters\n",
    "* [sea_level_pressure](https://en.wikipedia.org/wiki/Atmospheric_pressure#:~:text=Average%20sea%2Dlevel%20pressure%20is,29.921%20inHg%3B%20760.00%20mmHg) - Millibar/hectopascals\n",
    "* wind_direction - Compass direction (0-360)\n",
    "* [wind_speed](http://gyre.umeoce.maine.edu/data/gomoos/buoy/php/variable_description.php?variable=wind_2_speed) - Meters per second\n",
    "\n",
    "Things to keep in mind for data cleaning:\n",
    "\n",
    "* Here we observe a precipitation depth of -1 mm. Is this something that makes sense? Should this be converted to 0 mm? How many of the values come out as negative and may have to be changed to 0 or null?\n",
    "\n",
    "* According to USGS, a rainfall greater than 50 mm depth is a violent shower. The max in this dataset is 343 mm. Is this plausible or too high? Could this be a rare event? It looks like this is an outlier. The mean is 0.98 and the median is 0.0\n",
    "\n",
    "* Average sea level pressure is 1013.25 mbar. This is close to the average in this dataset.\n",
    "\n"
   ]
  },
  {
   "cell_type": "markdown",
   "id": "1c086f83",
   "metadata": {},
   "source": [
    "#### 1.6.2.2 Numeric Data Distribution<a id='1.6.2.2_Numeric_Data_Distribution'></a>"
   ]
  },
  {
   "cell_type": "code",
   "execution_count": 108,
   "id": "39272d59",
   "metadata": {},
   "outputs": [
    {
     "data": {
      "image/png": "[encoded data removed]",
      "text/plain": [
       "<Figure size 1080x720 with 4 Axes>"
      ]
     },
     "metadata": {
      "needs_background": "light"
     },
     "output_type": "display_data"
    }
   ],
   "source": [
    "corrected_meter_data.hist(figsize=(15,10))\n",
    "plt.subplots_adjust(hspace=0.5);"
   ]
  },
  {
   "cell_type": "markdown",
   "id": "0035d857",
   "metadata": {},
   "source": [
    "* there are a lot more readings from the meter 0, which is for electricity\n",
    "* Not sure how relevant this is... but there are more buildings of those with IDs 700 to 1400... maybe these are more of the education type?\n",
    "* The meter_reading histogram and the description table with simple statistics clearly shows there is an outlier. The max for the meter reading is 21904700.0!!!\n",
    "* I need to investigate this issue with the meter further. \n",
    "    * what is a meter reading that makes sense?\n",
    "    * What buildings are recording that crazy value for the meter readings? what type of meters are these?\n",
    "    * To get started, I will get the number of meters out of all of the data reading greater than:\n",
    "        * 2e7\n",
    "        * 1e7\n",
    "        * 1e6\n",
    "        * 1e5\n",
    "        * 1e4\n",
    "        * 1e3\n",
    "        * 1e2\n",
    "        * 1"
   ]
  },
  {
   "cell_type": "code",
   "execution_count": 109,
   "id": "72973f3e",
   "metadata": {},
   "outputs": [
    {
     "data": {
      "image/png": "[encoded data removed]",
      "text/plain": [
       "<Figure size 1080x720 with 6 Axes>"
      ]
     },
     "metadata": {
      "needs_background": "light"
     },
     "output_type": "display_data"
    }
   ],
   "source": [
    "building_metadata.hist(figsize=(15,10))\n",
    "plt.subplots_adjust(hspace=0.5);"
   ]
  },
  {
   "cell_type": "markdown",
   "id": "ef1c8f4b",
   "metadata": {},
   "source": [
    "The building characteristics dataset looks okay to me. \n",
    "\n",
    "* There are some outliers with bigger buildings. It may be interesting to grab more details about these buildings. What type of buildings are these? Do they consume a lot of energy?\n",
    "* Most of the buildings were built after 1960. How related is energy consumption to the year that it was built? It should be noted that we are missing half of the year_built values. \n",
    "* Also, it should be noted that we are also missing 75% of the floor_count values.\n",
    "* Another thing that could be checked as I go through this project is whether floor count and square_feet correlate. If so, floor_count could be removed since it is missing a lot of the data and square_feet could be enough to capture the influence of building size on energy consumption."
   ]
  },
  {
   "cell_type": "code",
   "execution_count": 110,
   "id": "06a074a1",
   "metadata": {},
   "outputs": [
    {
     "data": {
      "text/plain": [
       "<AxesSubplot:xlabel='square_feet', ylabel='floor_count'>"
      ]
     },
     "execution_count": 110,
     "metadata": {},
     "output_type": "execute_result"
    },
    {
     "data": {
      "image/png": "[encoded data removed]",
      "text/plain": [
       "<Figure size 288x288 with 1 Axes>"
      ]
     },
     "metadata": {
      "needs_background": "light"
     },
     "output_type": "display_data"
    }
   ],
   "source": [
    "fig, ax = plt.subplots(1, 1, figsize=(4,4))\n",
    "building_metadata.plot(x=\"square_feet\", y='floor_count', kind=\"scatter\", ax=ax)"
   ]
  },
  {
   "cell_type": "markdown",
   "id": "e1b77a67",
   "metadata": {},
   "source": [
    "They don't... "
   ]
  },
  {
   "cell_type": "code",
   "execution_count": 111,
   "id": "d77f3e8b",
   "metadata": {},
   "outputs": [
    {
     "data": {
      "image/png": "[encoded data removed]",
      "text/plain": [
       "<Figure size 1080x720 with 9 Axes>"
      ]
     },
     "metadata": {
      "needs_background": "light"
     },
     "output_type": "display_data"
    }
   ],
   "source": [
    "weather_data.hist(figsize=(15,10))\n",
    "plt.subplots_adjust(hspace=0.5);"
   ]
  },
  {
   "cell_type": "markdown",
   "id": "53e7527c",
   "metadata": {},
   "source": [
    "I need to remember this data is collected for each timestamp in all of 2016 for each site_id"
   ]
  },
  {
   "cell_type": "markdown",
   "id": "766e51e4",
   "metadata": {},
   "source": [
    "### 1.6.3 Identifying Potential Outliers<a id='1.6.3_Identifying_Potential_Outliers'></a>"
   ]
  },
  {
   "cell_type": "markdown",
   "id": "701f047f",
   "metadata": {},
   "source": [
    "In section 1.6.2, I identified features that could potentially contain outliers. These features are:\n",
    "   * meter_reading\n",
    "   * precip_depth_1_hr\n",
    "    \n",
    "Other features that are skewed and worth looking at are:\n",
    "   * square_feet\n",
    "   * floor_count\n",
    "\n",
    "While cloud_coverage and wind_speed are also skewed, after checking online what appropriate values for these features are, I realized they are okay. For these in particular, what should be kept in mind is whether floor_count column should be removed since it is missing 75% of the data."
   ]
  },
  {
   "cell_type": "markdown",
   "id": "c1b72c53",
   "metadata": {},
   "source": [
    "#### 1.6.3.1 Potential Outliers in meter_reading<a id='1.6.3.1_Potential_Outliers_in_meter_reading'></a>"
   ]
  },
  {
   "cell_type": "code",
   "execution_count": 112,
   "id": "2447bc91",
   "metadata": {},
   "outputs": [
    {
     "data": {
      "text/plain": [
       "<AxesSubplot:>"
      ]
     },
     "execution_count": 112,
     "metadata": {},
     "output_type": "execute_result"
    },
    {
     "data": {
      "image/png": "[encoded data removed]",
      "text/plain": [
       "<Figure size 432x288 with 1 Axes>"
      ]
     },
     "metadata": {
      "needs_background": "light"
     },
     "output_type": "display_data"
    }
   ],
   "source": [
    "corrected_meter_data['meter_reading'].hist(bins=20)"
   ]
  },
  {
   "cell_type": "markdown",
   "id": "a1c33dad",
   "metadata": {},
   "source": [
    "* The meter_reading histogram and the description table with simple statistics clearly shows there is an outlier. The max for the meter reading is 21904700.0!!!\n",
    "    * what is a meter reading that makes sense? - After checking the EIA website, no more than hundreds magnitude\n",
    "    * What buildings are recording that crazy value for the meter readings? what type of meters are these?\n",
    "    * To get started, I will get the number of meters out of all of the data reading greater than:\n",
    "        * 2e7\n",
    "        * 1e7\n",
    "        * 1e6\n",
    "        * 1e5\n",
    "        * 1e4\n",
    "        * 1e3\n",
    "        * 1e2\n",
    "        * 1"
   ]
  },
  {
   "cell_type": "code",
   "execution_count": 113,
   "id": "59cacbcb",
   "metadata": {},
   "outputs": [
    {
     "name": "stderr",
     "output_type": "stream",
     "text": [
      "C:\\Users\\baro284\\AppData\\Local\\Temp\\ipykernel_18156\\1460016286.py:7: FutureWarning: The frame.append method is deprecated and will be removed from pandas in a future version. Use pandas.concat instead.\n",
      "  thresholds_df=thresholds_df.append({'Reading Threshold (kWh)':threshold,\n",
      "C:\\Users\\baro284\\AppData\\Local\\Temp\\ipykernel_18156\\1460016286.py:7: FutureWarning: The frame.append method is deprecated and will be removed from pandas in a future version. Use pandas.concat instead.\n",
      "  thresholds_df=thresholds_df.append({'Reading Threshold (kWh)':threshold,\n",
      "C:\\Users\\baro284\\AppData\\Local\\Temp\\ipykernel_18156\\1460016286.py:7: FutureWarning: The frame.append method is deprecated and will be removed from pandas in a future version. Use pandas.concat instead.\n",
      "  thresholds_df=thresholds_df.append({'Reading Threshold (kWh)':threshold,\n",
      "C:\\Users\\baro284\\AppData\\Local\\Temp\\ipykernel_18156\\1460016286.py:7: FutureWarning: The frame.append method is deprecated and will be removed from pandas in a future version. Use pandas.concat instead.\n",
      "  thresholds_df=thresholds_df.append({'Reading Threshold (kWh)':threshold,\n",
      "C:\\Users\\baro284\\AppData\\Local\\Temp\\ipykernel_18156\\1460016286.py:7: FutureWarning: The frame.append method is deprecated and will be removed from pandas in a future version. Use pandas.concat instead.\n",
      "  thresholds_df=thresholds_df.append({'Reading Threshold (kWh)':threshold,\n",
      "C:\\Users\\baro284\\AppData\\Local\\Temp\\ipykernel_18156\\1460016286.py:7: FutureWarning: The frame.append method is deprecated and will be removed from pandas in a future version. Use pandas.concat instead.\n",
      "  thresholds_df=thresholds_df.append({'Reading Threshold (kWh)':threshold,\n",
      "C:\\Users\\baro284\\AppData\\Local\\Temp\\ipykernel_18156\\1460016286.py:7: FutureWarning: The frame.append method is deprecated and will be removed from pandas in a future version. Use pandas.concat instead.\n",
      "  thresholds_df=thresholds_df.append({'Reading Threshold (kWh)':threshold,\n",
      "C:\\Users\\baro284\\AppData\\Local\\Temp\\ipykernel_18156\\1460016286.py:7: FutureWarning: The frame.append method is deprecated and will be removed from pandas in a future version. Use pandas.concat instead.\n",
      "  thresholds_df=thresholds_df.append({'Reading Threshold (kWh)':threshold,\n",
      "C:\\Users\\baro284\\AppData\\Local\\Temp\\ipykernel_18156\\1460016286.py:7: FutureWarning: The frame.append method is deprecated and will be removed from pandas in a future version. Use pandas.concat instead.\n",
      "  thresholds_df=thresholds_df.append({'Reading Threshold (kWh)':threshold,\n"
     ]
    },
    {
     "data": {
      "text/html": [
       "<div>\n",
       "<style scoped>\n",
       "    .dataframe tbody tr th:only-of-type {\n",
       "        vertical-align: middle;\n",
       "    }\n",
       "\n",
       "    .dataframe tbody tr th {\n",
       "        vertical-align: top;\n",
       "    }\n",
       "\n",
       "    .dataframe thead th {\n",
       "        text-align: right;\n",
       "    }\n",
       "</style>\n",
       "<table border=\"1\" class=\"dataframe\">\n",
       "  <thead>\n",
       "    <tr style=\"text-align: right;\">\n",
       "      <th></th>\n",
       "      <th>Reading Threshold (kWh)</th>\n",
       "      <th>Count</th>\n",
       "      <th>% of All Readings Greater than Threshold</th>\n",
       "    </tr>\n",
       "  </thead>\n",
       "  <tbody>\n",
       "    <tr>\n",
       "      <th>0</th>\n",
       "      <td>1.0</td>\n",
       "      <td>17695832.0</td>\n",
       "      <td>87.533362</td>\n",
       "    </tr>\n",
       "    <tr>\n",
       "      <th>1</th>\n",
       "      <td>100.0</td>\n",
       "      <td>7315160.0</td>\n",
       "      <td>36.184823</td>\n",
       "    </tr>\n",
       "    <tr>\n",
       "      <th>2</th>\n",
       "      <td>500.0</td>\n",
       "      <td>2164360.0</td>\n",
       "      <td>10.70612</td>\n",
       "    </tr>\n",
       "    <tr>\n",
       "      <th>3</th>\n",
       "      <td>1000.0</td>\n",
       "      <td>1096003.0</td>\n",
       "      <td>5.421436</td>\n",
       "    </tr>\n",
       "    <tr>\n",
       "      <th>4</th>\n",
       "      <td>10000.0</td>\n",
       "      <td>83569.0</td>\n",
       "      <td>0.413378</td>\n",
       "    </tr>\n",
       "    <tr>\n",
       "      <th>5</th>\n",
       "      <td>100000.0</td>\n",
       "      <td>4331.0</td>\n",
       "      <td>0.021424</td>\n",
       "    </tr>\n",
       "    <tr>\n",
       "      <th>6</th>\n",
       "      <td>1000000.0</td>\n",
       "      <td>3067.0</td>\n",
       "      <td>0.015171</td>\n",
       "    </tr>\n",
       "    <tr>\n",
       "      <th>7</th>\n",
       "      <td>10000000.0</td>\n",
       "      <td>1498.0</td>\n",
       "      <td>0.00741</td>\n",
       "    </tr>\n",
       "    <tr>\n",
       "      <th>8</th>\n",
       "      <td>20000000.0</td>\n",
       "      <td>83.0</td>\n",
       "      <td>0.000411</td>\n",
       "    </tr>\n",
       "  </tbody>\n",
       "</table>\n",
       "</div>"
      ],
      "text/plain": [
       "  Reading Threshold (kWh)       Count % of All Readings Greater than Threshold\n",
       "0                     1.0  17695832.0                                87.533362\n",
       "1                   100.0   7315160.0                                36.184823\n",
       "2                   500.0   2164360.0                                 10.70612\n",
       "3                  1000.0   1096003.0                                 5.421436\n",
       "4                 10000.0     83569.0                                 0.413378\n",
       "5                100000.0      4331.0                                 0.021424\n",
       "6               1000000.0      3067.0                                 0.015171\n",
       "7              10000000.0      1498.0                                  0.00741\n",
       "8              20000000.0        83.0                                 0.000411"
      ]
     },
     "execution_count": 113,
     "metadata": {},
     "output_type": "execute_result"
    }
   ],
   "source": [
    "thresholds=[1,1e2,5e2,1e3,1e4,1e5,1e6,1e7,2e7]\n",
    "thresholds_df=pd.DataFrame(columns=['Reading Threshold (kWh)','Count','% of All Readings Greater than Threshold'])\n",
    "for threshold in thresholds:\n",
    "    count=len(corrected_meter_data[corrected_meter_data['meter_reading'] > threshold]['meter_reading'])\n",
    "    percentage=100*(len(corrected_meter_data[corrected_meter_data['meter_reading'] > threshold]['meter_reading'])\n",
    "                    /len(corrected_meter_data))\n",
    "    thresholds_df=thresholds_df.append({'Reading Threshold (kWh)':threshold,\n",
    "                                        'Count':count,\n",
    "                                        '% of All Readings Greater than Threshold':percentage},\n",
    "                                       ignore_index=True);\n",
    "thresholds_df"
   ]
  },
  {
   "cell_type": "markdown",
   "id": "22a55494",
   "metadata": {},
   "source": [
    "* Meter readings greater than 1e4 may be worth removing. They only consist of 0.4% of the data. \n",
    "* Meter readings greater than 1e3 and less than 1e4 are 5.6% of the data. It may be worth revising this data before deciding to remove it."
   ]
  },
  {
   "cell_type": "markdown",
   "id": "5bb12291",
   "metadata": {},
   "source": [
    "Let's look at the data distribution and statistics when values <b>greater than 1e4</b> are overlooked."
   ]
  },
  {
   "cell_type": "code",
   "execution_count": 114,
   "id": "243255e0",
   "metadata": {},
   "outputs": [
    {
     "data": {
      "text/plain": [
       "count    2.013247e+07\n",
       "mean     2.361385e+02\n",
       "std      6.591976e+02\n",
       "min      0.000000e+00\n",
       "25%      1.040000e+01\n",
       "50%      5.027550e+01\n",
       "75%      1.740000e+02\n",
       "max      9.999600e+03\n",
       "Name: meter_reading, dtype: float64"
      ]
     },
     "execution_count": 114,
     "metadata": {},
     "output_type": "execute_result"
    }
   ],
   "source": [
    "corrected_meter_data[corrected_meter_data['meter_reading']<1e4].describe().T.loc['meter_reading']"
   ]
  },
  {
   "cell_type": "code",
   "execution_count": 115,
   "id": "046ab086",
   "metadata": {},
   "outputs": [
    {
     "data": {
      "text/plain": [
       "<AxesSubplot:>"
      ]
     },
     "execution_count": 115,
     "metadata": {},
     "output_type": "execute_result"
    },
    {
     "data": {
      "image/png": "[encoded data removed]",
      "text/plain": [
       "<Figure size 432x288 with 1 Axes>"
      ]
     },
     "metadata": {
      "needs_background": "light"
     },
     "output_type": "display_data"
    }
   ],
   "source": [
    "corrected_meter_data[corrected_meter_data['meter_reading']<1e4]['meter_reading'].hist()"
   ]
  },
  {
   "cell_type": "markdown",
   "id": "b27f9952",
   "metadata": {},
   "source": [
    "Let's look at the data distribution and statistics when values <b>greater than 1e3</b> are overlooked."
   ]
  },
  {
   "cell_type": "code",
   "execution_count": 116,
   "id": "66c7be4d",
   "metadata": {},
   "outputs": [
    {
     "data": {
      "text/plain": [
       "count    1.911907e+07\n",
       "mean     1.184254e+02\n",
       "std      1.793657e+02\n",
       "min      0.000000e+00\n",
       "25%      9.090915e+00\n",
       "50%      4.420000e+01\n",
       "75%      1.425000e+02\n",
       "max      9.999980e+02\n",
       "Name: meter_reading, dtype: float64"
      ]
     },
     "execution_count": 116,
     "metadata": {},
     "output_type": "execute_result"
    }
   ],
   "source": [
    "corrected_meter_data[corrected_meter_data['meter_reading']<1e3].describe().T.loc['meter_reading']"
   ]
  },
  {
   "cell_type": "code",
   "execution_count": 117,
   "id": "8e2403b5",
   "metadata": {},
   "outputs": [
    {
     "data": {
      "text/plain": [
       "<AxesSubplot:>"
      ]
     },
     "execution_count": 117,
     "metadata": {},
     "output_type": "execute_result"
    },
    {
     "data": {
      "image/png": "[encoded data removed]",
      "text/plain": [
       "<Figure size 432x288 with 1 Axes>"
      ]
     },
     "metadata": {
      "needs_background": "light"
     },
     "output_type": "display_data"
    }
   ],
   "source": [
    "corrected_meter_data[corrected_meter_data['meter_reading']<1e3]['meter_reading'].hist()"
   ]
  },
  {
   "cell_type": "markdown",
   "id": "df34f261",
   "metadata": {},
   "source": [
    "The data is quite skewed. The next interesting thing to do is look at the meters and types of buildings (and size) reporting more that 200 kWh. Other things to look at are time of day, or day of the week, and weather conditions like air temperature.\n"
   ]
  },
  {
   "cell_type": "markdown",
   "id": "c434af89",
   "metadata": {},
   "source": [
    "#### 1.6.3.2 Potential Outliers in precip_depth_1_hr<a id='1.6.3.2_Potential_Outliers_in_precip_depth_1_hr'></a>"
   ]
  },
  {
   "cell_type": "code",
   "execution_count": 118,
   "id": "6c878192",
   "metadata": {},
   "outputs": [
    {
     "data": {
      "text/plain": [
       "<AxesSubplot:>"
      ]
     },
     "execution_count": 118,
     "metadata": {},
     "output_type": "execute_result"
    },
    {
     "data": {
      "image/png": "[encoded data removed]",
      "text/plain": [
       "<Figure size 432x288 with 1 Axes>"
      ]
     },
     "metadata": {
      "needs_background": "light"
     },
     "output_type": "display_data"
    }
   ],
   "source": [
    "weather_data['precip_depth_1_hr'].hist()"
   ]
  },
  {
   "cell_type": "markdown",
   "id": "591ee6fb",
   "metadata": {},
   "source": [
    "Some of the data have a value of -1. These could be interpretted as null values. What percentage of the data have a value of -1, in addition to the null values? As a reminder, about 36% percent of the entries for this feature are null values."
   ]
  },
  {
   "cell_type": "code",
   "execution_count": 120,
   "id": "da077696",
   "metadata": {},
   "outputs": [
    {
     "data": {
      "text/plain": [
       "40.114328232205075"
      ]
     },
     "execution_count": 120,
     "metadata": {},
     "output_type": "execute_result"
    }
   ],
   "source": [
    "weather_data_missing.loc['precip_depth_1_hr']['%']+\n",
    "100*len(weather_data[weather_data['precip_depth_1_hr']==-1])/len(weather_data)"
   ]
  },
  {
   "cell_type": "markdown",
   "id": "e3083e64",
   "metadata": {},
   "source": [
    "40% of the precip_depth_1_hr are missing. \n",
    "\n",
    "what percentage have a value of 0.0, which would correspond to no precipitation?"
   ]
  },
  {
   "cell_type": "code",
   "execution_count": 122,
   "id": "608140f8",
   "metadata": {},
   "outputs": [
    {
     "data": {
      "text/plain": [
       "55.74037904316284"
      ]
     },
     "execution_count": 122,
     "metadata": {},
     "output_type": "execute_result"
    }
   ],
   "source": [
    "100*len(weather_data[weather_data['precip_depth_1_hr']==0.0])/len(weather_data)"
   ]
  },
  {
   "cell_type": "markdown",
   "id": "4ccf8954",
   "metadata": {},
   "source": [
    "In addition to 40% of the data missing, 55.7 % have a value of 0.0"
   ]
  },
  {
   "cell_type": "code",
   "execution_count": 131,
   "id": "fe0cbd88",
   "metadata": {},
   "outputs": [
    {
     "data": {
      "text/plain": [
       "4.145292724632082"
      ]
     },
     "execution_count": 131,
     "metadata": {},
     "output_type": "execute_result"
    }
   ],
   "source": [
    "100*len(weather_data[weather_data['precip_depth_1_hr']>0.0])/len(weather_data)"
   ]
  },
  {
   "cell_type": "markdown",
   "id": "adcae302",
   "metadata": {},
   "source": [
    "4% of the data have a precipitation greater than 0.0."
   ]
  },
  {
   "cell_type": "code",
   "execution_count": 125,
   "id": "c7d26f52",
   "metadata": {},
   "outputs": [
    {
     "data": {
      "text/plain": [
       "0.27401572549777137"
      ]
     },
     "execution_count": 125,
     "metadata": {},
     "output_type": "execute_result"
    }
   ],
   "source": [
    "100*len(weather_data[weather_data['precip_depth_1_hr']>=50])/len(weather_data)"
   ]
  },
  {
   "cell_type": "markdown",
   "id": "20a8decf",
   "metadata": {},
   "source": [
    "according to USGS (U.S. Geological Service): \"Violent shower: Greater than 50 mm per hour.\"\""
   ]
  },
  {
   "cell_type": "code",
   "execution_count": 132,
   "id": "d89f0ffa",
   "metadata": {
    "scrolled": false
   },
   "outputs": [],
   "source": [
    "extreme_precip=weather_data[weather_data['precip_depth_1_hr']>=50]"
   ]
  },
  {
   "cell_type": "markdown",
   "id": "44faa05e",
   "metadata": {},
   "source": [
    "How much did it rain in each site_id?"
   ]
  },
  {
   "cell_type": "code",
   "execution_count": 133,
   "id": "715002ca",
   "metadata": {},
   "outputs": [
    {
     "data": {
      "text/plain": [
       "site_id\n",
       "10     385.0\n",
       "2      531.0\n",
       "4      625.0\n",
       "3     1378.0\n",
       "14    2264.0\n",
       "7     2453.0\n",
       "11    2453.0\n",
       "6     2595.0\n",
       "15    2746.0\n",
       "9     3428.0\n",
       "13    3910.0\n",
       "0     8245.0\n",
       "8     8245.0\n",
       "Name: precip_depth_1_hr, dtype: float64"
      ]
     },
     "execution_count": 133,
     "metadata": {},
     "output_type": "execute_result"
    }
   ],
   "source": [
    "extreme_precip.groupby('site_id')['precip_depth_1_hr'].sum().sort_values()"
   ]
  },
  {
   "cell_type": "markdown",
   "id": "76649651",
   "metadata": {},
   "source": [
    "It rained the most in site_id's 0 and 8. It did not rain at all in site_id's 1, 5, and 12."
   ]
  },
  {
   "cell_type": "markdown",
   "id": "a492da1e",
   "metadata": {},
   "source": [
    "It will be interesting to look at where and when these violent showers occurred. These can be sorted by month..."
   ]
  },
  {
   "cell_type": "code",
   "execution_count": 142,
   "id": "9c79f786",
   "metadata": {},
   "outputs": [
    {
     "data": {
      "text/html": [
       "<div>\n",
       "<style scoped>\n",
       "    .dataframe tbody tr th:only-of-type {\n",
       "        vertical-align: middle;\n",
       "    }\n",
       "\n",
       "    .dataframe tbody tr th {\n",
       "        vertical-align: top;\n",
       "    }\n",
       "\n",
       "    .dataframe thead th {\n",
       "        text-align: right;\n",
       "    }\n",
       "</style>\n",
       "<table border=\"1\" class=\"dataframe\">\n",
       "  <thead>\n",
       "    <tr style=\"text-align: right;\">\n",
       "      <th></th>\n",
       "      <th>site_id</th>\n",
       "      <th>timestamp</th>\n",
       "      <th>air_temperature</th>\n",
       "      <th>cloud_coverage</th>\n",
       "      <th>dew_temperature</th>\n",
       "      <th>precip_depth_1_hr</th>\n",
       "      <th>sea_level_pressure</th>\n",
       "      <th>wind_direction</th>\n",
       "      <th>wind_speed</th>\n",
       "    </tr>\n",
       "  </thead>\n",
       "  <tbody>\n",
       "    <tr>\n",
       "      <th>353</th>\n",
       "      <td>0</td>\n",
       "      <td>2016-01-15 17:00:00</td>\n",
       "      <td>17.8</td>\n",
       "      <td>NaN</td>\n",
       "      <td>16.7</td>\n",
       "      <td>165.0</td>\n",
       "      <td>1008.5</td>\n",
       "      <td>240.0</td>\n",
       "      <td>5.1</td>\n",
       "    </tr>\n",
       "    <tr>\n",
       "      <th>671</th>\n",
       "      <td>0</td>\n",
       "      <td>2016-01-28 23:00:00</td>\n",
       "      <td>17.8</td>\n",
       "      <td>NaN</td>\n",
       "      <td>16.7</td>\n",
       "      <td>112.0</td>\n",
       "      <td>1007.7</td>\n",
       "      <td>320.0</td>\n",
       "      <td>5.1</td>\n",
       "    </tr>\n",
       "    <tr>\n",
       "      <th>2016</th>\n",
       "      <td>0</td>\n",
       "      <td>2016-03-25 00:00:00</td>\n",
       "      <td>21.1</td>\n",
       "      <td>8.0</td>\n",
       "      <td>20.0</td>\n",
       "      <td>122.0</td>\n",
       "      <td>1015.8</td>\n",
       "      <td>0.0</td>\n",
       "      <td>0.0</td>\n",
       "    </tr>\n",
       "    <tr>\n",
       "      <th>2017</th>\n",
       "      <td>0</td>\n",
       "      <td>2016-03-25 01:00:00</td>\n",
       "      <td>18.9</td>\n",
       "      <td>NaN</td>\n",
       "      <td>17.8</td>\n",
       "      <td>343.0</td>\n",
       "      <td>1015.7</td>\n",
       "      <td>50.0</td>\n",
       "      <td>1.5</td>\n",
       "    </tr>\n",
       "    <tr>\n",
       "      <th>2019</th>\n",
       "      <td>0</td>\n",
       "      <td>2016-03-25 03:00:00</td>\n",
       "      <td>20.0</td>\n",
       "      <td>NaN</td>\n",
       "      <td>18.9</td>\n",
       "      <td>130.0</td>\n",
       "      <td>1016.5</td>\n",
       "      <td>170.0</td>\n",
       "      <td>4.1</td>\n",
       "    </tr>\n",
       "  </tbody>\n",
       "</table>\n",
       "</div>"
      ],
      "text/plain": [
       "      site_id            timestamp  air_temperature  cloud_coverage  \\\n",
       "353         0  2016-01-15 17:00:00             17.8             NaN   \n",
       "671         0  2016-01-28 23:00:00             17.8             NaN   \n",
       "2016        0  2016-03-25 00:00:00             21.1             8.0   \n",
       "2017        0  2016-03-25 01:00:00             18.9             NaN   \n",
       "2019        0  2016-03-25 03:00:00             20.0             NaN   \n",
       "\n",
       "      dew_temperature  precip_depth_1_hr  sea_level_pressure  wind_direction  \\\n",
       "353              16.7              165.0              1008.5           240.0   \n",
       "671              16.7              112.0              1007.7           320.0   \n",
       "2016             20.0              122.0              1015.8             0.0   \n",
       "2017             17.8              343.0              1015.7            50.0   \n",
       "2019             18.9              130.0              1016.5           170.0   \n",
       "\n",
       "      wind_speed  \n",
       "353          5.1  \n",
       "671          5.1  \n",
       "2016         0.0  \n",
       "2017         1.5  \n",
       "2019         4.1  "
      ]
     },
     "execution_count": 142,
     "metadata": {},
     "output_type": "execute_result"
    }
   ],
   "source": [
    "extreme_precip.head()"
   ]
  },
  {
   "cell_type": "code",
   "execution_count": 159,
   "id": "3bbf5738",
   "metadata": {},
   "outputs": [
    {
     "name": "stderr",
     "output_type": "stream",
     "text": [
      "C:\\Users\\baro284\\AppData\\Local\\Temp\\ipykernel_20372\\3185664040.py:1: SettingWithCopyWarning: \n",
      "A value is trying to be set on a copy of a slice from a DataFrame.\n",
      "Try using .loc[row_indexer,col_indexer] = value instead\n",
      "\n",
      "See the caveats in the documentation: https://pandas.pydata.org/pandas-docs/stable/user_guide/indexing.html#returning-a-view-versus-a-copy\n",
      "  extreme_precip['timestamp']=pd.to_datetime(extreme_precip['timestamp'])\n",
      "C:\\Users\\baro284\\AppData\\Local\\Temp\\ipykernel_20372\\3185664040.py:2: SettingWithCopyWarning: \n",
      "A value is trying to be set on a copy of a slice from a DataFrame.\n",
      "Try using .loc[row_indexer,col_indexer] = value instead\n",
      "\n",
      "See the caveats in the documentation: https://pandas.pydata.org/pandas-docs/stable/user_guide/indexing.html#returning-a-view-versus-a-copy\n",
      "  extreme_precip['Month'] = pd.DatetimeIndex(extreme_precip['timestamp']).month\n"
     ]
    }
   ],
   "source": [
    "extreme_precip['timestamp']=pd.to_datetime(extreme_precip['timestamp'])\n",
    "extreme_precip['Month'] = pd.DatetimeIndex(extreme_precip['timestamp']).month\n",
    "#extreme_precip['month'] = extreme_precip['timestamp'].dt.strftime(\"%Y-%m-%d %H:%M:%S\").month"
   ]
  },
  {
   "cell_type": "code",
   "execution_count": 160,
   "id": "aee96aed",
   "metadata": {},
   "outputs": [
    {
     "data": {
      "text/html": [
       "<div>\n",
       "<style scoped>\n",
       "    .dataframe tbody tr th:only-of-type {\n",
       "        vertical-align: middle;\n",
       "    }\n",
       "\n",
       "    .dataframe tbody tr th {\n",
       "        vertical-align: top;\n",
       "    }\n",
       "\n",
       "    .dataframe thead th {\n",
       "        text-align: right;\n",
       "    }\n",
       "</style>\n",
       "<table border=\"1\" class=\"dataframe\">\n",
       "  <thead>\n",
       "    <tr style=\"text-align: right;\">\n",
       "      <th></th>\n",
       "      <th>site_id</th>\n",
       "      <th>timestamp</th>\n",
       "      <th>air_temperature</th>\n",
       "      <th>cloud_coverage</th>\n",
       "      <th>dew_temperature</th>\n",
       "      <th>precip_depth_1_hr</th>\n",
       "      <th>sea_level_pressure</th>\n",
       "      <th>wind_direction</th>\n",
       "      <th>wind_speed</th>\n",
       "      <th>month</th>\n",
       "      <th>Month</th>\n",
       "    </tr>\n",
       "  </thead>\n",
       "  <tbody>\n",
       "    <tr>\n",
       "      <th>353</th>\n",
       "      <td>0</td>\n",
       "      <td>2016-01-15 17:00:00</td>\n",
       "      <td>17.8</td>\n",
       "      <td>NaN</td>\n",
       "      <td>16.7</td>\n",
       "      <td>165.0</td>\n",
       "      <td>1008.5</td>\n",
       "      <td>240.0</td>\n",
       "      <td>5.1</td>\n",
       "      <td>2016-01-15 17:00:00</td>\n",
       "      <td>1</td>\n",
       "    </tr>\n",
       "    <tr>\n",
       "      <th>671</th>\n",
       "      <td>0</td>\n",
       "      <td>2016-01-28 23:00:00</td>\n",
       "      <td>17.8</td>\n",
       "      <td>NaN</td>\n",
       "      <td>16.7</td>\n",
       "      <td>112.0</td>\n",
       "      <td>1007.7</td>\n",
       "      <td>320.0</td>\n",
       "      <td>5.1</td>\n",
       "      <td>2016-01-28 23:00:00</td>\n",
       "      <td>1</td>\n",
       "    </tr>\n",
       "    <tr>\n",
       "      <th>2016</th>\n",
       "      <td>0</td>\n",
       "      <td>2016-03-25 00:00:00</td>\n",
       "      <td>21.1</td>\n",
       "      <td>8.0</td>\n",
       "      <td>20.0</td>\n",
       "      <td>122.0</td>\n",
       "      <td>1015.8</td>\n",
       "      <td>0.0</td>\n",
       "      <td>0.0</td>\n",
       "      <td>2016-03-25 00:00:00</td>\n",
       "      <td>3</td>\n",
       "    </tr>\n",
       "    <tr>\n",
       "      <th>2017</th>\n",
       "      <td>0</td>\n",
       "      <td>2016-03-25 01:00:00</td>\n",
       "      <td>18.9</td>\n",
       "      <td>NaN</td>\n",
       "      <td>17.8</td>\n",
       "      <td>343.0</td>\n",
       "      <td>1015.7</td>\n",
       "      <td>50.0</td>\n",
       "      <td>1.5</td>\n",
       "      <td>2016-03-25 01:00:00</td>\n",
       "      <td>3</td>\n",
       "    </tr>\n",
       "    <tr>\n",
       "      <th>2019</th>\n",
       "      <td>0</td>\n",
       "      <td>2016-03-25 03:00:00</td>\n",
       "      <td>20.0</td>\n",
       "      <td>NaN</td>\n",
       "      <td>18.9</td>\n",
       "      <td>130.0</td>\n",
       "      <td>1016.5</td>\n",
       "      <td>170.0</td>\n",
       "      <td>4.1</td>\n",
       "      <td>2016-03-25 03:00:00</td>\n",
       "      <td>3</td>\n",
       "    </tr>\n",
       "  </tbody>\n",
       "</table>\n",
       "</div>"
      ],
      "text/plain": [
       "      site_id           timestamp  air_temperature  cloud_coverage  \\\n",
       "353         0 2016-01-15 17:00:00             17.8             NaN   \n",
       "671         0 2016-01-28 23:00:00             17.8             NaN   \n",
       "2016        0 2016-03-25 00:00:00             21.1             8.0   \n",
       "2017        0 2016-03-25 01:00:00             18.9             NaN   \n",
       "2019        0 2016-03-25 03:00:00             20.0             NaN   \n",
       "\n",
       "      dew_temperature  precip_depth_1_hr  sea_level_pressure  wind_direction  \\\n",
       "353              16.7              165.0              1008.5           240.0   \n",
       "671              16.7              112.0              1007.7           320.0   \n",
       "2016             20.0              122.0              1015.8             0.0   \n",
       "2017             17.8              343.0              1015.7            50.0   \n",
       "2019             18.9              130.0              1016.5           170.0   \n",
       "\n",
       "      wind_speed                month  Month  \n",
       "353          5.1  2016-01-15 17:00:00      1  \n",
       "671          5.1  2016-01-28 23:00:00      1  \n",
       "2016         0.0  2016-03-25 00:00:00      3  \n",
       "2017         1.5  2016-03-25 01:00:00      3  \n",
       "2019         4.1  2016-03-25 03:00:00      3  "
      ]
     },
     "execution_count": 160,
     "metadata": {},
     "output_type": "execute_result"
    }
   ],
   "source": [
    "extreme_precip.head()"
   ]
  },
  {
   "cell_type": "markdown",
   "id": "aacdd899",
   "metadata": {},
   "source": [
    "The next steps are to figure out what to do with precip and outliers of meter readings. remove? replace with mean? median? How do I assess this? I forget"
   ]
  },
  {
   "cell_type": "markdown",
   "id": "a46e3f19",
   "metadata": {},
   "source": [
    "For the greatly skewed data, replace with categorical values?"
   ]
  },
  {
   "cell_type": "markdown",
   "id": "0136b807",
   "metadata": {},
   "source": [
    "need to think about cloud_coverage and floor_count, which are missing 50% and 75% of the data, respectively."
   ]
  },
  {
   "cell_type": "code",
   "execution_count": null,
   "id": "e8ccc176",
   "metadata": {},
   "outputs": [],
   "source": []
  }
 ],
 "metadata": {
  "kernelspec": {
   "display_name": "building_energy_project",
   "language": "python",
   "name": "building_energy_project"
  },
  "language_info": {
   "codemirror_mode": {
    "name": "ipython",
    "version": 3
   },
   "file_extension": ".py",
   "mimetype": "text/x-python",
   "name": "python",
   "nbconvert_exporter": "python",
   "pygments_lexer": "ipython3",
   "version": "3.8.8"
  }
 },
 "nbformat": 4,
 "nbformat_minor": 5
}
