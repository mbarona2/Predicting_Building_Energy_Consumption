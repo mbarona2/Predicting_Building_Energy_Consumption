{
 "cells": [
  {
   "cell_type": "code",
   "execution_count": 18,
   "id": "14a67435",
   "metadata": {},
   "outputs": [],
   "source": [
    "#Import pandas, matplotlib.pyplot, and seaborn\n",
    "import pandas as pd\n",
    "import numpy as np\n",
    "from datetime import datetime\n",
    "from scipy import stats\n",
    "import matplotlib.pyplot as plt\n",
    "import seaborn as sns\n",
    "import os\n",
    "from random import sample, seed"
   ]
  },
  {
   "cell_type": "code",
   "execution_count": null,
   "id": "e6776326",
   "metadata": {},
   "outputs": [],
   "source": []
  },
  {
   "cell_type": "code",
   "execution_count": null,
   "id": "e0930413",
   "metadata": {},
   "outputs": [],
   "source": [
    "# i need a building that has all the meter readings, 0, 1, 2, and 3 for all the hours\n",
    "\n",
    "#randomly select a building from the building metadata\n",
    "#check if that building has all meter readings \n",
    "#I guess I can then select the df of that building from the meter readings \n",
    "#  if it doesnt work, go to the next building\n",
    "# narrow down by only looking at education buildings. that's where most of the data comes from and contains all meter readings"
   ]
  },
  {
   "cell_type": "code",
   "execution_count": 2,
   "id": "6fa27ed9",
   "metadata": {},
   "outputs": [],
   "source": [
    "# the supplied CSV data files are in the data/raw directory\n",
    "meter_data = pd.read_csv('../data/raw/train.csv')\n",
    "building_metadata=pd.read_csv('../data/raw/building_metadata.csv')"
   ]
  },
  {
   "cell_type": "code",
   "execution_count": 4,
   "id": "280f4b40",
   "metadata": {},
   "outputs": [],
   "source": [
    "#select only education primary use\n",
    "select_buildings=building_metadata[building_metadata['primary_use']=='Education']"
   ]
  },
  {
   "cell_type": "code",
   "execution_count": 6,
   "id": "b8ef9547",
   "metadata": {
    "collapsed": true
   },
   "outputs": [
    {
     "data": {
      "text/plain": [
       "array([   0,    1,    2,    3,    4,    5,    7,    8,   11,   13,   14,\n",
       "         16,   18,   20,   22,   23,   24,   29,   30,   31,   52,   54,\n",
       "         60,   75,   76,   78,   86,   91,   94,  103,  105,  106,  107,\n",
       "        108,  109,  110,  111,  112,  113,  114,  115,  116,  117,  118,\n",
       "        119,  120,  121,  122,  123,  124,  125,  126,  159,  161,  162,\n",
       "        163,  168,  169,  173,  174,  175,  176,  180,  181,  183,  184,\n",
       "        185,  187,  189,  190,  191,  192,  201,  209,  210,  211,  212,\n",
       "        213,  214,  216,  217,  219,  220,  221,  223,  224,  229,  230,\n",
       "        231,  233,  234,  235,  244,  245,  247,  248,  250,  251,  252,\n",
       "        253,  255,  256,  257,  258,  259,  260,  261,  263,  266,  271,\n",
       "        272,  277,  279,  295,  297,  299,  300,  302,  306,  311,  313,\n",
       "        314,  320,  322,  323,  325,  327,  328,  330,  331,  332,  333,\n",
       "        334,  336,  339,  341,  344,  347,  350,  351,  352,  353,  354,\n",
       "        355,  358,  360,  363,  364,  372,  373,  380,  382,  387,  389,\n",
       "        391,  392,  393,  398,  399,  403,  405,  407,  409,  410,  412,\n",
       "        415,  417,  419,  426,  434,  442,  443,  445,  450,  452,  457,\n",
       "        461,  471,  472,  481,  482,  483,  486,  487,  488,  489,  490,\n",
       "        491,  492,  493,  494,  495,  499,  500,  501,  507,  515,  537,\n",
       "        540,  542,  545,  553,  555,  559,  562,  565,  566,  568,  569,\n",
       "        570,  571,  572,  573,  574,  576,  577,  579,  580,  582,  583,\n",
       "        584,  588,  589,  590,  592,  593,  594,  595,  596,  599,  600,\n",
       "        604,  605,  607,  609,  611,  612,  615,  616,  617,  618,  619,\n",
       "        620,  622,  623,  624,  625,  627,  628,  629,  630,  631,  632,\n",
       "        634,  635,  636,  637,  638,  639,  641,  642,  643,  645,  646,\n",
       "        648,  649,  650,  652,  653,  654,  655,  657,  694,  695,  696,\n",
       "        697,  698,  699,  700,  701,  702,  703,  704,  705,  706,  707,\n",
       "        708,  709,  710,  711,  712,  713,  714,  715,  716,  717,  718,\n",
       "        719,  720,  721,  722,  723,  724,  725,  726,  727,  728,  729,\n",
       "        730,  731,  732,  733,  734,  735,  736,  737,  738,  739,  740,\n",
       "        741,  745,  747,  750,  753,  757,  762,  764,  768,  769,  770,\n",
       "        780,  782,  784,  785,  786,  789,  790,  791,  792,  793,  794,\n",
       "        795,  796,  797,  798,  799,  800,  801,  802,  803,  876,  879,\n",
       "        880,  882,  883,  884,  886,  889,  890,  891,  893,  894,  895,\n",
       "        896,  897,  899,  900,  901,  902,  903,  904,  908,  911,  912,\n",
       "        914,  915,  916,  917,  918,  919,  920,  922,  923,  925,  926,\n",
       "        928,  929,  931,  946,  947,  952,  954,  955,  957,  959,  960,\n",
       "        961,  964,  966,  968,  969,  972,  974,  976,  978,  981,  987,\n",
       "        989,  991,  993,  994,  995,  996,  998,  999, 1000, 1003, 1004,\n",
       "       1008, 1009, 1011, 1012, 1013, 1018, 1022, 1023, 1024, 1028, 1029,\n",
       "       1030, 1031, 1032, 1033, 1037, 1039, 1041, 1044, 1046, 1048, 1049,\n",
       "       1051, 1054, 1055, 1056, 1057, 1058, 1062, 1063, 1064, 1066, 1067,\n",
       "       1068, 1079, 1080, 1083, 1085, 1088, 1095, 1099, 1107, 1121, 1126,\n",
       "       1130, 1135, 1138, 1140, 1156, 1157, 1169, 1176, 1178, 1180, 1181,\n",
       "       1191, 1198, 1201, 1217, 1226, 1227, 1231, 1232, 1233, 1234, 1250,\n",
       "       1251, 1252, 1253, 1254, 1258, 1259, 1263, 1264, 1267, 1278, 1284,\n",
       "       1287, 1288, 1289, 1290, 1298, 1299, 1301, 1314, 1327, 1328, 1330,\n",
       "       1331, 1332, 1338, 1339, 1341, 1342, 1344, 1345, 1346, 1347, 1348,\n",
       "       1350, 1354, 1355, 1356, 1359, 1361, 1362, 1367, 1370, 1372, 1373,\n",
       "       1377, 1378, 1380, 1383, 1384, 1385, 1411, 1421, 1427, 1428, 1429,\n",
       "       1432, 1433, 1434, 1435, 1437, 1438, 1439, 1441, 1443, 1445],\n",
       "      dtype=int64)"
      ]
     },
     "execution_count": 6,
     "metadata": {},
     "output_type": "execute_result"
    }
   ],
   "source": [
    "building_ids=select_buildings['building_id'].unique()"
   ]
  },
  {
   "cell_type": "code",
   "execution_count": 27,
   "id": "1bd9a7e2",
   "metadata": {},
   "outputs": [
    {
     "name": "stdout",
     "output_type": "stream",
     "text": [
      "1298\n"
     ]
    }
   ],
   "source": [
    "seed(41)\n",
    "for value in sample(list(building_ids),len(building_ids)):\n",
    "    if meter_data[meter_data['building_id']==value].shape[0] == 35136:\n",
    "        print(value)"
   ]
  },
  {
   "cell_type": "code",
   "execution_count": null,
   "id": "be84ad1e",
   "metadata": {},
   "outputs": [],
   "source": [
    "#we will use building 1298 to validate the data"
   ]
  }
 ],
 "metadata": {
  "kernelspec": {
   "display_name": "Python 3 (ipykernel)",
   "language": "python",
   "name": "python3"
  },
  "language_info": {
   "codemirror_mode": {
    "name": "ipython",
    "version": 3
   },
   "file_extension": ".py",
   "mimetype": "text/x-python",
   "name": "python",
   "nbconvert_exporter": "python",
   "pygments_lexer": "ipython3",
   "version": "3.9.7"
  }
 },
 "nbformat": 4,
 "nbformat_minor": 5
}
