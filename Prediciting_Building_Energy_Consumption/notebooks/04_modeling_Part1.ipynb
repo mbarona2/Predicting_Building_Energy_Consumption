{
 "cells": [
  {
   "cell_type": "markdown",
   "id": "e9dc239b",
   "metadata": {},
   "source": [
    "# 4 Modeling Part 1"
   ]
  },
  {
   "cell_type": "markdown",
   "id": "0f8a1cb6",
   "metadata": {},
   "source": [
    "## 4.1 Contents<a id='4.1_Contents'></a>\n",
    "* [4 Modeling](#4_Modeling)\n",
    "  * [4.1 Contents](#4.1_Contents)\n",
    "  * [4.2 Introduction](#4.2_Introduction)\n",
    "    * [4.2.1 Recap of Data Science Problem](#4.2.1_Recap_of_Data_Science_Problem)\n",
    "    * [4.2.2 Introduction To Notebook](#4.2.2_Introduction_To_Notebook)\n",
    "  * [4.3 Objectives](#4.3_Objectives)\n",
    "  * [4.4 Imports](#4.4_Imports)\n",
    "  * [4.5 Load Data](#4.5_Load_Data)\n",
    "  * [4.6_Prepare Data for Modeling](#4.6_Prepare_Data_for_Modeling)\n",
    "  * [4.7 Train the model](#4.7_Train_the_model)\n",
    "    * [4.7.1 Dummy regressor](#4.7.1_Dummy_regressor)\n",
    "      * [4.7.1.1 Fit the model](#4.7.1.1_Fit_the_model)\n",
    "      * [4.7.1.2 Make prediction](#4.7.1.1_Make_prediction)\n",
    "      * [4.7.1.2 Measure Accuracy](#4.7.1.1_Measure_Accuracy)"
   ]
  },
  {
   "cell_type": "markdown",
   "id": "5a0bc2f6",
   "metadata": {},
   "source": [
    "## 4.2 Introduction<a id='4.2_Introduction'></a>"
   ]
  },
  {
   "cell_type": "markdown",
   "id": "0f28dbcb",
   "metadata": {},
   "source": [
    "### 4.2.1 Recap of Data Science Problem<a id='4.2.1_Recap_of_Data_Science_Problem'></a>"
   ]
  },
  {
   "cell_type": "markdown",
   "id": "048967b7",
   "metadata": {},
   "source": [
    "The goal of this project is to predict the energy baseline for a building."
   ]
  },
  {
   "cell_type": "markdown",
   "id": "9e30bf6a",
   "metadata": {},
   "source": [
    "### 4.2.2 Introduction to Notebook<a id='4.2.2_Introduction_to_Notebook'></a>"
   ]
  },
  {
   "cell_type": "markdown",
   "id": "ee66817e",
   "metadata": {},
   "source": [
    "## 4.3 Objectives<a id='4.3_Objectives'></a>"
   ]
  },
  {
   "cell_type": "markdown",
   "id": "5041369d",
   "metadata": {},
   "source": [
    "The objective of part 1 of this notebook is to train a dummy regressor model, which is simply the mean of all electricity meter readings.\n",
    "\n",
    "The metrics I will use to assess the model are the mean average error and the root mean square error."
   ]
  },
  {
   "cell_type": "markdown",
   "id": "b5579ca5",
   "metadata": {},
   "source": [
    "## 4.4 Imports<a id='4.2_Imports'></a>"
   ]
  },
  {
   "cell_type": "code",
   "execution_count": 3,
   "id": "b90c11a0",
   "metadata": {},
   "outputs": [],
   "source": [
    "import pandas as pd\n",
    "import numpy as np\n",
    "import os\n",
    "import matplotlib.pyplot as plt\n",
    "import seaborn as sns\n",
    "from sklearn import __version__ as sklearn_version\n",
    "from sklearn.model_selection import train_test_split\n",
    "from sklearn.dummy import DummyRegressor\n",
    "from sklearn.metrics import mean_squared_error, mean_absolute_error"
   ]
  },
  {
   "cell_type": "markdown",
   "id": "21e1481d",
   "metadata": {},
   "source": [
    "## 4.5 Load Data<a id='4.5_Load_Data'></a>"
   ]
  },
  {
   "cell_type": "code",
   "execution_count": 4,
   "id": "4baf7c2e",
   "metadata": {},
   "outputs": [
    {
     "data": {
      "text/html": [
       "<div>\n",
       "<style scoped>\n",
       "    .dataframe tbody tr th:only-of-type {\n",
       "        vertical-align: middle;\n",
       "    }\n",
       "\n",
       "    .dataframe tbody tr th {\n",
       "        vertical-align: top;\n",
       "    }\n",
       "\n",
       "    .dataframe thead th {\n",
       "        text-align: right;\n",
       "    }\n",
       "</style>\n",
       "<table border=\"1\" class=\"dataframe\">\n",
       "  <thead>\n",
       "    <tr style=\"text-align: right;\">\n",
       "      <th></th>\n",
       "      <th>Unnamed: 0</th>\n",
       "      <th>building_id</th>\n",
       "      <th>meter</th>\n",
       "      <th>timestamp</th>\n",
       "      <th>meter_reading</th>\n",
       "      <th>meter_reading_log</th>\n",
       "      <th>month</th>\n",
       "      <th>day</th>\n",
       "      <th>dayofweek</th>\n",
       "      <th>hour</th>\n",
       "      <th>...</th>\n",
       "      <th>air_temperature</th>\n",
       "      <th>cloud_coverage</th>\n",
       "      <th>dew_temperature</th>\n",
       "      <th>precip_depth_1_hr</th>\n",
       "      <th>sea_level_pressure</th>\n",
       "      <th>wind_direction</th>\n",
       "      <th>wind_speed</th>\n",
       "      <th>precip_depth_1_hr_log</th>\n",
       "      <th>cloud_coverage_log</th>\n",
       "      <th>wind_speed_log</th>\n",
       "    </tr>\n",
       "  </thead>\n",
       "  <tbody>\n",
       "    <tr>\n",
       "      <th>0</th>\n",
       "      <td>0</td>\n",
       "      <td>0</td>\n",
       "      <td>0</td>\n",
       "      <td>2015-12-31 19:00:00</td>\n",
       "      <td>0.0</td>\n",
       "      <td>0.0</td>\n",
       "      <td>12</td>\n",
       "      <td>31</td>\n",
       "      <td>3</td>\n",
       "      <td>19</td>\n",
       "      <td>...</td>\n",
       "      <td>25.0</td>\n",
       "      <td>6.0</td>\n",
       "      <td>20.0</td>\n",
       "      <td>NaN</td>\n",
       "      <td>1019.7</td>\n",
       "      <td>0.0</td>\n",
       "      <td>0.0</td>\n",
       "      <td>NaN</td>\n",
       "      <td>1.94591</td>\n",
       "      <td>0.0</td>\n",
       "    </tr>\n",
       "    <tr>\n",
       "      <th>1</th>\n",
       "      <td>1</td>\n",
       "      <td>1</td>\n",
       "      <td>0</td>\n",
       "      <td>2015-12-31 19:00:00</td>\n",
       "      <td>0.0</td>\n",
       "      <td>0.0</td>\n",
       "      <td>12</td>\n",
       "      <td>31</td>\n",
       "      <td>3</td>\n",
       "      <td>19</td>\n",
       "      <td>...</td>\n",
       "      <td>25.0</td>\n",
       "      <td>6.0</td>\n",
       "      <td>20.0</td>\n",
       "      <td>NaN</td>\n",
       "      <td>1019.7</td>\n",
       "      <td>0.0</td>\n",
       "      <td>0.0</td>\n",
       "      <td>NaN</td>\n",
       "      <td>1.94591</td>\n",
       "      <td>0.0</td>\n",
       "    </tr>\n",
       "    <tr>\n",
       "      <th>2</th>\n",
       "      <td>2</td>\n",
       "      <td>2</td>\n",
       "      <td>0</td>\n",
       "      <td>2015-12-31 19:00:00</td>\n",
       "      <td>0.0</td>\n",
       "      <td>0.0</td>\n",
       "      <td>12</td>\n",
       "      <td>31</td>\n",
       "      <td>3</td>\n",
       "      <td>19</td>\n",
       "      <td>...</td>\n",
       "      <td>25.0</td>\n",
       "      <td>6.0</td>\n",
       "      <td>20.0</td>\n",
       "      <td>NaN</td>\n",
       "      <td>1019.7</td>\n",
       "      <td>0.0</td>\n",
       "      <td>0.0</td>\n",
       "      <td>NaN</td>\n",
       "      <td>1.94591</td>\n",
       "      <td>0.0</td>\n",
       "    </tr>\n",
       "    <tr>\n",
       "      <th>3</th>\n",
       "      <td>3</td>\n",
       "      <td>3</td>\n",
       "      <td>0</td>\n",
       "      <td>2015-12-31 19:00:00</td>\n",
       "      <td>0.0</td>\n",
       "      <td>0.0</td>\n",
       "      <td>12</td>\n",
       "      <td>31</td>\n",
       "      <td>3</td>\n",
       "      <td>19</td>\n",
       "      <td>...</td>\n",
       "      <td>25.0</td>\n",
       "      <td>6.0</td>\n",
       "      <td>20.0</td>\n",
       "      <td>NaN</td>\n",
       "      <td>1019.7</td>\n",
       "      <td>0.0</td>\n",
       "      <td>0.0</td>\n",
       "      <td>NaN</td>\n",
       "      <td>1.94591</td>\n",
       "      <td>0.0</td>\n",
       "    </tr>\n",
       "    <tr>\n",
       "      <th>4</th>\n",
       "      <td>4</td>\n",
       "      <td>4</td>\n",
       "      <td>0</td>\n",
       "      <td>2015-12-31 19:00:00</td>\n",
       "      <td>0.0</td>\n",
       "      <td>0.0</td>\n",
       "      <td>12</td>\n",
       "      <td>31</td>\n",
       "      <td>3</td>\n",
       "      <td>19</td>\n",
       "      <td>...</td>\n",
       "      <td>25.0</td>\n",
       "      <td>6.0</td>\n",
       "      <td>20.0</td>\n",
       "      <td>NaN</td>\n",
       "      <td>1019.7</td>\n",
       "      <td>0.0</td>\n",
       "      <td>0.0</td>\n",
       "      <td>NaN</td>\n",
       "      <td>1.94591</td>\n",
       "      <td>0.0</td>\n",
       "    </tr>\n",
       "  </tbody>\n",
       "</table>\n",
       "<p>5 rows × 27 columns</p>\n",
       "</div>"
      ],
      "text/plain": [
       "   Unnamed: 0  building_id  meter            timestamp  meter_reading  \\\n",
       "0           0            0      0  2015-12-31 19:00:00            0.0   \n",
       "1           1            1      0  2015-12-31 19:00:00            0.0   \n",
       "2           2            2      0  2015-12-31 19:00:00            0.0   \n",
       "3           3            3      0  2015-12-31 19:00:00            0.0   \n",
       "4           4            4      0  2015-12-31 19:00:00            0.0   \n",
       "\n",
       "   meter_reading_log  month  day  dayofweek  hour  ...  air_temperature  \\\n",
       "0                0.0     12   31          3    19  ...             25.0   \n",
       "1                0.0     12   31          3    19  ...             25.0   \n",
       "2                0.0     12   31          3    19  ...             25.0   \n",
       "3                0.0     12   31          3    19  ...             25.0   \n",
       "4                0.0     12   31          3    19  ...             25.0   \n",
       "\n",
       "  cloud_coverage  dew_temperature  precip_depth_1_hr  sea_level_pressure  \\\n",
       "0            6.0             20.0                NaN              1019.7   \n",
       "1            6.0             20.0                NaN              1019.7   \n",
       "2            6.0             20.0                NaN              1019.7   \n",
       "3            6.0             20.0                NaN              1019.7   \n",
       "4            6.0             20.0                NaN              1019.7   \n",
       "\n",
       "   wind_direction  wind_speed  precip_depth_1_hr_log  cloud_coverage_log  \\\n",
       "0             0.0         0.0                    NaN             1.94591   \n",
       "1             0.0         0.0                    NaN             1.94591   \n",
       "2             0.0         0.0                    NaN             1.94591   \n",
       "3             0.0         0.0                    NaN             1.94591   \n",
       "4             0.0         0.0                    NaN             1.94591   \n",
       "\n",
       "   wind_speed_log  \n",
       "0             0.0  \n",
       "1             0.0  \n",
       "2             0.0  \n",
       "3             0.0  \n",
       "4             0.0  \n",
       "\n",
       "[5 rows x 27 columns]"
      ]
     },
     "execution_count": 4,
     "metadata": {},
     "output_type": "execute_result"
    }
   ],
   "source": [
    "# the supplied CSV data files are in the data/processed directory\n",
    "#load data\n",
    "data = pd.read_csv('../data/processed/merged_data_clean.csv')\n",
    "data.head(5)"
   ]
  },
  {
   "cell_type": "markdown",
   "id": "e395df12",
   "metadata": {},
   "source": [
    "## 4.6 Prepare Data for Modeling<a id='4.6_Prepare_Data_for_Modeling'></a>"
   ]
  },
  {
   "cell_type": "code",
   "execution_count": 5,
   "id": "a7b8f96c",
   "metadata": {},
   "outputs": [],
   "source": [
    "# select electricity data\n",
    "electricity_data=data[data['meter']==0]"
   ]
  },
  {
   "cell_type": "code",
   "execution_count": 7,
   "id": "8d058602",
   "metadata": {},
   "outputs": [
    {
     "data": {
      "text/plain": [
       "Index(['Unnamed: 0', 'building_id', 'meter', 'timestamp', 'meter_reading',\n",
       "       'meter_reading_log', 'month', 'day', 'dayofweek', 'hour', 'site_id',\n",
       "       'primary_use', 'square_feet', 'year_built', 'floor_count',\n",
       "       'floor_count_log', 'square_feet_log', 'air_temperature',\n",
       "       'cloud_coverage', 'dew_temperature', 'precip_depth_1_hr',\n",
       "       'sea_level_pressure', 'wind_direction', 'wind_speed',\n",
       "       'precip_depth_1_hr_log', 'cloud_coverage_log', 'wind_speed_log'],\n",
       "      dtype='object')"
      ]
     },
     "execution_count": 7,
     "metadata": {},
     "output_type": "execute_result"
    }
   ],
   "source": [
    "electricity_data.columns"
   ]
  },
  {
   "cell_type": "code",
   "execution_count": 9,
   "id": "d2f24ff4",
   "metadata": {},
   "outputs": [],
   "source": [
    "#drop some columns\n",
    "elec_data_tr=electricity_data.drop(['Unnamed: 0', 'month', 'day', 'dayofweek', 'hour',\n",
    "       'floor_count_log', 'square_feet_log',\n",
    "       'precip_depth_1_hr_log', 'cloud_coverage_log', 'wind_speed_log','meter_reading_log'],axis=1)"
   ]
  },
  {
   "cell_type": "code",
   "execution_count": 10,
   "id": "d5b5bb6c",
   "metadata": {},
   "outputs": [],
   "source": [
    "#train/test split the data\n",
    "X=elec_data_tr.drop(columns='meter_reading')\n",
    "y=elec_data_tr.meter_reading\n",
    "X_train, X_test, y_train, y_test = train_test_split(X,y, train_size=0.7, random_state=47)"
   ]
  },
  {
   "cell_type": "code",
   "execution_count": 11,
   "id": "aaa1e385",
   "metadata": {},
   "outputs": [
    {
     "name": "stderr",
     "output_type": "stream",
     "text": [
      "C:\\Users\\melis\\anaconda3\\lib\\site-packages\\pandas\\core\\frame.py:4906: SettingWithCopyWarning: \n",
      "A value is trying to be set on a copy of a slice from a DataFrame\n",
      "\n",
      "See the caveats in the documentation: https://pandas.pydata.org/pandas-docs/stable/user_guide/indexing.html#returning-a-view-versus-a-copy\n",
      "  return super().drop(\n"
     ]
    },
    {
     "data": {
      "text/plain": [
       "((8412185, 10), (3605223, 10))"
      ]
     },
     "execution_count": 11,
     "metadata": {},
     "output_type": "execute_result"
    }
   ],
   "source": [
    "categ_list = ['site_id','building_id','primary_use','meter','timestamp']\n",
    "categ_train = X_train[['site_id','building_id','primary_use','meter','timestamp']]\n",
    "categ_test = X_test[['site_id','building_id','primary_use','meter','timestamp']]\n",
    "X_train.drop(columns=categ_list, inplace=True)\n",
    "X_test.drop(columns=categ_list, inplace=True)\n",
    "X_train.shape, X_test.shape"
   ]
  },
  {
   "cell_type": "markdown",
   "id": "c17df93c",
   "metadata": {},
   "source": [
    "## 4.7 Train the model<a id='4.7_Train_the_model'></a>"
   ]
  },
  {
   "cell_type": "markdown",
   "id": "14d8aef3",
   "metadata": {},
   "source": [
    "### 4.7.1 Dummy regressor<a id='4.7.1_Dummy_regressor'></a>"
   ]
  },
  {
   "cell_type": "markdown",
   "id": "9e8cd3a7",
   "metadata": {},
   "source": [
    "#### 4.7.1.1 Fit the model<a id='4.7.1.1_Fit_the_model'></a>"
   ]
  },
  {
   "cell_type": "code",
   "execution_count": 12,
   "id": "ade19d79",
   "metadata": {},
   "outputs": [
    {
     "data": {
      "text/plain": [
       "170.52851156558026"
      ]
     },
     "execution_count": 12,
     "metadata": {},
     "output_type": "execute_result"
    }
   ],
   "source": [
    "dumb_reg = DummyRegressor(strategy='mean')\n",
    "dumb_reg.fit(X_train, y_train)\n",
    "train_mean=dumb_reg.constant_[0][0]\n",
    "train_mean"
   ]
  },
  {
   "cell_type": "markdown",
   "id": "2ed04bdc",
   "metadata": {},
   "source": [
    "#### 4.7.1.2 Make prediction<a id='4.7.1.1_Make_prediction'></a>"
   ]
  },
  {
   "cell_type": "code",
   "execution_count": 13,
   "id": "f6a2a99d",
   "metadata": {},
   "outputs": [],
   "source": [
    "y_tr_pred = dumb_reg.predict(X_train)"
   ]
  },
  {
   "cell_type": "code",
   "execution_count": 14,
   "id": "33ce25e0",
   "metadata": {},
   "outputs": [],
   "source": [
    "y_te_pred = train_mean * np.ones(len(y_test))"
   ]
  },
  {
   "cell_type": "markdown",
   "id": "d94a6e33",
   "metadata": {},
   "source": [
    "#### 4.7.1.2 Measure Accuracy<a id='4.7.1.1_Measure_Accuracy'></a>"
   ]
  },
  {
   "cell_type": "markdown",
   "id": "7cd18a28",
   "metadata": {},
   "source": [
    "Here we measure the accuracy of the model by calculating the mean absolute error and root mean squared error for the training set and the test set."
   ]
  },
  {
   "cell_type": "code",
   "execution_count": 15,
   "id": "e1826c6b",
   "metadata": {},
   "outputs": [
    {
     "data": {
      "text/plain": [
       "(377.9482054111115, 383.2159040478373)"
      ]
     },
     "execution_count": 15,
     "metadata": {},
     "output_type": "execute_result"
    }
   ],
   "source": [
    "(mean_squared_error(y_train, y_tr_pred))**(1/2), (mean_squared_error(y_test, y_te_pred))**(1/2)"
   ]
  },
  {
   "cell_type": "code",
   "execution_count": 16,
   "id": "3f829097",
   "metadata": {},
   "outputs": [
    {
     "data": {
      "text/plain": [
       "(179.5645605032982, 179.91815067942179)"
      ]
     },
     "execution_count": 16,
     "metadata": {},
     "output_type": "execute_result"
    }
   ],
   "source": [
    "mean_absolute_error(y_train, y_tr_pred), mean_absolute_error(y_test, y_te_pred)"
   ]
  },
  {
   "cell_type": "markdown",
   "id": "e3b9c193",
   "metadata": {},
   "source": [
    "The RMSE and MAE values for the future models will be compared against the RMSE and MAE of the dummy regressor. "
   ]
  }
 ],
 "metadata": {
  "kernelspec": {
   "display_name": "Python 3 (ipykernel)",
   "language": "python",
   "name": "python3"
  },
  "language_info": {
   "codemirror_mode": {
    "name": "ipython",
    "version": 3
   },
   "file_extension": ".py",
   "mimetype": "text/x-python",
   "name": "python",
   "nbconvert_exporter": "python",
   "pygments_lexer": "ipython3",
   "version": "3.9.7"
  }
 },
 "nbformat": 4,
 "nbformat_minor": 5
}
