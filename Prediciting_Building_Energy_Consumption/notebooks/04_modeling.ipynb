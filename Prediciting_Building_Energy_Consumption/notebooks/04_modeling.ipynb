{
 "cells": [
  {
   "cell_type": "markdown",
   "id": "e9dc239b",
   "metadata": {},
   "source": [
    "# 4 Modeling"
   ]
  },
  {
   "cell_type": "markdown",
   "id": "0f8a1cb6",
   "metadata": {},
   "source": [
    "## 4.1 Contents<a id='4.1_Contents'></a>\n",
    "* [4 Modeling](#4_Modeling)\n",
    "  * [4.1 Contents](#4.1_Contents)\n",
    "  * [4.2 Introduction](#4.2_Introduction)\n",
    "    * [4.2.1 Recap of Data Science Problem](#4.2.1_Recap_of_Data_Science_Problem)\n",
    "    * [4.2.2 Introduction To Notebook](#4.2.2_Introduction_To_Notebook)\n",
    "  * [4.3 Objectives](#4.3_Objectives)\n",
    "  * [4.4 Imports](#4.4_Imports)\n",
    "  * [4.5 Load Data](#4.5_Load_Data)\n",
    "  * [3.6 Filling in missing values with moving average](#3.6_Filling_in_missing_values_with_moving_average)\n",
    "  * [3.7 Merge building data with processed weather data](#3.7_Merge_building_data_with_processed_weather_data)\n",
    "  * [3.8 Add additional features](#3.8_Add_additional_features)\n",
    "  * [3.9 Set aside validation data](#3.9_Set_aside_validation_data)\n",
    "  * [3.10 Split data into training and testing data](#3.10_Split_data_into_training_and_testing_data)\n",
    "    * [3.10.1 Subsample the data for linear regression and random forest models](#3.10.1_Subsample_the_data_for_linear_regression_and_random_forest_models)"
   ]
  },
  {
   "cell_type": "markdown",
   "id": "5a0bc2f6",
   "metadata": {},
   "source": [
    "## 4.2 Introduction<a id='4.2_Introduction'></a>"
   ]
  },
  {
   "cell_type": "markdown",
   "id": "0f28dbcb",
   "metadata": {},
   "source": [
    "### 4.2.1 Recap of Data Science Problem<a id='4.2.1_Recap_of_Data_Science_Problem'></a>"
   ]
  },
  {
   "cell_type": "markdown",
   "id": "9e30bf6a",
   "metadata": {},
   "source": [
    "### 4.2.2 Introduction to Notebook<a id='4.2.2_Introduction_to_Notebook'></a>"
   ]
  },
  {
   "cell_type": "markdown",
   "id": "ee66817e",
   "metadata": {},
   "source": [
    "## 4.3 Objectives<a id='4.3_Objectives'></a>"
   ]
  },
  {
   "cell_type": "markdown",
   "id": "5041369d",
   "metadata": {},
   "source": [
    "The objective of this notebook is to train the following models:\n",
    "\n",
    "* A dummy regressor as the baseline\n",
    "* A linear regression model\n",
    "* A random forest model\n",
    "* A ridge regression model\n",
    "\n",
    "The metrics I will use to assess the model are the mean average error and the root mean square error.\n",
    "\n",
    "Here I will use the subsampled dataset that I prepared in the previous preprocessing notebook. Prior to subsampling, I processed the weather data and filled in for missing values by using the moving average. I also turned the time features into cyclic features. "
   ]
  },
  {
   "cell_type": "markdown",
   "id": "b5579ca5",
   "metadata": {},
   "source": [
    "## 4.4 Imports<a id='4.2_Imports'></a>"
   ]
  },
  {
   "cell_type": "code",
   "execution_count": 23,
   "id": "b90c11a0",
   "metadata": {},
   "outputs": [],
   "source": [
    "import pandas as pd\n",
    "import numpy as np\n",
    "import os\n",
    "import pickle\n",
    "import matplotlib.pyplot as plt\n",
    "import seaborn as sns\n",
    "from sklearn import __version__ as sklearn_version\n",
    "from sklearn.model_selection import train_test_split, cross_validate, GridSearchCV, learning_curve\n",
    "from sklearn.preprocessing import StandardScaler\n",
    "from sklearn.dummy import DummyRegressor\n",
    "from sklearn.linear_model import LinearRegression\n",
    "from sklearn.linear_model import Ridge\n",
    "from sklearn.linear_model import RidgeCV\n",
    "from sklearn.ensemble import RandomForestRegressor\n",
    "from sklearn.metrics import r2_score, mean_squared_error, mean_absolute_error, mean_squared_log_error\n",
    "from sklearn.pipeline import make_pipeline\n",
    "from sklearn.impute import SimpleImputer\n",
    "from sklearn.feature_selection import SelectKBest, f_regression\n",
    "import datetime\n",
    "import math"
   ]
  },
  {
   "cell_type": "markdown",
   "id": "21e1481d",
   "metadata": {},
   "source": [
    "## 4.5 Load Data<a id='4.5_Load_Data'></a>"
   ]
  },
  {
   "cell_type": "code",
   "execution_count": 58,
   "id": "4baf7c2e",
   "metadata": {},
   "outputs": [],
   "source": [
    "# the supplied CSV data files are in the data/processed directory\n",
    "#load data\n",
    "X_train_subsample_lr=pd.read_csv('../data/processed/electricity/subsamples/linear/X_train_subsample_lr.csv').drop('Unnamed: 0',axis=1)\n",
    "y_train_subsample_lr=pd.read_csv('../data/processed/electricity/subsamples/linear/y_train_subsample_lr.csv').drop('Unnamed: 0',axis=1)\n",
    "X_test_subsample_lr=pd.read_csv('../data/processed/electricity/subsamples/linear/X_test_subsample_lr.csv').drop('Unnamed: 0',axis=1)\n",
    "y_test_subsample_lr=pd.read_csv('../data/processed/electricity/subsamples/linear/y_test_subsample_lr.csv').drop('Unnamed: 0',axis=1)\n",
    "\n",
    "X_train_subsample_rf=pd.read_csv('../data/processed/electricity/subsamples/random_forest/X_train_subsample_rf.csv').drop('Unnamed: 0',axis=1)\n",
    "y_train_subsample_rf=pd.read_csv('../data/processed/electricity/subsamples/random_forest/y_train_subsample_rf.csv').drop('Unnamed: 0',axis=1)\n",
    "X_test_subsample_rf=pd.read_csv('../data/processed/electricity/subsamples/random_forest/X_test_subsample_rf.csv').drop('Unnamed: 0',axis=1)\n",
    "y_test_subsample_rf=pd.read_csv('../data/processed/electricity/subsamples/random_forest/y_test_subsample_rf.csv').drop('Unnamed: 0',axis=1)\n",
    "\n",
    "# change the format of timestamp to datetime\n",
    "X_train_subsample_lr['timestamp']=pd.to_datetime(X_train_subsample_lr['timestamp'],format='%Y-%m-%d %H:%M:%S')\n",
    "X_test_subsample_lr['timestamp']=pd.to_datetime(X_test_subsample_lr['timestamp'],format='%Y-%m-%d %H:%M:%S')\n",
    "\n",
    "X_train_subsample_rf['timestamp']=pd.to_datetime(X_train_subsample_rf['timestamp'],format='%Y-%m-%d %H:%M:%S')\n",
    "X_test_subsample_rf['timestamp']=pd.to_datetime(X_test_subsample_rf['timestamp'],format='%Y-%m-%d %H:%M:%S')"
   ]
  },
  {
   "cell_type": "markdown",
   "id": "ad67065f",
   "metadata": {},
   "source": [
    "## 4.6 Prepare Data for Modeling<a id='4.6_Prepare_Data_for_Modeling'></a>"
   ]
  },
  {
   "cell_type": "markdown",
   "id": "4615f6b0",
   "metadata": {},
   "source": [
    "Use only the numeric features for modeling"
   ]
  },
  {
   "cell_type": "code",
   "execution_count": 59,
   "id": "7a73a884",
   "metadata": {},
   "outputs": [
    {
     "data": {
      "text/plain": [
       "Index(['building_id', 'meter', 'timestamp', 'month', 'day', 'dayofweek',\n",
       "       'hour', 'site_id', 'primary_use', 'square_feet', 'year_built',\n",
       "       'floor_count', 'consumption_per_square_feet', 'air_temperature',\n",
       "       'cloud_coverage', 'dew_temperature', 'precip_depth_1_hr',\n",
       "       'sea_level_pressure', 'wind_direction', 'wind_speed', 'season',\n",
       "       'cos_hour', 'sin_hour', 'cos_month', 'sin_month', 'cos_day', 'sin_day',\n",
       "       'cos_dayofweek', 'sin_dayofweek', 'cos_season', 'sin_season'],\n",
       "      dtype='object')"
      ]
     },
     "execution_count": 59,
     "metadata": {},
     "output_type": "execute_result"
    }
   ],
   "source": [
    "X_train_subsample_lr.columns"
   ]
  },
  {
   "cell_type": "code",
   "execution_count": 60,
   "id": "bf08c3b9",
   "metadata": {},
   "outputs": [
    {
     "data": {
      "text/plain": [
       "((100000, 26), (100000, 26))"
      ]
     },
     "execution_count": 60,
     "metadata": {},
     "output_type": "execute_result"
    }
   ],
   "source": [
    "categ_list = ['site_id','building_id','primary_use','meter','timestamp']\n",
    "categ_train = X_train_subsample_lr[['site_id','building_id','primary_use','meter','timestamp']]\n",
    "categ_test = X_test_subsample_lr[['site_id','building_id','primary_use','meter','timestamp']]\n",
    "X_train_subsample_lr.drop(columns=categ_list, inplace=True)\n",
    "X_test_subsample_lr.drop(columns=categ_list, inplace=True)\n",
    "X_train_subsample_lr.shape, X_test_subsample_lr.shape"
   ]
  },
  {
   "cell_type": "markdown",
   "id": "dc85227d",
   "metadata": {},
   "source": [
    "Remove the hour, month, day, dayofweek, and season features since we have already converted them to cyclic features. Remove consumption_per_square_feet because our preferred target is the meter_readings. Preliminary modeling using consumption_per_square_feet as the target was unsuccessful."
   ]
  },
  {
   "cell_type": "code",
   "execution_count": 61,
   "id": "1d1feac3",
   "metadata": {},
   "outputs": [],
   "source": [
    "X_train_subsample_lr=X_train_subsample_lr.drop(['hour','month', 'day','dayofweek','season',\n",
    "                                                'consumption_per_square_feet','floor_count'],axis=1)\n",
    "\n",
    "\n",
    "X_train_subsample_rf=X_train_subsample_rf.drop(['hour','month', 'day','dayofweek','season',\n",
    "                                                'consumption_per_square_feet','floor_count'],axis=1)\n",
    "\n",
    "X_test_subsample_lr=X_test_subsample_lr.drop(['hour','month', 'day','dayofweek','season',\n",
    "                                                'consumption_per_square_feet','floor_count'],axis=1)\n",
    "\n",
    "\n",
    "X_test_subsample_rf=X_test_subsample_rf.drop(['hour','month', 'day','dayofweek','season',\n",
    "                                                'consumption_per_square_feet','floor_count'],axis=1)"
   ]
  },
  {
   "cell_type": "code",
   "execution_count": 62,
   "id": "094ba1c9",
   "metadata": {},
   "outputs": [
    {
     "data": {
      "text/plain": [
       "((10000, 19), (10000, 19))"
      ]
     },
     "execution_count": 62,
     "metadata": {},
     "output_type": "execute_result"
    }
   ],
   "source": [
    "X_train_subsample_rf.drop(columns=categ_list, inplace=True)\n",
    "X_test_subsample_rf.drop(columns=categ_list, inplace=True)\n",
    "X_train_subsample_rf.shape, X_test_subsample_rf.shape"
   ]
  },
  {
   "cell_type": "code",
   "execution_count": 63,
   "id": "17732ea0",
   "metadata": {},
   "outputs": [
    {
     "data": {
      "text/plain": [
       "(10000, 19)"
      ]
     },
     "execution_count": 63,
     "metadata": {},
     "output_type": "execute_result"
    }
   ],
   "source": [
    "X_train_subsample_rf.shape"
   ]
  },
  {
   "cell_type": "markdown",
   "id": "62b88736",
   "metadata": {},
   "source": [
    "## 4.7 Train the Models<a id='4.6_Train_the_Models'></a>"
   ]
  },
  {
   "cell_type": "markdown",
   "id": "fcc06833",
   "metadata": {},
   "source": [
    "### 4.7.2 Linear Regression Model<a id='4.6.2_Linear_Regression_Model'></a>"
   ]
  },
  {
   "cell_type": "markdown",
   "id": "5adfdb47",
   "metadata": {},
   "source": [
    "#### 4.7.2.1 Make Pipeline<a id='4.6.2.1_Make_Pipeline'></a>"
   ]
  },
  {
   "cell_type": "markdown",
   "id": "e18d7a9c",
   "metadata": {},
   "source": [
    "I first make a pipeline that puts together the main steps for the machine learning workflow.\n",
    "1. Impute remaining missing data with either the mean or median of each feature\n",
    "2. Keep the data as is, or standardize it such that each feature has a mean of 0 and a variance of 1.\n",
    "3. Select the k best features that give the best performance\n",
    "4. Train the model"
   ]
  },
  {
   "cell_type": "code",
   "execution_count": 64,
   "id": "c7373804",
   "metadata": {},
   "outputs": [
    {
     "data": {
      "text/plain": [
       "Pipeline(steps=[('simpleimputer', SimpleImputer()),\n",
       "                ('standardscaler', StandardScaler()),\n",
       "                ('selectkbest',\n",
       "                 SelectKBest(score_func=<function f_regression at 0x000001FE21F0E3A0>)),\n",
       "                ('linearregression', LinearRegression())])"
      ]
     },
     "execution_count": 64,
     "metadata": {},
     "output_type": "execute_result"
    }
   ],
   "source": [
    "pipe=make_pipeline(SimpleImputer(),\n",
    "    StandardScaler(),\n",
    "    SelectKBest(f_regression),\n",
    "    LinearRegression())\n",
    "pipe"
   ]
  },
  {
   "cell_type": "markdown",
   "id": "29478906",
   "metadata": {},
   "source": [
    "#### 4.6.2.2 Define Parameters to Tune<a id='4.6.2.2_Define_Parameters_to_Tune'></a>"
   ]
  },
  {
   "cell_type": "code",
   "execution_count": 65,
   "id": "4a8478d4",
   "metadata": {},
   "outputs": [],
   "source": [
    "k = [k+1 for k in range(len(X_train_subsample_lr.columns))]\n",
    "grid_params={'standardscaler':[StandardScaler(),None],\n",
    "            'simpleimputer__strategy':['mean','median'],\n",
    "            'selectkbest__k': k}"
   ]
  },
  {
   "cell_type": "markdown",
   "id": "0de3e12c",
   "metadata": {},
   "source": [
    "#### 4.6.2.3 Parameter Tuning Using GridSearchCV<a id='4.6.2.3_Parameter_Tuning_Using_GridSearchCV'></a>"
   ]
  },
  {
   "cell_type": "markdown",
   "id": "650c6e0d",
   "metadata": {},
   "source": [
    "Here, I will use GridSearchCV to assess the models produced from using different parameters, and choose the parameters that give the best performance. I will use 3 cross-validation folds for this step."
   ]
  },
  {
   "cell_type": "code",
   "execution_count": 66,
   "id": "695bd15c",
   "metadata": {},
   "outputs": [
    {
     "name": "stderr",
     "output_type": "stream",
     "text": [
      "C:\\Users\\melis\\anaconda3\\lib\\site-packages\\sklearn\\utils\\validation.py:63: DataConversionWarning: A column-vector y was passed when a 1d array was expected. Please change the shape of y to (n_samples, ), for example using ravel().\n",
      "  return f(*args, **kwargs)\n"
     ]
    },
    {
     "data": {
      "text/plain": [
       "GridSearchCV(cv=3,\n",
       "             estimator=Pipeline(steps=[('simpleimputer', SimpleImputer()),\n",
       "                                       ('standardscaler', StandardScaler()),\n",
       "                                       ('selectkbest',\n",
       "                                        SelectKBest(score_func=<function f_regression at 0x000001FE21F0E3A0>)),\n",
       "                                       ('linearregression',\n",
       "                                        LinearRegression())]),\n",
       "             n_jobs=-1,\n",
       "             param_grid={'selectkbest__k': [1, 2, 3, 4, 5, 6, 7, 8, 9, 10, 11,\n",
       "                                            12, 13, 14, 15, 16, 17, 18, 19],\n",
       "                         'simpleimputer__strategy': ['mean', 'median'],\n",
       "                         'standardscaler': [StandardScaler(), None]})"
      ]
     },
     "execution_count": 66,
     "metadata": {},
     "output_type": "execute_result"
    }
   ],
   "source": [
    "lr_grid_cv= GridSearchCV(pipe,param_grid=grid_params, cv=3, n_jobs=-1)\n",
    "lr_grid_cv.fit(X_train_subsample_lr,y_train_subsample_lr)"
   ]
  },
  {
   "cell_type": "markdown",
   "id": "73b1cdac",
   "metadata": {},
   "source": [
    "#### 4.6.2.4 Obtain Scores<a id='4.6.2.3_Obtain_Scores'></a>"
   ]
  },
  {
   "cell_type": "markdown",
   "id": "8afe9cc3",
   "metadata": {},
   "source": [
    "The R^2 is used to score the models."
   ]
  },
  {
   "cell_type": "code",
   "execution_count": 67,
   "id": "69bdd060",
   "metadata": {},
   "outputs": [],
   "source": [
    "score_mean = lr_grid_cv.cv_results_['mean_test_score']\n",
    "score_std = lr_grid_cv.cv_results_['std_test_score']\n",
    "cv_k = [k for k in lr_grid_cv.cv_results_['param_selectkbest__k']]"
   ]
  },
  {
   "cell_type": "markdown",
   "id": "ae3e5c64",
   "metadata": {},
   "source": [
    "Here we found that the best set of parameters are all 20 features, using the median to impute remaining missing values, and the features do not need to be standardized. "
   ]
  },
  {
   "cell_type": "code",
   "execution_count": 68,
   "id": "494fd99e",
   "metadata": {},
   "outputs": [
    {
     "data": {
      "text/plain": [
       "{'selectkbest__k': 19,\n",
       " 'simpleimputer__strategy': 'mean',\n",
       " 'standardscaler': StandardScaler()}"
      ]
     },
     "execution_count": 68,
     "metadata": {},
     "output_type": "execute_result"
    }
   ],
   "source": [
    "lr_grid_cv.best_params_"
   ]
  },
  {
   "cell_type": "code",
   "execution_count": 69,
   "id": "421e5ab8",
   "metadata": {},
   "outputs": [
    {
     "data": {
      "image/png": "[encoded data removed]",
      "text/plain": [
       "<Figure size 720x360 with 1 Axes>"
      ]
     },
     "metadata": {
      "needs_background": "light"
     },
     "output_type": "display_data"
    }
   ],
   "source": [
    "best_k = lr_grid_cv.best_params_['selectkbest__k']\n",
    "plt.subplots(figsize=(10, 5))\n",
    "plt.errorbar(cv_k, score_mean, yerr=score_std)\n",
    "plt.axvline(x=best_k, c='r', ls='--', alpha=.5)\n",
    "plt.xlabel('k')\n",
    "plt.ylabel('CV score (r-squared)')\n",
    "plt.title('Pipeline mean CV score (error bars +/- 1sd)');"
   ]
  },
  {
   "cell_type": "markdown",
   "id": "54c22abd",
   "metadata": {},
   "source": [
    "Here we see that while continuing to add features improves the score of the model, we don't see much better performance beyond using just two features. In this case, the adjusted R^2 may be a better way to score the models, since it penalizes the addition of more features to the model."
   ]
  },
  {
   "cell_type": "code",
   "execution_count": 70,
   "id": "9a7f5094",
   "metadata": {},
   "outputs": [],
   "source": [
    "selected = lr_grid_cv.best_estimator_.named_steps.selectkbest.get_support()"
   ]
  },
  {
   "cell_type": "code",
   "execution_count": 71,
   "id": "781d93e0",
   "metadata": {},
   "outputs": [
    {
     "data": {
      "text/plain": [
       "square_feet           199.492475\n",
       "precip_depth_1_hr      16.683666\n",
       "year_built             16.318013\n",
       "wind_direction         14.085223\n",
       "cloud_coverage         13.190633\n",
       "cos_season              5.834014\n",
       "sin_dayofweek           5.504321\n",
       "dew_temperature         3.877932\n",
       "cos_day                 0.295860\n",
       "sin_day                -2.574647\n",
       "sin_season             -3.686897\n",
       "sea_level_pressure     -4.440066\n",
       "cos_dayofweek          -7.631675\n",
       "sin_hour               -9.052045\n",
       "cos_month             -14.238088\n",
       "cos_hour              -15.117446\n",
       "wind_speed            -15.530832\n",
       "sin_month             -15.969280\n",
       "air_temperature       -25.150823\n",
       "dtype: float64"
      ]
     },
     "execution_count": 71,
     "metadata": {},
     "output_type": "execute_result"
    }
   ],
   "source": [
    "coefs = lr_grid_cv.best_estimator_.named_steps.linearregression.coef_\n",
    "features = X_train_subsample_lr.columns[selected]\n",
    "pd.Series(list(coefs[0]), index=features).sort_values(ascending=False)"
   ]
  },
  {
   "cell_type": "markdown",
   "id": "f4226918",
   "metadata": {},
   "source": [
    "Here it seems the most important feature is the size of the building. The next most important feature is the air_temperature, which has a negative coefficient."
   ]
  },
  {
   "cell_type": "markdown",
   "id": "cd018cdb",
   "metadata": {},
   "source": [
    "#### 4.6.2.5 Measure Accuracy<a id='4.6.2.5_Measure_Accuracy'></a>"
   ]
  },
  {
   "cell_type": "markdown",
   "id": "7fafb5dc",
   "metadata": {},
   "source": [
    "Here we measure the accuracy of the model by calculating the mean absolute error and root mean squared error for the training set and the test set."
   ]
  },
  {
   "cell_type": "code",
   "execution_count": 76,
   "id": "fcb5ec47",
   "metadata": {},
   "outputs": [
    {
     "data": {
      "text/plain": [
       "(129.06110936366244, 129.67429517968833)"
      ]
     },
     "execution_count": 76,
     "metadata": {},
     "output_type": "execute_result"
    }
   ],
   "source": [
    "mean_absolute_error(y_train_subsample_lr, y_tr_pred), mean_absolute_error(y_test_subsample_lr, y_test_pred)"
   ]
  },
  {
   "cell_type": "code",
   "execution_count": 77,
   "id": "87eb24a9",
   "metadata": {},
   "outputs": [
    {
     "data": {
      "text/plain": [
       "(304.1959552417435, 307.3233262914149)"
      ]
     },
     "execution_count": 77,
     "metadata": {},
     "output_type": "execute_result"
    }
   ],
   "source": [
    "y_tr_pred = lr_grid_cv.predict(X_train_subsample_lr)\n",
    "y_test_pred = lr_grid_cv.predict(X_test_subsample_lr)\n",
    "(mean_squared_error(y_train_subsample_lr, y_tr_pred))**(1/2), (mean_squared_error(y_test_subsample_lr, y_test_pred))**(1/2)"
   ]
  },
  {
   "cell_type": "markdown",
   "id": "9d1457ef",
   "metadata": {},
   "source": [
    "### 4.7.3 Random Forest Regression Model<a id='4.6.3_Random_Forest_Regression_Model'></a>"
   ]
  },
  {
   "cell_type": "markdown",
   "id": "714afbbd",
   "metadata": {},
   "source": [
    "#### 4.7.3.1 Make Pipeline<a id='4.6.3.1_Make_Pipeline'></a>"
   ]
  },
  {
   "cell_type": "markdown",
   "id": "233a27e9",
   "metadata": {},
   "source": [
    "I first make a pipeline that puts together the main steps for the machine learning workflow.\n",
    "1. Impute remaining missing data with either the mean or median of each feature\n",
    "2. Keep the data as is, or standardize it such that each feature has a mean of 0 and a variance of 1.\n",
    "3. Use 1000 trees\n",
    "4. Train the model"
   ]
  },
  {
   "cell_type": "code",
   "execution_count": 72,
   "id": "4f2db5e6",
   "metadata": {},
   "outputs": [
    {
     "name": "stderr",
     "output_type": "stream",
     "text": [
      "C:\\Users\\melis\\anaconda3\\lib\\site-packages\\sklearn\\pipeline.py:346: DataConversionWarning: A column-vector y was passed when a 1d array was expected. Please change the shape of y to (n_samples,), for example using ravel().\n",
      "  self._final_estimator.fit(Xt, y, **fit_params_last_step)\n"
     ]
    },
    {
     "data": {
      "text/plain": [
       "GridSearchCV(cv=3,\n",
       "             estimator=Pipeline(steps=[('simpleimputer', SimpleImputer()),\n",
       "                                       ('standardscaler', StandardScaler()),\n",
       "                                       ('randomforestregressor',\n",
       "                                        RandomForestRegressor(n_estimators=1000,\n",
       "                                                              random_state=47))]),\n",
       "             n_jobs=-1,\n",
       "             param_grid={'simpleimputer__strategy': ['mean', 'median'],\n",
       "                         'standardscaler': [StandardScaler(), None]})"
      ]
     },
     "execution_count": 72,
     "metadata": {},
     "output_type": "execute_result"
    }
   ],
   "source": [
    "pipe=make_pipeline(SimpleImputer(),\n",
    "    StandardScaler(),\n",
    "    RandomForestRegressor(n_estimators=1000,random_state=47))"
   ]
  },
  {
   "cell_type": "markdown",
   "id": "0a29ec6a",
   "metadata": {},
   "source": [
    "#### 4.6.2.2 Define Parameters to Tune<a id='4.6.2.2_Define_Parameters_to_Tune'></a>"
   ]
  },
  {
   "cell_type": "code",
   "execution_count": null,
   "id": "c2eaa997",
   "metadata": {},
   "outputs": [],
   "source": [
    "grid_params={'standardscaler':[StandardScaler(),None],\n",
    "            'simpleimputer__strategy':['mean','median']}"
   ]
  },
  {
   "cell_type": "markdown",
   "id": "f01976b9",
   "metadata": {},
   "source": [
    "#### 4.6.2.3 Parameter Tuning Using GridSearchCV<a id='4.6.2.3_Parameter_Tuning_Using_GridSearchCV'></a>"
   ]
  },
  {
   "cell_type": "markdown",
   "id": "8585e636",
   "metadata": {},
   "source": [
    "Here, I will use GridSearchCV to assess the models produced from using different parameters, and choose the parameters that give the best performance. I will use 3 cross-validation folds for this step."
   ]
  },
  {
   "cell_type": "code",
   "execution_count": null,
   "id": "1b08db9b",
   "metadata": {},
   "outputs": [],
   "source": [
    "rf_grid_cv= GridSearchCV(pipe,param_grid=grid_params, cv=3, n_jobs=-1)\n",
    "rf_grid_cv.fit(X_train_subsample_rf,y_train_subsample_rf)"
   ]
  },
  {
   "cell_type": "markdown",
   "id": "0386f19d",
   "metadata": {},
   "source": [
    "#### 4.6.2.4 Obtain Scores<a id='4.6.2.3_Obtain_Scores'></a>"
   ]
  },
  {
   "cell_type": "markdown",
   "id": "847091ee",
   "metadata": {},
   "source": [
    "The best parameters are using the median to impute missing data and standardizing the features."
   ]
  },
  {
   "cell_type": "code",
   "execution_count": 73,
   "id": "900bee08",
   "metadata": {},
   "outputs": [
    {
     "data": {
      "text/plain": [
       "{'simpleimputer__strategy': 'median', 'standardscaler': StandardScaler()}"
      ]
     },
     "execution_count": 73,
     "metadata": {},
     "output_type": "execute_result"
    }
   ],
   "source": [
    "rf_grid_cv.best_params_"
   ]
  },
  {
   "cell_type": "markdown",
   "id": "36f607b2",
   "metadata": {},
   "source": [
    "As with the linear regression model, the random forest regression model finds that the most important feature is the size of the building in square_feet."
   ]
  },
  {
   "cell_type": "code",
   "execution_count": 74,
   "id": "de73b867",
   "metadata": {},
   "outputs": [
    {
     "data": {
      "image/png": "[encoded data removed]",
      "text/plain": [
       "<Figure size 720x360 with 1 Axes>"
      ]
     },
     "metadata": {
      "needs_background": "light"
     },
     "output_type": "display_data"
    }
   ],
   "source": [
    "plt.subplots(figsize=(10, 5))\n",
    "imps = rf_grid_cv.best_estimator_.named_steps.randomforestregressor.feature_importances_\n",
    "rf_feat_imps = pd.Series(imps, index=X_train_subsample_rf.columns).sort_values(ascending=False)\n",
    "rf_feat_imps.plot(kind='bar')\n",
    "plt.xlabel('features')\n",
    "plt.ylabel('importance')\n",
    "plt.title('Best random forest regressor feature importances');"
   ]
  },
  {
   "cell_type": "code",
   "execution_count": 75,
   "id": "808f7a3d",
   "metadata": {},
   "outputs": [
    {
     "name": "stdout",
     "output_type": "stream",
     "text": [
      "[0.60838989 0.60834942 0.61325696 0.61184039] [0.04066921 0.04091884 0.04002831 0.03993219]\n"
     ]
    }
   ],
   "source": [
    "score_mean = rf_grid_cv.cv_results_['mean_test_score']\n",
    "score_std = rf_grid_cv.cv_results_['std_test_score']\n",
    "print(score_mean,score_std)"
   ]
  },
  {
   "cell_type": "markdown",
   "id": "35110f9f",
   "metadata": {},
   "source": [
    "#### 4.7.2.5 Measure Accuracy<a id='4.7.2.5_Measure_Accuracy'></a>"
   ]
  },
  {
   "cell_type": "markdown",
   "id": "a022694f",
   "metadata": {},
   "source": [
    "The mean absolute error for this model is ~100 kWh lower for the training set, and ~50 kWh lower for the testing set compared to the linear regression model. \n",
    "\n",
    "The root mean squared error is ~220 kWh lower for the training set, and ~120 kWh lower for the testing set."
   ]
  },
  {
   "cell_type": "code",
   "execution_count": 34,
   "id": "48aafe3f",
   "metadata": {},
   "outputs": [
    {
     "data": {
      "text/plain": [
       "(30.038378717800036, 79.16689877607996)"
      ]
     },
     "execution_count": 34,
     "metadata": {},
     "output_type": "execute_result"
    }
   ],
   "source": [
    "mean_absolute_error(y_train_subsample_rf, y_tr_pred), mean_absolute_error(y_test_subsample_rf, y_test_pred)"
   ]
  },
  {
   "cell_type": "code",
   "execution_count": 33,
   "id": "3d2bf08b",
   "metadata": {},
   "outputs": [
    {
     "data": {
      "text/plain": [
       "(78.63987282887916, 185.9373728972383)"
      ]
     },
     "execution_count": 33,
     "metadata": {},
     "output_type": "execute_result"
    }
   ],
   "source": [
    "y_tr_pred = rf_grid_cv.predict(X_train_subsample_rf)\n",
    "y_test_pred = rf_grid_cv.predict(X_test_subsample_rf)\n",
    "(mean_squared_error(y_train_subsample_rf, y_tr_pred))**(1/2), (mean_squared_error(y_test_subsample_rf, y_test_pred))**(1/2)"
   ]
  },
  {
   "cell_type": "markdown",
   "id": "e21f64e6",
   "metadata": {},
   "source": [
    "### 4.7.4 Ridge Regression Model<a id='4.7.4_Ridge_Regression_Model'></a>"
   ]
  },
  {
   "cell_type": "markdown",
   "id": "e159602e",
   "metadata": {},
   "source": [
    "#### 4.7.3.1 Make Pipeline<a id='4.6.3.1_Make_Pipeline'></a>"
   ]
  },
  {
   "cell_type": "code",
   "execution_count": 78,
   "id": "2e613371",
   "metadata": {},
   "outputs": [],
   "source": [
    "pipe=make_pipeline(SimpleImputer(),\n",
    "    StandardScaler(),\n",
    "    Ridge(normalize=True))"
   ]
  },
  {
   "cell_type": "markdown",
   "id": "6c36b83d",
   "metadata": {},
   "source": [
    "#### 4.7.2.2 Define Parameters to Tune<a id='4.7.2.2_Define_Parameters_to_Tune'></a>"
   ]
  },
  {
   "cell_type": "code",
   "execution_count": 79,
   "id": "410f18ea",
   "metadata": {},
   "outputs": [],
   "source": [
    "alphas = [1e-3, 1e-2, 1e-1, 1]\n",
    "grid_params={'standardscaler':[StandardScaler(),None],\n",
    "            'simpleimputer__strategy':['mean','median'],\n",
    "            'ridge__alpha': alphas}"
   ]
  },
  {
   "cell_type": "markdown",
   "id": "e14ce802",
   "metadata": {},
   "source": [
    "#### 4.7.2.3 Parameter Tuning Using GridSearchCV<a id='4.7.2.3_Parameter_Tuning_Using_GridSearchCV'></a>"
   ]
  },
  {
   "cell_type": "code",
   "execution_count": 80,
   "id": "04ba66ce",
   "metadata": {},
   "outputs": [
    {
     "data": {
      "text/plain": [
       "GridSearchCV(cv=3,\n",
       "             estimator=Pipeline(steps=[('simpleimputer', SimpleImputer()),\n",
       "                                       ('standardscaler', StandardScaler()),\n",
       "                                       ('ridge', Ridge(normalize=True))]),\n",
       "             n_jobs=-1,\n",
       "             param_grid={'ridge__alpha': [0.001, 0.01, 0.1, 1],\n",
       "                         'simpleimputer__strategy': ['mean', 'median'],\n",
       "                         'standardscaler': [StandardScaler(), None]})"
      ]
     },
     "execution_count": 80,
     "metadata": {},
     "output_type": "execute_result"
    }
   ],
   "source": [
    "rdg_grid_cv= GridSearchCV(pipe,param_grid=grid_params, cv=3, n_jobs=-1)\n",
    "rdg_grid_cv.fit(X_train_subsample_lr,y_train_subsample_lr)"
   ]
  },
  {
   "cell_type": "code",
   "execution_count": 81,
   "id": "79e6cf22",
   "metadata": {},
   "outputs": [
    {
     "data": {
      "text/plain": [
       "{'ridge__alpha': 0.001,\n",
       " 'simpleimputer__strategy': 'mean',\n",
       " 'standardscaler': StandardScaler()}"
      ]
     },
     "execution_count": 81,
     "metadata": {},
     "output_type": "execute_result"
    }
   ],
   "source": [
    "rdg_grid_cv.best_params_"
   ]
  },
  {
   "cell_type": "code",
   "execution_count": 83,
   "id": "830156dc",
   "metadata": {},
   "outputs": [
    {
     "name": "stdout",
     "output_type": "stream",
     "text": [
      "[0.31361088 0.31361088 0.31349122 0.31349122 0.31358807 0.31358807\n",
      " 0.31346845 0.31346845 0.31101084 0.31101084 0.3108981  0.3108981\n",
      " 0.23620298 0.23620298 0.23624273 0.23624273]\n"
     ]
    }
   ],
   "source": [
    "score_mean = rdg_grid_cv.cv_results_['mean_test_score']\n",
    "score_std = rdg_grid_cv.cv_results_['std_test_score']\n",
    "print(score_mean)"
   ]
  },
  {
   "cell_type": "code",
   "execution_count": 84,
   "id": "f817732e",
   "metadata": {},
   "outputs": [
    {
     "data": {
      "text/plain": [
       "(304.19603394325156, 307.32722461434923)"
      ]
     },
     "execution_count": 84,
     "metadata": {},
     "output_type": "execute_result"
    }
   ],
   "source": [
    "y_tr_pred = rdg_grid_cv.predict(X_train_subsample_lr)\n",
    "y_test_pred = rdg_grid_cv.predict(X_test_subsample_lr)\n",
    "(mean_squared_error(y_train_subsample_lr, y_tr_pred))**(1/2), (mean_squared_error(y_test_subsample_lr, y_test_pred))**(1/2)"
   ]
  },
  {
   "cell_type": "code",
   "execution_count": 85,
   "id": "a32ff2e7",
   "metadata": {},
   "outputs": [
    {
     "data": {
      "text/plain": [
       "(128.0042393311223, 128.5215584063653)"
      ]
     },
     "execution_count": 85,
     "metadata": {},
     "output_type": "execute_result"
    }
   ],
   "source": [
    "mean_absolute_error(y_train_subsample_lr, y_tr_pred), mean_absolute_error(y_test_subsample_lr, y_test_pred)"
   ]
  },
  {
   "cell_type": "markdown",
   "id": "d6a96ad2",
   "metadata": {},
   "source": [
    "### 4.8 Try best model on validation data"
   ]
  },
  {
   "cell_type": "code",
   "execution_count": 86,
   "id": "3c4ffce8",
   "metadata": {},
   "outputs": [],
   "source": [
    "val_data=pd.read_csv('../data/processed/electricity/validation_data.csv').drop('Unnamed: 0',axis=1)\n",
    "val_data['timestamp']=pd.to_datetime(val_data['timestamp'],format='%Y-%m-%d %H:%M:%S')"
   ]
  },
  {
   "cell_type": "code",
   "execution_count": 87,
   "id": "c2cf78a4",
   "metadata": {},
   "outputs": [],
   "source": [
    "timestamp=val_data['timestamp']"
   ]
  },
  {
   "cell_type": "code",
   "execution_count": 88,
   "id": "6d43e4f5",
   "metadata": {},
   "outputs": [],
   "source": [
    "val_data=val_data.drop(['building_id','meter','timestamp','month','day',\n",
    "                        'dayofweek','hour','site_id','primary_use','consumption_per_square_feet',\n",
    "                        'season','floor_count'],axis=1)"
   ]
  },
  {
   "cell_type": "code",
   "execution_count": 89,
   "id": "ecf04d02",
   "metadata": {},
   "outputs": [],
   "source": [
    "X=val_data.drop(columns='meter_reading')\n",
    "y=val_data.meter_reading"
   ]
  },
  {
   "cell_type": "code",
   "execution_count": null,
   "id": "0b03f42e",
   "metadata": {},
   "outputs": [],
   "source": []
  },
  {
   "cell_type": "code",
   "execution_count": 90,
   "id": "5cafd586",
   "metadata": {},
   "outputs": [],
   "source": [
    "y_val_pred=rf_grid_cv.predict(X)"
   ]
  },
  {
   "cell_type": "code",
   "execution_count": 91,
   "id": "9179f08e",
   "metadata": {},
   "outputs": [
    {
     "data": {
      "text/plain": [
       "238.7844276624935"
      ]
     },
     "execution_count": 91,
     "metadata": {},
     "output_type": "execute_result"
    }
   ],
   "source": [
    "(mean_squared_error(y, y_val_pred))**(1/2)"
   ]
  },
  {
   "cell_type": "code",
   "execution_count": 92,
   "id": "4923732a",
   "metadata": {},
   "outputs": [
    {
     "data": {
      "text/plain": [
       "232.5843341226948"
      ]
     },
     "execution_count": 92,
     "metadata": {},
     "output_type": "execute_result"
    }
   ],
   "source": [
    "mean_absolute_error(y, y_val_pred)"
   ]
  },
  {
   "cell_type": "code",
   "execution_count": 93,
   "id": "af286f87",
   "metadata": {},
   "outputs": [
    {
     "data": {
      "text/plain": [
       "0       144.041333\n",
       "1       143.444147\n",
       "2       144.674966\n",
       "3       152.631042\n",
       "4       169.311459\n",
       "           ...    \n",
       "8768    229.526612\n",
       "8769    248.772280\n",
       "8770    232.533050\n",
       "8771    236.183695\n",
       "8772    225.774751\n",
       "Length: 8773, dtype: float64"
      ]
     },
     "execution_count": 93,
     "metadata": {},
     "output_type": "execute_result"
    }
   ],
   "source": [
    "pd.Series(y_val_pred)"
   ]
  },
  {
   "cell_type": "code",
   "execution_count": 94,
   "id": "009654db",
   "metadata": {},
   "outputs": [
    {
     "data": {
      "text/plain": [
       "0       416.169\n",
       "1       408.616\n",
       "2       412.072\n",
       "3       393.053\n",
       "4       404.519\n",
       "         ...   \n",
       "8768    456.460\n",
       "8769    455.198\n",
       "8770    466.479\n",
       "8771    471.751\n",
       "8772    461.110\n",
       "Name: meter_reading, Length: 8773, dtype: float64"
      ]
     },
     "execution_count": 94,
     "metadata": {},
     "output_type": "execute_result"
    }
   ],
   "source": [
    "y"
   ]
  },
  {
   "cell_type": "code",
   "execution_count": 95,
   "id": "74bee2eb",
   "metadata": {},
   "outputs": [],
   "source": [
    "predictions=pd.concat([timestamp,pd.DataFrame(y_val_pred, columns=['meter_reading'])],axis=1)"
   ]
  },
  {
   "cell_type": "code",
   "execution_count": 96,
   "id": "e7c69456",
   "metadata": {},
   "outputs": [
    {
     "data": {
      "text/html": [
       "<div>\n",
       "<style scoped>\n",
       "    .dataframe tbody tr th:only-of-type {\n",
       "        vertical-align: middle;\n",
       "    }\n",
       "\n",
       "    .dataframe tbody tr th {\n",
       "        vertical-align: top;\n",
       "    }\n",
       "\n",
       "    .dataframe thead th {\n",
       "        text-align: right;\n",
       "    }\n",
       "</style>\n",
       "<table border=\"1\" class=\"dataframe\">\n",
       "  <thead>\n",
       "    <tr style=\"text-align: right;\">\n",
       "      <th></th>\n",
       "      <th>timestamp</th>\n",
       "      <th>meter_reading</th>\n",
       "    </tr>\n",
       "  </thead>\n",
       "  <tbody>\n",
       "    <tr>\n",
       "      <th>0</th>\n",
       "      <td>2016-01-01 00:00:00</td>\n",
       "      <td>144.041333</td>\n",
       "    </tr>\n",
       "    <tr>\n",
       "      <th>1</th>\n",
       "      <td>2016-01-01 01:00:00</td>\n",
       "      <td>143.444147</td>\n",
       "    </tr>\n",
       "    <tr>\n",
       "      <th>2</th>\n",
       "      <td>2016-01-01 02:00:00</td>\n",
       "      <td>144.674966</td>\n",
       "    </tr>\n",
       "    <tr>\n",
       "      <th>3</th>\n",
       "      <td>2016-01-01 03:00:00</td>\n",
       "      <td>152.631042</td>\n",
       "    </tr>\n",
       "    <tr>\n",
       "      <th>4</th>\n",
       "      <td>2016-01-01 04:00:00</td>\n",
       "      <td>169.311459</td>\n",
       "    </tr>\n",
       "    <tr>\n",
       "      <th>...</th>\n",
       "      <td>...</td>\n",
       "      <td>...</td>\n",
       "    </tr>\n",
       "    <tr>\n",
       "      <th>8768</th>\n",
       "      <td>2016-12-31 14:00:00</td>\n",
       "      <td>229.526612</td>\n",
       "    </tr>\n",
       "    <tr>\n",
       "      <th>8769</th>\n",
       "      <td>2016-12-31 15:00:00</td>\n",
       "      <td>248.772280</td>\n",
       "    </tr>\n",
       "    <tr>\n",
       "      <th>8770</th>\n",
       "      <td>2016-12-31 16:00:00</td>\n",
       "      <td>232.533050</td>\n",
       "    </tr>\n",
       "    <tr>\n",
       "      <th>8771</th>\n",
       "      <td>2016-12-31 17:00:00</td>\n",
       "      <td>236.183695</td>\n",
       "    </tr>\n",
       "    <tr>\n",
       "      <th>8772</th>\n",
       "      <td>2016-12-31 18:00:00</td>\n",
       "      <td>225.774751</td>\n",
       "    </tr>\n",
       "  </tbody>\n",
       "</table>\n",
       "<p>8773 rows × 2 columns</p>\n",
       "</div>"
      ],
      "text/plain": [
       "               timestamp  meter_reading\n",
       "0    2016-01-01 00:00:00     144.041333\n",
       "1    2016-01-01 01:00:00     143.444147\n",
       "2    2016-01-01 02:00:00     144.674966\n",
       "3    2016-01-01 03:00:00     152.631042\n",
       "4    2016-01-01 04:00:00     169.311459\n",
       "...                  ...            ...\n",
       "8768 2016-12-31 14:00:00     229.526612\n",
       "8769 2016-12-31 15:00:00     248.772280\n",
       "8770 2016-12-31 16:00:00     232.533050\n",
       "8771 2016-12-31 17:00:00     236.183695\n",
       "8772 2016-12-31 18:00:00     225.774751\n",
       "\n",
       "[8773 rows x 2 columns]"
      ]
     },
     "execution_count": 96,
     "metadata": {},
     "output_type": "execute_result"
    }
   ],
   "source": [
    "predictions"
   ]
  },
  {
   "cell_type": "code",
   "execution_count": 97,
   "id": "242f950b",
   "metadata": {},
   "outputs": [],
   "source": [
    "old=pd.concat([timestamp,y],axis=1)"
   ]
  },
  {
   "cell_type": "code",
   "execution_count": 98,
   "id": "f0ed0a93",
   "metadata": {},
   "outputs": [
    {
     "data": {
      "text/html": [
       "<div>\n",
       "<style scoped>\n",
       "    .dataframe tbody tr th:only-of-type {\n",
       "        vertical-align: middle;\n",
       "    }\n",
       "\n",
       "    .dataframe tbody tr th {\n",
       "        vertical-align: top;\n",
       "    }\n",
       "\n",
       "    .dataframe thead th {\n",
       "        text-align: right;\n",
       "    }\n",
       "</style>\n",
       "<table border=\"1\" class=\"dataframe\">\n",
       "  <thead>\n",
       "    <tr style=\"text-align: right;\">\n",
       "      <th></th>\n",
       "      <th>timestamp</th>\n",
       "      <th>meter_reading</th>\n",
       "    </tr>\n",
       "  </thead>\n",
       "  <tbody>\n",
       "    <tr>\n",
       "      <th>0</th>\n",
       "      <td>2016-01-01 00:00:00</td>\n",
       "      <td>416.169</td>\n",
       "    </tr>\n",
       "    <tr>\n",
       "      <th>1</th>\n",
       "      <td>2016-01-01 01:00:00</td>\n",
       "      <td>408.616</td>\n",
       "    </tr>\n",
       "    <tr>\n",
       "      <th>2</th>\n",
       "      <td>2016-01-01 02:00:00</td>\n",
       "      <td>412.072</td>\n",
       "    </tr>\n",
       "    <tr>\n",
       "      <th>3</th>\n",
       "      <td>2016-01-01 03:00:00</td>\n",
       "      <td>393.053</td>\n",
       "    </tr>\n",
       "    <tr>\n",
       "      <th>4</th>\n",
       "      <td>2016-01-01 04:00:00</td>\n",
       "      <td>404.519</td>\n",
       "    </tr>\n",
       "    <tr>\n",
       "      <th>...</th>\n",
       "      <td>...</td>\n",
       "      <td>...</td>\n",
       "    </tr>\n",
       "    <tr>\n",
       "      <th>8768</th>\n",
       "      <td>2016-12-31 14:00:00</td>\n",
       "      <td>456.460</td>\n",
       "    </tr>\n",
       "    <tr>\n",
       "      <th>8769</th>\n",
       "      <td>2016-12-31 15:00:00</td>\n",
       "      <td>455.198</td>\n",
       "    </tr>\n",
       "    <tr>\n",
       "      <th>8770</th>\n",
       "      <td>2016-12-31 16:00:00</td>\n",
       "      <td>466.479</td>\n",
       "    </tr>\n",
       "    <tr>\n",
       "      <th>8771</th>\n",
       "      <td>2016-12-31 17:00:00</td>\n",
       "      <td>471.751</td>\n",
       "    </tr>\n",
       "    <tr>\n",
       "      <th>8772</th>\n",
       "      <td>2016-12-31 18:00:00</td>\n",
       "      <td>461.110</td>\n",
       "    </tr>\n",
       "  </tbody>\n",
       "</table>\n",
       "<p>8773 rows × 2 columns</p>\n",
       "</div>"
      ],
      "text/plain": [
       "               timestamp  meter_reading\n",
       "0    2016-01-01 00:00:00        416.169\n",
       "1    2016-01-01 01:00:00        408.616\n",
       "2    2016-01-01 02:00:00        412.072\n",
       "3    2016-01-01 03:00:00        393.053\n",
       "4    2016-01-01 04:00:00        404.519\n",
       "...                  ...            ...\n",
       "8768 2016-12-31 14:00:00        456.460\n",
       "8769 2016-12-31 15:00:00        455.198\n",
       "8770 2016-12-31 16:00:00        466.479\n",
       "8771 2016-12-31 17:00:00        471.751\n",
       "8772 2016-12-31 18:00:00        461.110\n",
       "\n",
       "[8773 rows x 2 columns]"
      ]
     },
     "execution_count": 98,
     "metadata": {},
     "output_type": "execute_result"
    }
   ],
   "source": [
    "old"
   ]
  },
  {
   "cell_type": "code",
   "execution_count": 99,
   "id": "3f1559fe",
   "metadata": {},
   "outputs": [],
   "source": [
    "old['moving_avg'] = old['meter_reading'].interpolate('index').rolling(720).mean()"
   ]
  },
  {
   "cell_type": "code",
   "execution_count": 100,
   "id": "ad097615",
   "metadata": {},
   "outputs": [],
   "source": [
    "predictions['moving_avg'] = predictions['meter_reading'].interpolate('index').rolling(720).mean()"
   ]
  },
  {
   "cell_type": "code",
   "execution_count": 101,
   "id": "09f47bc8",
   "metadata": {},
   "outputs": [
    {
     "data": {
      "image/png": "[encoded data removed]",
      "text/plain": [
       "<Figure size 720x504 with 1 Axes>"
      ]
     },
     "metadata": {
      "needs_background": "light"
     },
     "output_type": "display_data"
    }
   ],
   "source": [
    "fig, ax = plt.subplots(1,1,figsize=(10,7))\n",
    "ax.plot(timestamp,predictions['moving_avg'])\n",
    "ax.plot(timestamp,old['moving_avg'])\n",
    "ax.set_xlabel('time')\n",
    "ax.set_ylabel('Electricity Consumption (kWh)')\n",
    "plt.show()"
   ]
  },
  {
   "cell_type": "code",
   "execution_count": null,
   "id": "2a432261",
   "metadata": {},
   "outputs": [],
   "source": []
  }
 ],
 "metadata": {
  "kernelspec": {
   "display_name": "Python 3 (ipykernel)",
   "language": "python",
   "name": "python3"
  },
  "language_info": {
   "codemirror_mode": {
    "name": "ipython",
    "version": 3
   },
   "file_extension": ".py",
   "mimetype": "text/x-python",
   "name": "python",
   "nbconvert_exporter": "python",
   "pygments_lexer": "ipython3",
   "version": "3.9.7"
  }
 },
 "nbformat": 4,
 "nbformat_minor": 5
}
