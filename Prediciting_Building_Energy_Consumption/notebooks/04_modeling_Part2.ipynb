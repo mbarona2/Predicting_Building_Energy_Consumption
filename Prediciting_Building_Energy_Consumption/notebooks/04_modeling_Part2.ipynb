{
 "cells": [
  {
   "cell_type": "markdown",
   "id": "e9dc239b",
   "metadata": {},
   "source": [
    "# 4 Modeling Part 2"
   ]
  },
  {
   "cell_type": "markdown",
   "id": "0f8a1cb6",
   "metadata": {},
   "source": [
    "## 4.1 Contents<a id='4.1_Contents'></a>\n",
    "* [4 Modeling](#4_Modeling)\n",
    "  * [4.1 Contents](#4.1_Contents)\n",
    "  * [4.2 Introduction](#4.2_Introduction)\n",
    "    * [4.2.1 Recap of Data Science Problem](#4.2.1_Recap_of_Data_Science_Problem)\n",
    "    * [4.2.2 Introduction To Notebook](#4.2.2_Introduction_To_Notebook)\n",
    "  * [4.3 Objectives](#4.3_Objectives)\n",
    "  * [4.4 Imports](#4.4_Imports)\n",
    "  * [4.5 Load Data](#4.5_Load_Data)\n",
    "  * [4.6_Prepare Data for Modeling](#4.6_Prepare_Data_for_Modeling)\n",
    "  * [4.7 Train the model](#4.7_Train_the_model)\n",
    "    * [4.7.1 Dummy Regressor](#4.7.1_Dummy_Regressor)\n",
    "      * [4.7.1.1 Fit the model](#4.7.1.1_Fit_the_model)\n",
    "      * [4.7.1.2 Make prediction](#4.7.1.2_Make_prediction)\n",
    "      * [4.7.1.3 Measure Accuracy](#4.7.1.3_Measure_Accuracy)\n",
    "    * [4.7.2 Linear Regression Model](#4.7.2_Linear_Regression_Model)\n",
    "      * [4.7.2.1 Make Pipeline](#4.7.2.1_Make_Pipeline)\n",
    "      * [4.7.2.2 Define Parameters to Tune](#4.7.2.2_Define_Parameters_to_Tune)\n",
    "      * [4.7.2.3 Parameter Tuning Using GridSearchCV](#4.7.2.3_Parameter_Tuning_Using_GridSearchCV)\n",
    "      * [4.7.2.4 Obtain Scores](#4.7.2.4_Obtain_Scores)\n",
    "      * [4.7.2.5 Measure Accuracy](#4.7.2.5_Measure_Accuracy)\n",
    "    * [4.7.3 Random Forest Regression Model](#4.7.2_Linear_Regression_Model)\n",
    "      * [4.7.2.1 Make Pipeline](#4.7.2.1_Make_Pipeline)\n",
    "      * [4.7.2.2 Define Parameters to Tune](#4.7.2.2_Define_Parameters_to_Tune)\n",
    "      * [4.7.2.3 Parameter Tuning Using GridSearchCV](#4.7.2.3_Parameter_Tuning_Using_GridSearchCV)\n",
    "      * [4.7.2.4 Obtain Scores](#4.7.2.4_Obtain_Scores)\n",
    "      * [4.7.2.5 Measure Accuracy](#4.7.2.5_Measure_Accuracy)\n",
    "    * [4.7.4 Ridge Regression Model](#4.7.4_Ridge_Regression_Model)\n",
    "      * [4.7.4.1 Make Pipeline](#4.7.4.1_Make_Pipeline)\n",
    "      * [4.7.4.2 Define Parameters to Tune](#4.7.4.2_Define_Parameters_to_Tune)\n",
    "      * [4.7.4.3 Parameter Tuning Using GridSearchCV](#4.7.4.3_Parameter_Tuning_Using_GridSearchCV)\n",
    "      * [4.7.4.4 Obtain Scores](#4.7.4.4_Obtain_Scores)\n",
    "      * [4.7.4.5 Measure Accuracy](#4.7.4.5_Measure_Accuracy)\n",
    "    * [4.8 Try Best Model on Validation Data](#4.8_Try_Best_Model_on_Validation_Data)\n",
    "      * [4.8.1 Load and Prepare Data](#4.8.1_Load_and_Prepare_Data)\n",
    "      * [4.8.2 Make Predictions](#4.8.2_Make_Predictions)\n",
    "      * [4.8.3 Measure Accuracy](#4.8.3_Measure_Accuracy)\n",
    "      * [4.8.4 Compare Validation Data and Predictions](#4.8.4_Compare_Validation_Data_and_Predictions)"
   ]
  },
  {
   "cell_type": "markdown",
   "id": "5a0bc2f6",
   "metadata": {},
   "source": [
    "## 4.2 Introduction<a id='4.2_Introduction'></a>"
   ]
  },
  {
   "cell_type": "markdown",
   "id": "0f28dbcb",
   "metadata": {},
   "source": [
    "### 4.2.1 Recap of Data Science Problem<a id='4.2.1_Recap_of_Data_Science_Problem'></a>"
   ]
  },
  {
   "cell_type": "markdown",
   "id": "9e30bf6a",
   "metadata": {},
   "source": [
    "### 4.2.2 Introduction to Notebook<a id='4.2.2_Introduction_to_Notebook'></a>"
   ]
  },
  {
   "cell_type": "markdown",
   "id": "ee66817e",
   "metadata": {},
   "source": [
    "## 4.3 Objectives<a id='4.3_Objectives'></a>"
   ]
  },
  {
   "cell_type": "markdown",
   "id": "5041369d",
   "metadata": {},
   "source": [
    "The objective of this notebook is to train the following models:\n",
    "\n",
    "* A dummy regressor as the baseline\n",
    "* A linear regression model\n",
    "* A random forest model\n",
    "* A ridge regression model\n",
    "\n",
    "The metrics I will use to assess the model are the mean average error and the root mean square error.\n",
    "\n",
    "Here I will use the subsampled dataset that I prepared in the previous preprocessing notebook. Prior to subsampling, I processed the weather data and filled in for missing values by using the moving average. I also turned the time features into cyclic features. "
   ]
  },
  {
   "cell_type": "markdown",
   "id": "b5579ca5",
   "metadata": {},
   "source": [
    "## 4.4 Imports<a id='4.2_Imports'></a>"
   ]
  },
  {
   "cell_type": "code",
   "execution_count": 13,
   "id": "b90c11a0",
   "metadata": {},
   "outputs": [],
   "source": [
    "import pandas as pd\n",
    "import numpy as np\n",
    "import os\n",
    "import pickle\n",
    "import matplotlib.pyplot as plt\n",
    "import seaborn as sns\n",
    "from sklearn import __version__ as sklearn_version\n",
    "from sklearn.model_selection import train_test_split, cross_validate, GridSearchCV, learning_curve\n",
    "from sklearn.preprocessing import StandardScaler\n",
    "from sklearn.dummy import DummyRegressor\n",
    "from sklearn.linear_model import LinearRegression\n",
    "from sklearn.linear_model import Ridge\n",
    "from sklearn.linear_model import RidgeCV\n",
    "from sklearn.ensemble import RandomForestRegressor\n",
    "from sklearn.metrics import r2_score, mean_squared_error, mean_absolute_error, mean_squared_log_error\n",
    "from sklearn.pipeline import make_pipeline\n",
    "from sklearn.impute import SimpleImputer\n",
    "from sklearn.feature_selection import SelectKBest, f_regression\n",
    "import datetime\n",
    "import math"
   ]
  },
  {
   "cell_type": "markdown",
   "id": "21e1481d",
   "metadata": {},
   "source": [
    "## 4.5 Load Data<a id='4.5_Load_Data'></a>"
   ]
  },
  {
   "cell_type": "code",
   "execution_count": 14,
   "id": "4baf7c2e",
   "metadata": {},
   "outputs": [],
   "source": [
    "# the supplied CSV data files are in the data/processed directory\n",
    "#load data\n",
    "X_train_subsample_lr=pd.read_csv('../data/processed/electricity/subsamples/linear/X_train_subsample_lr.csv').drop('Unnamed: 0',axis=1)\n",
    "y_train_subsample_lr=pd.read_csv('../data/processed/electricity/subsamples/linear/y_train_subsample_lr.csv').drop('Unnamed: 0',axis=1)\n",
    "X_test_subsample_lr=pd.read_csv('../data/processed/electricity/subsamples/linear/X_test_subsample_lr.csv').drop('Unnamed: 0',axis=1)\n",
    "y_test_subsample_lr=pd.read_csv('../data/processed/electricity/subsamples/linear/y_test_subsample_lr.csv').drop('Unnamed: 0',axis=1)\n",
    "\n",
    "X_train_subsample_rf=pd.read_csv('../data/processed/electricity/subsamples/random_forest/X_train_subsample_rf.csv').drop('Unnamed: 0',axis=1)\n",
    "y_train_subsample_rf=pd.read_csv('../data/processed/electricity/subsamples/random_forest/y_train_subsample_rf.csv').drop('Unnamed: 0',axis=1)\n",
    "X_test_subsample_rf=pd.read_csv('../data/processed/electricity/subsamples/random_forest/X_test_subsample_rf.csv').drop('Unnamed: 0',axis=1)\n",
    "y_test_subsample_rf=pd.read_csv('../data/processed/electricity/subsamples/random_forest/y_test_subsample_rf.csv').drop('Unnamed: 0',axis=1)\n",
    "\n",
    "# change the format of timestamp to datetime\n",
    "X_train_subsample_lr['timestamp']=pd.to_datetime(X_train_subsample_lr['timestamp'],format='%Y-%m-%d %H:%M:%S')\n",
    "X_test_subsample_lr['timestamp']=pd.to_datetime(X_test_subsample_lr['timestamp'],format='%Y-%m-%d %H:%M:%S')\n",
    "\n",
    "X_train_subsample_rf['timestamp']=pd.to_datetime(X_train_subsample_rf['timestamp'],format='%Y-%m-%d %H:%M:%S')\n",
    "X_test_subsample_rf['timestamp']=pd.to_datetime(X_test_subsample_rf['timestamp'],format='%Y-%m-%d %H:%M:%S')"
   ]
  },
  {
   "cell_type": "markdown",
   "id": "ad67065f",
   "metadata": {},
   "source": [
    "## 4.6 Prepare Data for Modeling<a id='4.6_Prepare_Data_for_Modeling'></a>"
   ]
  },
  {
   "cell_type": "markdown",
   "id": "4615f6b0",
   "metadata": {},
   "source": [
    "Use only the numeric features for modeling"
   ]
  },
  {
   "cell_type": "code",
   "execution_count": 15,
   "id": "bf08c3b9",
   "metadata": {},
   "outputs": [
    {
     "data": {
      "text/plain": [
       "((100000, 26), (100000, 26))"
      ]
     },
     "execution_count": 15,
     "metadata": {},
     "output_type": "execute_result"
    }
   ],
   "source": [
    "categ_list = ['site_id','building_id','primary_use','meter','timestamp']\n",
    "categ_train = X_train_subsample_lr[['site_id','building_id','primary_use','meter','timestamp']]\n",
    "categ_test = X_test_subsample_lr[['site_id','building_id','primary_use','meter','timestamp']]\n",
    "X_train_subsample_lr.drop(columns=categ_list, inplace=True)\n",
    "X_test_subsample_lr.drop(columns=categ_list, inplace=True)\n",
    "X_train_subsample_lr.shape, X_test_subsample_lr.shape"
   ]
  },
  {
   "cell_type": "markdown",
   "id": "dc85227d",
   "metadata": {},
   "source": [
    "Remove the hour, month, day, dayofweek, and season features since we have already converted them to cyclic features. Remove consumption_per_square_feet because our preferred target is the meter_readings. Preliminary modeling using consumption_per_square_feet as the target was unsuccessful."
   ]
  },
  {
   "cell_type": "code",
   "execution_count": 16,
   "id": "1d1feac3",
   "metadata": {},
   "outputs": [],
   "source": [
    "X_train_subsample_lr=X_train_subsample_lr.drop(['hour','month', 'day','dayofweek','season',\n",
    "                                                'consumption_per_square_feet','floor_count'],axis=1)\n",
    "\n",
    "\n",
    "X_train_subsample_rf=X_train_subsample_rf.drop(['hour','month', 'day','dayofweek','season',\n",
    "                                                'consumption_per_square_feet','floor_count'],axis=1)\n",
    "\n",
    "X_test_subsample_lr=X_test_subsample_lr.drop(['hour','month', 'day','dayofweek','season',\n",
    "                                                'consumption_per_square_feet','floor_count'],axis=1)\n",
    "\n",
    "\n",
    "X_test_subsample_rf=X_test_subsample_rf.drop(['hour','month', 'day','dayofweek','season',\n",
    "                                                'consumption_per_square_feet','floor_count'],axis=1)"
   ]
  },
  {
   "cell_type": "code",
   "execution_count": 17,
   "id": "094ba1c9",
   "metadata": {},
   "outputs": [
    {
     "data": {
      "text/plain": [
       "((10000, 19), (10000, 19))"
      ]
     },
     "execution_count": 17,
     "metadata": {},
     "output_type": "execute_result"
    }
   ],
   "source": [
    "X_train_subsample_rf.drop(columns=categ_list, inplace=True)\n",
    "X_test_subsample_rf.drop(columns=categ_list, inplace=True)\n",
    "X_train_subsample_rf.shape, X_test_subsample_rf.shape"
   ]
  },
  {
   "cell_type": "code",
   "execution_count": 18,
   "id": "17732ea0",
   "metadata": {},
   "outputs": [
    {
     "data": {
      "text/plain": [
       "(10000, 19)"
      ]
     },
     "execution_count": 18,
     "metadata": {},
     "output_type": "execute_result"
    }
   ],
   "source": [
    "X_train_subsample_rf.shape"
   ]
  },
  {
   "cell_type": "markdown",
   "id": "62fd6f7c",
   "metadata": {},
   "source": [
    "Here, we are going to look at the mean and standard deviation of the subsamples. This is going to be useful when evaluating the metrics used to measure the accuracy of the trained models."
   ]
  },
  {
   "cell_type": "code",
   "execution_count": 19,
   "id": "92048228",
   "metadata": {},
   "outputs": [
    {
     "data": {
      "text/html": [
       "<div>\n",
       "<style scoped>\n",
       "    .dataframe tbody tr th:only-of-type {\n",
       "        vertical-align: middle;\n",
       "    }\n",
       "\n",
       "    .dataframe tbody tr th {\n",
       "        vertical-align: top;\n",
       "    }\n",
       "\n",
       "    .dataframe thead th {\n",
       "        text-align: right;\n",
       "    }\n",
       "</style>\n",
       "<table border=\"1\" class=\"dataframe\">\n",
       "  <thead>\n",
       "    <tr style=\"text-align: right;\">\n",
       "      <th></th>\n",
       "      <th>count</th>\n",
       "      <th>mean</th>\n",
       "      <th>std</th>\n",
       "      <th>min</th>\n",
       "      <th>25%</th>\n",
       "      <th>50%</th>\n",
       "      <th>75%</th>\n",
       "      <th>max</th>\n",
       "    </tr>\n",
       "  </thead>\n",
       "  <tbody>\n",
       "    <tr>\n",
       "      <th>meter_reading</th>\n",
       "      <td>100000.0</td>\n",
       "      <td>168.393145</td>\n",
       "      <td>367.238701</td>\n",
       "      <td>0.0</td>\n",
       "      <td>19.582475</td>\n",
       "      <td>62.445</td>\n",
       "      <td>170.084</td>\n",
       "      <td>14221.0</td>\n",
       "    </tr>\n",
       "  </tbody>\n",
       "</table>\n",
       "</div>"
      ],
      "text/plain": [
       "                  count        mean         std  min        25%     50%  \\\n",
       "meter_reading  100000.0  168.393145  367.238701  0.0  19.582475  62.445   \n",
       "\n",
       "                   75%      max  \n",
       "meter_reading  170.084  14221.0  "
      ]
     },
     "execution_count": 19,
     "metadata": {},
     "output_type": "execute_result"
    }
   ],
   "source": [
    "y_train_subsample_lr.describe().T"
   ]
  },
  {
   "cell_type": "code",
   "execution_count": 20,
   "id": "f5b16efd",
   "metadata": {},
   "outputs": [
    {
     "data": {
      "text/html": [
       "<div>\n",
       "<style scoped>\n",
       "    .dataframe tbody tr th:only-of-type {\n",
       "        vertical-align: middle;\n",
       "    }\n",
       "\n",
       "    .dataframe tbody tr th {\n",
       "        vertical-align: top;\n",
       "    }\n",
       "\n",
       "    .dataframe thead th {\n",
       "        text-align: right;\n",
       "    }\n",
       "</style>\n",
       "<table border=\"1\" class=\"dataframe\">\n",
       "  <thead>\n",
       "    <tr style=\"text-align: right;\">\n",
       "      <th></th>\n",
       "      <th>count</th>\n",
       "      <th>mean</th>\n",
       "      <th>std</th>\n",
       "      <th>min</th>\n",
       "      <th>25%</th>\n",
       "      <th>50%</th>\n",
       "      <th>75%</th>\n",
       "      <th>max</th>\n",
       "    </tr>\n",
       "  </thead>\n",
       "  <tbody>\n",
       "    <tr>\n",
       "      <th>meter_reading</th>\n",
       "      <td>10000.0</td>\n",
       "      <td>172.58139</td>\n",
       "      <td>389.65277</td>\n",
       "      <td>0.0</td>\n",
       "      <td>19.577125</td>\n",
       "      <td>62.095</td>\n",
       "      <td>169.20425</td>\n",
       "      <td>6384.0</td>\n",
       "    </tr>\n",
       "  </tbody>\n",
       "</table>\n",
       "</div>"
      ],
      "text/plain": [
       "                 count       mean        std  min        25%     50%  \\\n",
       "meter_reading  10000.0  172.58139  389.65277  0.0  19.577125  62.095   \n",
       "\n",
       "                     75%     max  \n",
       "meter_reading  169.20425  6384.0  "
      ]
     },
     "execution_count": 20,
     "metadata": {},
     "output_type": "execute_result"
    }
   ],
   "source": [
    "y_train_subsample_rf.describe().T"
   ]
  },
  {
   "cell_type": "markdown",
   "id": "62b88736",
   "metadata": {},
   "source": [
    "## 4.7 Train the Models<a id='4.6_Train_the_Models'></a>"
   ]
  },
  {
   "cell_type": "markdown",
   "id": "9ae48d14",
   "metadata": {},
   "source": [
    "### 4.7.1 Dummy Regressor<a id='4.7.1_Dummy_Regressor'></a>"
   ]
  },
  {
   "cell_type": "markdown",
   "id": "9df0edd8",
   "metadata": {},
   "source": [
    "#### 4.7.1.1 Fit the model<a id='4.7.1.1_Fit_the_model'></a>"
   ]
  },
  {
   "cell_type": "code",
   "execution_count": 40,
   "id": "ace03e9a",
   "metadata": {},
   "outputs": [
    {
     "data": {
      "text/plain": [
       "168.393145304"
      ]
     },
     "execution_count": 40,
     "metadata": {},
     "output_type": "execute_result"
    }
   ],
   "source": [
    "dumb_reg = DummyRegressor(strategy='mean')\n",
    "dumb_reg.fit(X_train_subsample_lr, y_train_subsample_lr)\n",
    "train_mean=dumb_reg.constant_[0][0]\n",
    "train_mean"
   ]
  },
  {
   "cell_type": "markdown",
   "id": "f8c83ebe",
   "metadata": {},
   "source": [
    "#### 4.7.1.2 Make prediction<a id='4.7.1.2_Make_prediction'></a>"
   ]
  },
  {
   "cell_type": "code",
   "execution_count": 41,
   "id": "668d677e",
   "metadata": {},
   "outputs": [],
   "source": [
    "y_tr_pred = dumb_reg.predict(X_train_subsample_lr)\n",
    "y_test_pred = train_mean * np.ones(len(y_train_subsample_lr))"
   ]
  },
  {
   "cell_type": "markdown",
   "id": "68b5a1ed",
   "metadata": {},
   "source": [
    "#### 4.7.1.3 Measure Accuracy<a id='4.7.1.3_Measure_Accuracy'></a>"
   ]
  },
  {
   "cell_type": "code",
   "execution_count": 44,
   "id": "80e91ced",
   "metadata": {},
   "outputs": [
    {
     "name": "stdout",
     "output_type": "stream",
     "text": [
      "176.43740828472863 178.6521918094024\n"
     ]
    }
   ],
   "source": [
    "mae_tr_dr = mean_absolute_error(y_train_subsample_lr, y_tr_pred)\n",
    "mae_te_dr = mean_absolute_error(y_test_subsample_lr, y_test_pred)\n",
    "print(mae_tr_dr,mae_te_dr)"
   ]
  },
  {
   "cell_type": "code",
   "execution_count": 45,
   "id": "77bb8187",
   "metadata": {},
   "outputs": [
    {
     "name": "stdout",
     "output_type": "stream",
     "text": [
      "367.23686526957505 373.7643731340452\n"
     ]
    }
   ],
   "source": [
    "rmse_tr_dr = (mean_squared_error(y_train_subsample_lr, y_tr_pred))**(1/2)\n",
    "rmse_te_dr = (mean_squared_error(y_test_subsample_lr, y_test_pred))**(1/2)\n",
    "print(rmse_tr_dr,rmse_te_dr)"
   ]
  },
  {
   "cell_type": "markdown",
   "id": "fcc06833",
   "metadata": {},
   "source": [
    "### 4.7.2 Linear Regression Model<a id='4.7.2_Linear_Regression_Model'></a>"
   ]
  },
  {
   "cell_type": "markdown",
   "id": "5adfdb47",
   "metadata": {},
   "source": [
    "#### 4.7.2.1 Make Pipeline<a id='4.7.2.1_Make_Pipeline'></a>"
   ]
  },
  {
   "cell_type": "markdown",
   "id": "e18d7a9c",
   "metadata": {},
   "source": [
    "I first make a pipeline that puts together the main steps for the machine learning workflow.\n",
    "1. Impute remaining missing data with either the mean or median of each feature\n",
    "2. Keep the data as is, or standardize it such that each feature has a mean of 0 and a variance of 1.\n",
    "3. Select the k best features that give the best performance\n",
    "4. Train the model"
   ]
  },
  {
   "cell_type": "code",
   "execution_count": 25,
   "id": "c7373804",
   "metadata": {},
   "outputs": [
    {
     "data": {
      "text/plain": [
       "Pipeline(steps=[('simpleimputer', SimpleImputer()),\n",
       "                ('standardscaler', StandardScaler()),\n",
       "                ('selectkbest',\n",
       "                 SelectKBest(score_func=<function f_regression at 0x000001FAFEE9F3A0>)),\n",
       "                ('linearregression', LinearRegression())])"
      ]
     },
     "execution_count": 25,
     "metadata": {},
     "output_type": "execute_result"
    }
   ],
   "source": [
    "pipe=make_pipeline(SimpleImputer(),\n",
    "    StandardScaler(),\n",
    "    SelectKBest(f_regression),\n",
    "    LinearRegression())\n",
    "pipe"
   ]
  },
  {
   "cell_type": "markdown",
   "id": "29478906",
   "metadata": {},
   "source": [
    "#### 4.7.2.2 Define Parameters to Tune<a id='4.7.2.2_Define_Parameters_to_Tune'></a>"
   ]
  },
  {
   "cell_type": "code",
   "execution_count": 26,
   "id": "4a8478d4",
   "metadata": {},
   "outputs": [],
   "source": [
    "k = [k+1 for k in range(len(X_train_subsample_lr.columns))]\n",
    "grid_params={'standardscaler':[StandardScaler(),None],\n",
    "            'simpleimputer__strategy':['mean','median'],\n",
    "            'selectkbest__k': k}"
   ]
  },
  {
   "cell_type": "markdown",
   "id": "0de3e12c",
   "metadata": {},
   "source": [
    "#### 4.7.2.3 Parameter Tuning Using GridSearchCV<a id='4.7.2.3_Parameter_Tuning_Using_GridSearchCV'></a>"
   ]
  },
  {
   "cell_type": "markdown",
   "id": "650c6e0d",
   "metadata": {},
   "source": [
    "Here, I will use GridSearchCV to assess the models produced from using different parameters, and choose the parameters that give the best performance. I will use 3 cross-validation folds for this step."
   ]
  },
  {
   "cell_type": "code",
   "execution_count": 27,
   "id": "695bd15c",
   "metadata": {},
   "outputs": [
    {
     "name": "stderr",
     "output_type": "stream",
     "text": [
      "C:\\Users\\melis\\anaconda3\\lib\\site-packages\\sklearn\\utils\\validation.py:63: DataConversionWarning: A column-vector y was passed when a 1d array was expected. Please change the shape of y to (n_samples, ), for example using ravel().\n",
      "  return f(*args, **kwargs)\n"
     ]
    },
    {
     "data": {
      "text/plain": [
       "GridSearchCV(cv=3,\n",
       "             estimator=Pipeline(steps=[('simpleimputer', SimpleImputer()),\n",
       "                                       ('standardscaler', StandardScaler()),\n",
       "                                       ('selectkbest',\n",
       "                                        SelectKBest(score_func=<function f_regression at 0x000001FAFEE9F3A0>)),\n",
       "                                       ('linearregression',\n",
       "                                        LinearRegression())]),\n",
       "             n_jobs=-1,\n",
       "             param_grid={'selectkbest__k': [1, 2, 3, 4, 5, 6, 7, 8, 9, 10, 11,\n",
       "                                            12, 13, 14, 15, 16, 17, 18, 19],\n",
       "                         'simpleimputer__strategy': ['mean', 'median'],\n",
       "                         'standardscaler': [StandardScaler(), None]})"
      ]
     },
     "execution_count": 27,
     "metadata": {},
     "output_type": "execute_result"
    }
   ],
   "source": [
    "lr_grid_cv= GridSearchCV(pipe,param_grid=grid_params, cv=3, n_jobs=-1)\n",
    "lr_grid_cv.fit(X_train_subsample_lr,y_train_subsample_lr)"
   ]
  },
  {
   "cell_type": "markdown",
   "id": "73b1cdac",
   "metadata": {},
   "source": [
    "#### 4.7.2.4 Obtain Scores<a id='4.7.2.4_Obtain_Scores'></a>"
   ]
  },
  {
   "cell_type": "markdown",
   "id": "8afe9cc3",
   "metadata": {},
   "source": [
    "The R^2 is used to score the models."
   ]
  },
  {
   "cell_type": "code",
   "execution_count": 28,
   "id": "69bdd060",
   "metadata": {},
   "outputs": [],
   "source": [
    "score_mean = lr_grid_cv.cv_results_['mean_test_score']\n",
    "score_std = lr_grid_cv.cv_results_['std_test_score']\n",
    "cv_k = [k for k in lr_grid_cv.cv_results_['param_selectkbest__k']]"
   ]
  },
  {
   "cell_type": "markdown",
   "id": "ae3e5c64",
   "metadata": {},
   "source": [
    "Here we found that the best set of parameters are all 20 features, using the median to impute remaining missing values, and the features do not need to be standardized. "
   ]
  },
  {
   "cell_type": "code",
   "execution_count": 29,
   "id": "494fd99e",
   "metadata": {},
   "outputs": [
    {
     "data": {
      "text/plain": [
       "{'selectkbest__k': 19,\n",
       " 'simpleimputer__strategy': 'mean',\n",
       " 'standardscaler': StandardScaler()}"
      ]
     },
     "execution_count": 29,
     "metadata": {},
     "output_type": "execute_result"
    }
   ],
   "source": [
    "lr_grid_cv.best_params_"
   ]
  },
  {
   "cell_type": "code",
   "execution_count": 30,
   "id": "421e5ab8",
   "metadata": {},
   "outputs": [
    {
     "data": {
      "image/png": "[encoded data removed]",
      "text/plain": [
       "<Figure size 720x360 with 1 Axes>"
      ]
     },
     "metadata": {
      "needs_background": "light"
     },
     "output_type": "display_data"
    }
   ],
   "source": [
    "best_k = lr_grid_cv.best_params_['selectkbest__k']\n",
    "plt.subplots(figsize=(10, 5))\n",
    "plt.errorbar(cv_k, score_mean, yerr=score_std)\n",
    "plt.axvline(x=best_k, c='r', ls='--', alpha=.5)\n",
    "plt.xlabel('k')\n",
    "plt.ylabel('CV score (r-squared)')\n",
    "plt.title('Pipeline mean CV score (error bars +/- 1sd)');"
   ]
  },
  {
   "cell_type": "markdown",
   "id": "54c22abd",
   "metadata": {},
   "source": [
    "Here we see that while continuing to add features improves the score of the model, we don't see much better performance beyond using just two features. In this case, the adjusted R^2 may be a better way to score the models, since it penalizes the addition of more features to the model."
   ]
  },
  {
   "cell_type": "code",
   "execution_count": 31,
   "id": "9a7f5094",
   "metadata": {},
   "outputs": [],
   "source": [
    "selected = lr_grid_cv.best_estimator_.named_steps.selectkbest.get_support()"
   ]
  },
  {
   "cell_type": "code",
   "execution_count": 32,
   "id": "781d93e0",
   "metadata": {},
   "outputs": [
    {
     "data": {
      "text/plain": [
       "square_feet           199.492475\n",
       "precip_depth_1_hr      16.683666\n",
       "year_built             16.318013\n",
       "wind_direction         14.085223\n",
       "cloud_coverage         13.190633\n",
       "cos_season              5.834014\n",
       "sin_dayofweek           5.504321\n",
       "dew_temperature         3.877932\n",
       "cos_day                 0.295860\n",
       "sin_day                -2.574647\n",
       "sin_season             -3.686897\n",
       "sea_level_pressure     -4.440066\n",
       "cos_dayofweek          -7.631675\n",
       "sin_hour               -9.052045\n",
       "cos_month             -14.238088\n",
       "cos_hour              -15.117446\n",
       "wind_speed            -15.530832\n",
       "sin_month             -15.969280\n",
       "air_temperature       -25.150823\n",
       "dtype: float64"
      ]
     },
     "execution_count": 32,
     "metadata": {},
     "output_type": "execute_result"
    }
   ],
   "source": [
    "coefs = lr_grid_cv.best_estimator_.named_steps.linearregression.coef_\n",
    "features = X_train_subsample_lr.columns[selected]\n",
    "pd.Series(list(coefs[0]), index=features).sort_values(ascending=False)"
   ]
  },
  {
   "cell_type": "markdown",
   "id": "f4226918",
   "metadata": {},
   "source": [
    "Here it seems the most important feature is the size of the building. The next most important feature is the air_temperature, which has a negative coefficient."
   ]
  },
  {
   "cell_type": "markdown",
   "id": "cd018cdb",
   "metadata": {},
   "source": [
    "#### 4.7.2.5 Measure Accuracy<a id='4.7.2.5_Measure_Accuracy'></a>"
   ]
  },
  {
   "cell_type": "markdown",
   "id": "7fafb5dc",
   "metadata": {},
   "source": [
    "Here we measure the accuracy of the model by calculating the mean absolute error and root mean squared error for the training set and the test set."
   ]
  },
  {
   "cell_type": "code",
   "execution_count": 49,
   "id": "87eb24a9",
   "metadata": {},
   "outputs": [],
   "source": [
    "y_tr_pred = lr_grid_cv.predict(X_train_subsample_lr)\n",
    "y_test_pred = lr_grid_cv.predict(X_test_subsample_lr)"
   ]
  },
  {
   "cell_type": "code",
   "execution_count": 50,
   "id": "5aec2b20",
   "metadata": {},
   "outputs": [
    {
     "name": "stdout",
     "output_type": "stream",
     "text": [
      "128.03742792694914 128.5547448846436\n"
     ]
    }
   ],
   "source": [
    "mae_tr_lr = mean_absolute_error(y_train_subsample_lr, y_tr_pred)\n",
    "mae_te_lr = mean_absolute_error(y_test_subsample_lr, y_test_pred)\n",
    "print(mae_tr_lr,mae_te_lr)"
   ]
  },
  {
   "cell_type": "code",
   "execution_count": 51,
   "id": "015c2961",
   "metadata": {},
   "outputs": [
    {
     "name": "stdout",
     "output_type": "stream",
     "text": [
      "304.1959552417435 307.3233262914149\n"
     ]
    }
   ],
   "source": [
    "rmse_tr_lr = (mean_squared_error(y_train_subsample_lr, y_tr_pred))**(1/2)\n",
    "rmse_te_lr = (mean_squared_error(y_test_subsample_lr, y_test_pred))**(1/2)\n",
    "print(rmse_tr_lr,rmse_te_lr)"
   ]
  },
  {
   "cell_type": "markdown",
   "id": "9d1457ef",
   "metadata": {},
   "source": [
    "### 4.7.3 Random Forest Regression Model<a id='4.7.3_Random_Forest_Regression_Model'></a>"
   ]
  },
  {
   "cell_type": "markdown",
   "id": "714afbbd",
   "metadata": {},
   "source": [
    "#### 4.7.3.1 Make Pipeline<a id='4.7.3.1_Make_Pipeline'></a>"
   ]
  },
  {
   "cell_type": "markdown",
   "id": "233a27e9",
   "metadata": {},
   "source": [
    "I first make a pipeline that puts together the main steps for the machine learning workflow.\n",
    "1. Impute remaining missing data with either the mean or median of each feature\n",
    "2. Keep the data as is, or standardize it such that each feature has a mean of 0 and a variance of 1.\n",
    "3. Use 1000 trees\n",
    "4. Train the model"
   ]
  },
  {
   "cell_type": "code",
   "execution_count": 35,
   "id": "4f2db5e6",
   "metadata": {},
   "outputs": [],
   "source": [
    "pipe=make_pipeline(SimpleImputer(),\n",
    "    StandardScaler(),\n",
    "    RandomForestRegressor(n_estimators=1000,random_state=47))"
   ]
  },
  {
   "cell_type": "markdown",
   "id": "0a29ec6a",
   "metadata": {},
   "source": [
    "#### 4.7.3.2 Define Parameters to Tune<a id='4.7.3.2_Define_Parameters_to_Tune'></a>"
   ]
  },
  {
   "cell_type": "code",
   "execution_count": 36,
   "id": "c2eaa997",
   "metadata": {},
   "outputs": [],
   "source": [
    "grid_params={'standardscaler':[StandardScaler(),None],\n",
    "            'simpleimputer__strategy':['mean','median']}"
   ]
  },
  {
   "cell_type": "markdown",
   "id": "f01976b9",
   "metadata": {},
   "source": [
    "#### 4.7.3.3 Parameter Tuning Using GridSearchCV<a id='4.7.3.3_Parameter_Tuning_Using_GridSearchCV'></a>"
   ]
  },
  {
   "cell_type": "markdown",
   "id": "8585e636",
   "metadata": {},
   "source": [
    "Here, I will use GridSearchCV to assess the models produced from using different parameters, and choose the parameters that give the best performance. I will use 3 cross-validation folds for this step."
   ]
  },
  {
   "cell_type": "code",
   "execution_count": 37,
   "id": "1b08db9b",
   "metadata": {},
   "outputs": [
    {
     "name": "stderr",
     "output_type": "stream",
     "text": [
      "C:\\Users\\melis\\anaconda3\\lib\\site-packages\\sklearn\\pipeline.py:346: DataConversionWarning: A column-vector y was passed when a 1d array was expected. Please change the shape of y to (n_samples,), for example using ravel().\n",
      "  self._final_estimator.fit(Xt, y, **fit_params_last_step)\n"
     ]
    },
    {
     "data": {
      "text/plain": [
       "GridSearchCV(cv=3,\n",
       "             estimator=Pipeline(steps=[('simpleimputer', SimpleImputer()),\n",
       "                                       ('standardscaler', StandardScaler()),\n",
       "                                       ('randomforestregressor',\n",
       "                                        RandomForestRegressor(n_estimators=1000,\n",
       "                                                              random_state=47))]),\n",
       "             n_jobs=-1,\n",
       "             param_grid={'simpleimputer__strategy': ['mean', 'median'],\n",
       "                         'standardscaler': [StandardScaler(), None]})"
      ]
     },
     "execution_count": 37,
     "metadata": {},
     "output_type": "execute_result"
    }
   ],
   "source": [
    "rf_grid_cv= GridSearchCV(pipe,param_grid=grid_params, cv=3, n_jobs=-1)\n",
    "rf_grid_cv.fit(X_train_subsample_rf,y_train_subsample_rf)"
   ]
  },
  {
   "cell_type": "markdown",
   "id": "0386f19d",
   "metadata": {},
   "source": [
    "#### 4.7.3.4 Obtain Scores<a id='4.7.3.4_Obtain_Scores'></a>"
   ]
  },
  {
   "cell_type": "markdown",
   "id": "847091ee",
   "metadata": {},
   "source": [
    "The best parameters are using the median to impute missing data and standardizing the features."
   ]
  },
  {
   "cell_type": "code",
   "execution_count": 52,
   "id": "900bee08",
   "metadata": {},
   "outputs": [
    {
     "data": {
      "text/plain": [
       "{'simpleimputer__strategy': 'median', 'standardscaler': StandardScaler()}"
      ]
     },
     "execution_count": 52,
     "metadata": {},
     "output_type": "execute_result"
    }
   ],
   "source": [
    "rf_grid_cv.best_params_"
   ]
  },
  {
   "cell_type": "markdown",
   "id": "36f607b2",
   "metadata": {},
   "source": [
    "As with the linear regression model, the random forest regression model finds that the most important feature is the size of the building in square_feet."
   ]
  },
  {
   "cell_type": "code",
   "execution_count": 53,
   "id": "de73b867",
   "metadata": {},
   "outputs": [
    {
     "data": {
      "image/png": "[encoded data removed]",
      "text/plain": [
       "<Figure size 720x360 with 1 Axes>"
      ]
     },
     "metadata": {
      "needs_background": "light"
     },
     "output_type": "display_data"
    }
   ],
   "source": [
    "plt.subplots(figsize=(10, 5))\n",
    "imps = rf_grid_cv.best_estimator_.named_steps.randomforestregressor.feature_importances_\n",
    "rf_feat_imps = pd.Series(imps, index=X_train_subsample_rf.columns).sort_values(ascending=False)\n",
    "rf_feat_imps.plot(kind='bar')\n",
    "plt.xlabel('features')\n",
    "plt.ylabel('importance')\n",
    "plt.title('Best random forest regressor feature importances');"
   ]
  },
  {
   "cell_type": "code",
   "execution_count": 54,
   "id": "808f7a3d",
   "metadata": {},
   "outputs": [
    {
     "name": "stdout",
     "output_type": "stream",
     "text": [
      "[0.60838989 0.60834942 0.61325696 0.61184039] [0.04066921 0.04091884 0.04002831 0.03993219]\n"
     ]
    }
   ],
   "source": [
    "score_mean = rf_grid_cv.cv_results_['mean_test_score']\n",
    "score_std = rf_grid_cv.cv_results_['std_test_score']\n",
    "print(score_mean,score_std)"
   ]
  },
  {
   "cell_type": "markdown",
   "id": "0a19e8da",
   "metadata": {},
   "source": [
    "The scores for the random forest model are about 0.3 higher than those for the linear regression model."
   ]
  },
  {
   "cell_type": "markdown",
   "id": "35110f9f",
   "metadata": {},
   "source": [
    "#### 4.7.3.5 Measure Accuracy<a id='4.7.3.5_Measure_Accuracy'></a>"
   ]
  },
  {
   "cell_type": "markdown",
   "id": "a022694f",
   "metadata": {},
   "source": [
    "The mean absolute error for this model is ~100 kWh lower for the training set, and ~50 kWh lower for the testing set compared to the linear regression model. \n",
    "\n",
    "The root mean squared error is ~220 kWh lower for the training set, and ~120 kWh lower for the testing set."
   ]
  },
  {
   "cell_type": "code",
   "execution_count": 62,
   "id": "3d2bf08b",
   "metadata": {},
   "outputs": [],
   "source": [
    "y_tr_pred = rf_grid_cv.predict(X_train_subsample_rf)\n",
    "y_test_pred = rf_grid_cv.predict(X_test_subsample_rf)"
   ]
  },
  {
   "cell_type": "code",
   "execution_count": 60,
   "id": "9f291f34",
   "metadata": {},
   "outputs": [
    {
     "name": "stdout",
     "output_type": "stream",
     "text": [
      "32.033995807460016 85.50218476209997\n"
     ]
    }
   ],
   "source": [
    "mae_tr_rf = mean_absolute_error(y_train_subsample_rf, y_tr_pred)\n",
    "mae_te_rf = mean_absolute_error(y_test_subsample_rf, y_test_pred)\n",
    "print(mae_tr_rf,mae_te_rf)"
   ]
  },
  {
   "cell_type": "code",
   "execution_count": 61,
   "id": "7f191587",
   "metadata": {},
   "outputs": [
    {
     "name": "stdout",
     "output_type": "stream",
     "text": [
      "82.41944009771936 205.1674626520055\n"
     ]
    }
   ],
   "source": [
    "rmse_tr_rf = (mean_squared_error(y_train_subsample_rf, y_tr_pred))**(1/2)\n",
    "rmse_te_rf = (mean_squared_error(y_test_subsample_rf, y_test_pred))**(1/2)\n",
    "print(rmse_tr_rf,rmse_te_rf)"
   ]
  },
  {
   "cell_type": "markdown",
   "id": "e21f64e6",
   "metadata": {},
   "source": [
    "### 4.7.4 Ridge Regression Model<a id='4.7.4_Ridge_Regression_Model'></a>"
   ]
  },
  {
   "cell_type": "markdown",
   "id": "fe390a03",
   "metadata": {},
   "source": [
    "In the ridge regression model, the features are regulated. In this model we find that an alpha of 0.001 gives the best performance."
   ]
  },
  {
   "cell_type": "markdown",
   "id": "e159602e",
   "metadata": {},
   "source": [
    "#### 4.7.4.1 Make Pipeline<a id='4.7.4.1_Make_Pipeline'></a>"
   ]
  },
  {
   "cell_type": "code",
   "execution_count": 63,
   "id": "2e613371",
   "metadata": {},
   "outputs": [],
   "source": [
    "pipe=make_pipeline(SimpleImputer(),\n",
    "    StandardScaler(),\n",
    "    Ridge(normalize=True))"
   ]
  },
  {
   "cell_type": "markdown",
   "id": "6c36b83d",
   "metadata": {},
   "source": [
    "#### 4.7.4.2 Define Parameters to Tune<a id='4.7.4.2_Define_Parameters_to_Tune'></a>"
   ]
  },
  {
   "cell_type": "code",
   "execution_count": 64,
   "id": "410f18ea",
   "metadata": {},
   "outputs": [],
   "source": [
    "alphas = [1e-3, 1e-2, 1e-1, 1]\n",
    "grid_params={'standardscaler':[StandardScaler(),None],\n",
    "            'simpleimputer__strategy':['mean','median'],\n",
    "            'ridge__alpha': alphas}"
   ]
  },
  {
   "cell_type": "markdown",
   "id": "e14ce802",
   "metadata": {},
   "source": [
    "#### 4.7.4.3 Parameter Tuning Using GridSearchCV<a id='4.7.4.3_Parameter_Tuning_Using_GridSearchCV'></a>"
   ]
  },
  {
   "cell_type": "code",
   "execution_count": 65,
   "id": "04ba66ce",
   "metadata": {},
   "outputs": [
    {
     "data": {
      "text/plain": [
       "GridSearchCV(cv=3,\n",
       "             estimator=Pipeline(steps=[('simpleimputer', SimpleImputer()),\n",
       "                                       ('standardscaler', StandardScaler()),\n",
       "                                       ('ridge', Ridge(normalize=True))]),\n",
       "             n_jobs=-1,\n",
       "             param_grid={'ridge__alpha': [0.001, 0.01, 0.1, 1],\n",
       "                         'simpleimputer__strategy': ['mean', 'median'],\n",
       "                         'standardscaler': [StandardScaler(), None]})"
      ]
     },
     "execution_count": 65,
     "metadata": {},
     "output_type": "execute_result"
    }
   ],
   "source": [
    "rdg_grid_cv= GridSearchCV(pipe,param_grid=grid_params, cv=3, n_jobs=-1)\n",
    "rdg_grid_cv.fit(X_train_subsample_lr,y_train_subsample_lr)"
   ]
  },
  {
   "cell_type": "code",
   "execution_count": 66,
   "id": "79e6cf22",
   "metadata": {},
   "outputs": [
    {
     "data": {
      "text/plain": [
       "{'ridge__alpha': 0.001,\n",
       " 'simpleimputer__strategy': 'mean',\n",
       " 'standardscaler': StandardScaler()}"
      ]
     },
     "execution_count": 66,
     "metadata": {},
     "output_type": "execute_result"
    }
   ],
   "source": [
    "rdg_grid_cv.best_params_"
   ]
  },
  {
   "cell_type": "markdown",
   "id": "133397c7",
   "metadata": {},
   "source": [
    "#### 4.7.4.4 Obtain Scores<a id='4.7.4.4_Obtain_Scores'></a>"
   ]
  },
  {
   "cell_type": "code",
   "execution_count": 68,
   "id": "830156dc",
   "metadata": {},
   "outputs": [
    {
     "name": "stdout",
     "output_type": "stream",
     "text": [
      "[0.31361088 0.31361088 0.31349122 0.31349122 0.31358807 0.31358807\n",
      " 0.31346845 0.31346845 0.31101084 0.31101084 0.3108981  0.3108981\n",
      " 0.23620298 0.23620298 0.23624273 0.23624273] [0.0073686  0.0073686  0.00734613 0.00734613 0.00747242 0.00747242\n",
      " 0.00744855 0.00744855 0.00824991 0.00824991 0.00821329 0.00821329\n",
      " 0.00845107 0.00845107 0.00840824 0.00840824]\n"
     ]
    }
   ],
   "source": [
    "score_mean = rdg_grid_cv.cv_results_['mean_test_score']\n",
    "score_std = rdg_grid_cv.cv_results_['std_test_score']\n",
    "print(score_mean, score_std)"
   ]
  },
  {
   "cell_type": "markdown",
   "id": "ea2fd83a",
   "metadata": {},
   "source": [
    "#### 4.7.4.5 Measure Accuracy<a id='4.7.4.5_Measure_Accuracy'></a>"
   ]
  },
  {
   "cell_type": "code",
   "execution_count": 73,
   "id": "f817732e",
   "metadata": {},
   "outputs": [],
   "source": [
    "y_tr_pred = rdg_grid_cv.predict(X_train_subsample_lr)\n",
    "y_test_pred = rdg_grid_cv.predict(X_test_subsample_lr)"
   ]
  },
  {
   "cell_type": "code",
   "execution_count": 72,
   "id": "5872c405",
   "metadata": {},
   "outputs": [
    {
     "name": "stdout",
     "output_type": "stream",
     "text": [
      "128.0042393311223 128.5215584063653\n"
     ]
    }
   ],
   "source": [
    "mae_tr_rd = mean_absolute_error(y_train_subsample_lr, y_tr_pred)\n",
    "mae_te_rd = mean_absolute_error(y_test_subsample_lr, y_test_pred)\n",
    "print(mae_tr_rd,mae_te_rd)"
   ]
  },
  {
   "cell_type": "code",
   "execution_count": 71,
   "id": "298afc89",
   "metadata": {},
   "outputs": [
    {
     "name": "stdout",
     "output_type": "stream",
     "text": [
      "304.19603394325156 307.32722461434923\n"
     ]
    }
   ],
   "source": [
    "rmse_tr_rd = (mean_squared_error(y_train_subsample_lr, y_tr_pred))**(1/2)\n",
    "rmse_te_rd = (mean_squared_error(y_test_subsample_lr, y_test_pred))**(1/2)\n",
    "print(rmse_tr_rd,rmse_te_rd)"
   ]
  },
  {
   "cell_type": "markdown",
   "id": "d6a96ad2",
   "metadata": {},
   "source": [
    "## 4.8 Try Best Model on Validation Data<a id='4.8_Try_Best_Model_on_Validation_Data'></a>"
   ]
  },
  {
   "cell_type": "markdown",
   "id": "9ecbb105",
   "metadata": {},
   "source": [
    "### 4.8.1 Load and Prepare Data<a id='4.8.1_Load_and_Prepare_Data'></a>"
   ]
  },
  {
   "cell_type": "code",
   "execution_count": 81,
   "id": "3c4ffce8",
   "metadata": {},
   "outputs": [],
   "source": [
    "val_data=pd.read_csv('../data/processed/electricity/validation_data.csv').drop('Unnamed: 0',axis=1)\n",
    "val_data['timestamp']=pd.to_datetime(val_data['timestamp'],format='%Y-%m-%d %H:%M:%S')\n",
    "\n",
    "# Save the timestamp for future plotting\n",
    "timestamp=val_data['timestamp']\n",
    "\n",
    "#Drop unnecessary coumns\n",
    "val_data=val_data.drop(['building_id','meter','timestamp','month','day',\n",
    "                        'dayofweek','hour','site_id','primary_use','consumption_per_square_feet',\n",
    "                        'season','floor_count'],axis=1)\n",
    "\n",
    "#Define features and target variable\n",
    "X=val_data.drop(columns='meter_reading')\n",
    "y=val_data.meter_reading"
   ]
  },
  {
   "cell_type": "markdown",
   "id": "3fcdc8cc",
   "metadata": {},
   "source": [
    "### 4.8.2 Make Predictions<a id='4.8.2_Make_Predictions'></a>"
   ]
  },
  {
   "cell_type": "markdown",
   "id": "e46691b1",
   "metadata": {},
   "source": [
    "Use the random forest model to predict the electricity meter readings based on the X features"
   ]
  },
  {
   "cell_type": "code",
   "execution_count": 82,
   "id": "5cafd586",
   "metadata": {},
   "outputs": [],
   "source": [
    "y_val_pred=rf_grid_cv.predict(X)"
   ]
  },
  {
   "cell_type": "markdown",
   "id": "65c08ac6",
   "metadata": {},
   "source": [
    "Set up a table with the predictions"
   ]
  },
  {
   "cell_type": "code",
   "execution_count": 83,
   "id": "74bee2eb",
   "metadata": {},
   "outputs": [],
   "source": [
    "predictions=pd.concat([timestamp,pd.DataFrame(y_val_pred, columns=['meter_reading'])],axis=1)"
   ]
  },
  {
   "cell_type": "code",
   "execution_count": 84,
   "id": "e7c69456",
   "metadata": {},
   "outputs": [
    {
     "data": {
      "text/html": [
       "<div>\n",
       "<style scoped>\n",
       "    .dataframe tbody tr th:only-of-type {\n",
       "        vertical-align: middle;\n",
       "    }\n",
       "\n",
       "    .dataframe tbody tr th {\n",
       "        vertical-align: top;\n",
       "    }\n",
       "\n",
       "    .dataframe thead th {\n",
       "        text-align: right;\n",
       "    }\n",
       "</style>\n",
       "<table border=\"1\" class=\"dataframe\">\n",
       "  <thead>\n",
       "    <tr style=\"text-align: right;\">\n",
       "      <th></th>\n",
       "      <th>timestamp</th>\n",
       "      <th>meter_reading</th>\n",
       "    </tr>\n",
       "  </thead>\n",
       "  <tbody>\n",
       "    <tr>\n",
       "      <th>0</th>\n",
       "      <td>2016-01-01 00:00:00</td>\n",
       "      <td>144.041333</td>\n",
       "    </tr>\n",
       "    <tr>\n",
       "      <th>1</th>\n",
       "      <td>2016-01-01 01:00:00</td>\n",
       "      <td>143.444147</td>\n",
       "    </tr>\n",
       "    <tr>\n",
       "      <th>2</th>\n",
       "      <td>2016-01-01 02:00:00</td>\n",
       "      <td>144.674966</td>\n",
       "    </tr>\n",
       "    <tr>\n",
       "      <th>3</th>\n",
       "      <td>2016-01-01 03:00:00</td>\n",
       "      <td>152.631042</td>\n",
       "    </tr>\n",
       "    <tr>\n",
       "      <th>4</th>\n",
       "      <td>2016-01-01 04:00:00</td>\n",
       "      <td>169.311459</td>\n",
       "    </tr>\n",
       "    <tr>\n",
       "      <th>...</th>\n",
       "      <td>...</td>\n",
       "      <td>...</td>\n",
       "    </tr>\n",
       "    <tr>\n",
       "      <th>8768</th>\n",
       "      <td>2016-12-31 14:00:00</td>\n",
       "      <td>229.526612</td>\n",
       "    </tr>\n",
       "    <tr>\n",
       "      <th>8769</th>\n",
       "      <td>2016-12-31 15:00:00</td>\n",
       "      <td>248.772280</td>\n",
       "    </tr>\n",
       "    <tr>\n",
       "      <th>8770</th>\n",
       "      <td>2016-12-31 16:00:00</td>\n",
       "      <td>232.533050</td>\n",
       "    </tr>\n",
       "    <tr>\n",
       "      <th>8771</th>\n",
       "      <td>2016-12-31 17:00:00</td>\n",
       "      <td>236.183695</td>\n",
       "    </tr>\n",
       "    <tr>\n",
       "      <th>8772</th>\n",
       "      <td>2016-12-31 18:00:00</td>\n",
       "      <td>225.774751</td>\n",
       "    </tr>\n",
       "  </tbody>\n",
       "</table>\n",
       "<p>8773 rows × 2 columns</p>\n",
       "</div>"
      ],
      "text/plain": [
       "               timestamp  meter_reading\n",
       "0    2016-01-01 00:00:00     144.041333\n",
       "1    2016-01-01 01:00:00     143.444147\n",
       "2    2016-01-01 02:00:00     144.674966\n",
       "3    2016-01-01 03:00:00     152.631042\n",
       "4    2016-01-01 04:00:00     169.311459\n",
       "...                  ...            ...\n",
       "8768 2016-12-31 14:00:00     229.526612\n",
       "8769 2016-12-31 15:00:00     248.772280\n",
       "8770 2016-12-31 16:00:00     232.533050\n",
       "8771 2016-12-31 17:00:00     236.183695\n",
       "8772 2016-12-31 18:00:00     225.774751\n",
       "\n",
       "[8773 rows x 2 columns]"
      ]
     },
     "execution_count": 84,
     "metadata": {},
     "output_type": "execute_result"
    }
   ],
   "source": [
    "predictions"
   ]
  },
  {
   "cell_type": "markdown",
   "id": "987993aa",
   "metadata": {},
   "source": [
    "### 4.8.3 Measure Accuracy<a id='4.8.3_Measure_Accuracy'></a>"
   ]
  },
  {
   "cell_type": "markdown",
   "id": "59dfaeb7",
   "metadata": {},
   "source": [
    "Measure the Accuracy with the RSME and MAE"
   ]
  },
  {
   "cell_type": "code",
   "execution_count": 85,
   "id": "9179f08e",
   "metadata": {},
   "outputs": [
    {
     "data": {
      "text/plain": [
       "238.7844276624935"
      ]
     },
     "execution_count": 85,
     "metadata": {},
     "output_type": "execute_result"
    }
   ],
   "source": [
    "(mean_squared_error(y, y_val_pred))**(1/2)"
   ]
  },
  {
   "cell_type": "code",
   "execution_count": 86,
   "id": "4923732a",
   "metadata": {},
   "outputs": [
    {
     "data": {
      "text/plain": [
       "232.5843341226948"
      ]
     },
     "execution_count": 86,
     "metadata": {},
     "output_type": "execute_result"
    }
   ],
   "source": [
    "mean_absolute_error(y, y_val_pred)"
   ]
  },
  {
   "cell_type": "markdown",
   "id": "7c309c55",
   "metadata": {},
   "source": [
    "### 4.8.4 Compare Validation Data and Predictions<a id='4.8.4_Compare_Validation_Data_and_Predictions'></a>"
   ]
  },
  {
   "cell_type": "code",
   "execution_count": 87,
   "id": "242f950b",
   "metadata": {},
   "outputs": [],
   "source": [
    "validation=pd.concat([timestamp,y],axis=1)"
   ]
  },
  {
   "cell_type": "code",
   "execution_count": 88,
   "id": "f0ed0a93",
   "metadata": {},
   "outputs": [
    {
     "data": {
      "text/html": [
       "<div>\n",
       "<style scoped>\n",
       "    .dataframe tbody tr th:only-of-type {\n",
       "        vertical-align: middle;\n",
       "    }\n",
       "\n",
       "    .dataframe tbody tr th {\n",
       "        vertical-align: top;\n",
       "    }\n",
       "\n",
       "    .dataframe thead th {\n",
       "        text-align: right;\n",
       "    }\n",
       "</style>\n",
       "<table border=\"1\" class=\"dataframe\">\n",
       "  <thead>\n",
       "    <tr style=\"text-align: right;\">\n",
       "      <th></th>\n",
       "      <th>timestamp</th>\n",
       "      <th>meter_reading</th>\n",
       "    </tr>\n",
       "  </thead>\n",
       "  <tbody>\n",
       "    <tr>\n",
       "      <th>0</th>\n",
       "      <td>2016-01-01 00:00:00</td>\n",
       "      <td>416.169</td>\n",
       "    </tr>\n",
       "    <tr>\n",
       "      <th>1</th>\n",
       "      <td>2016-01-01 01:00:00</td>\n",
       "      <td>408.616</td>\n",
       "    </tr>\n",
       "    <tr>\n",
       "      <th>2</th>\n",
       "      <td>2016-01-01 02:00:00</td>\n",
       "      <td>412.072</td>\n",
       "    </tr>\n",
       "    <tr>\n",
       "      <th>3</th>\n",
       "      <td>2016-01-01 03:00:00</td>\n",
       "      <td>393.053</td>\n",
       "    </tr>\n",
       "    <tr>\n",
       "      <th>4</th>\n",
       "      <td>2016-01-01 04:00:00</td>\n",
       "      <td>404.519</td>\n",
       "    </tr>\n",
       "    <tr>\n",
       "      <th>...</th>\n",
       "      <td>...</td>\n",
       "      <td>...</td>\n",
       "    </tr>\n",
       "    <tr>\n",
       "      <th>8768</th>\n",
       "      <td>2016-12-31 14:00:00</td>\n",
       "      <td>456.460</td>\n",
       "    </tr>\n",
       "    <tr>\n",
       "      <th>8769</th>\n",
       "      <td>2016-12-31 15:00:00</td>\n",
       "      <td>455.198</td>\n",
       "    </tr>\n",
       "    <tr>\n",
       "      <th>8770</th>\n",
       "      <td>2016-12-31 16:00:00</td>\n",
       "      <td>466.479</td>\n",
       "    </tr>\n",
       "    <tr>\n",
       "      <th>8771</th>\n",
       "      <td>2016-12-31 17:00:00</td>\n",
       "      <td>471.751</td>\n",
       "    </tr>\n",
       "    <tr>\n",
       "      <th>8772</th>\n",
       "      <td>2016-12-31 18:00:00</td>\n",
       "      <td>461.110</td>\n",
       "    </tr>\n",
       "  </tbody>\n",
       "</table>\n",
       "<p>8773 rows × 2 columns</p>\n",
       "</div>"
      ],
      "text/plain": [
       "               timestamp  meter_reading\n",
       "0    2016-01-01 00:00:00        416.169\n",
       "1    2016-01-01 01:00:00        408.616\n",
       "2    2016-01-01 02:00:00        412.072\n",
       "3    2016-01-01 03:00:00        393.053\n",
       "4    2016-01-01 04:00:00        404.519\n",
       "...                  ...            ...\n",
       "8768 2016-12-31 14:00:00        456.460\n",
       "8769 2016-12-31 15:00:00        455.198\n",
       "8770 2016-12-31 16:00:00        466.479\n",
       "8771 2016-12-31 17:00:00        471.751\n",
       "8772 2016-12-31 18:00:00        461.110\n",
       "\n",
       "[8773 rows x 2 columns]"
      ]
     },
     "execution_count": 88,
     "metadata": {},
     "output_type": "execute_result"
    }
   ],
   "source": [
    "validation"
   ]
  },
  {
   "cell_type": "markdown",
   "id": "9747d5c2",
   "metadata": {},
   "source": [
    "Add columns to prediction and validation tables containing the moving average of the meter readings to facilitate comparison"
   ]
  },
  {
   "cell_type": "code",
   "execution_count": 89,
   "id": "3f1559fe",
   "metadata": {},
   "outputs": [],
   "source": [
    "validation['moving_avg'] = validation['meter_reading'].interpolate('index').rolling(720).mean()"
   ]
  },
  {
   "cell_type": "code",
   "execution_count": 90,
   "id": "ad097615",
   "metadata": {},
   "outputs": [],
   "source": [
    "predictions['moving_avg'] = predictions['meter_reading'].interpolate('index').rolling(720).mean()"
   ]
  },
  {
   "cell_type": "markdown",
   "id": "218a05ce",
   "metadata": {},
   "source": [
    "Make a plot to compare the validation data and the predictions"
   ]
  },
  {
   "cell_type": "code",
   "execution_count": 93,
   "id": "09f47bc8",
   "metadata": {},
   "outputs": [
    {
     "data": {
      "image/png": "[encoded data removed]",
      "text/plain": [
       "<Figure size 720x504 with 1 Axes>"
      ]
     },
     "metadata": {
      "needs_background": "light"
     },
     "output_type": "display_data"
    }
   ],
   "source": [
    "fig, ax = plt.subplots(1,1,figsize=(10,7))\n",
    "ax.plot(timestamp,validation['moving_avg'],label='Validation Data')\n",
    "ax.plot(timestamp,predictions['moving_avg'], label='Prediction')\n",
    "ax.set_xlabel('time')\n",
    "ax.set_ylabel('Electricity Consumption (kWh)')\n",
    "ax.legend()\n",
    "plt.show()"
   ]
  },
  {
   "cell_type": "code",
   "execution_count": 79,
   "id": "ede639f7",
   "metadata": {},
   "outputs": [
    {
     "data": {
      "text/html": [
       "<div>\n",
       "<style scoped>\n",
       "    .dataframe tbody tr th:only-of-type {\n",
       "        vertical-align: middle;\n",
       "    }\n",
       "\n",
       "    .dataframe tbody tr th {\n",
       "        vertical-align: top;\n",
       "    }\n",
       "\n",
       "    .dataframe thead tr th {\n",
       "        text-align: left;\n",
       "    }\n",
       "</style>\n",
       "<table border=\"1\" class=\"dataframe\">\n",
       "  <thead>\n",
       "    <tr>\n",
       "      <th></th>\n",
       "      <th colspan=\"2\" halign=\"left\">RMSE</th>\n",
       "      <th colspan=\"2\" halign=\"left\">MAE</th>\n",
       "    </tr>\n",
       "    <tr>\n",
       "      <th></th>\n",
       "      <th>Training Set</th>\n",
       "      <th>Testing Set</th>\n",
       "      <th>Training Set</th>\n",
       "      <th>Testing Set</th>\n",
       "    </tr>\n",
       "  </thead>\n",
       "  <tbody>\n",
       "    <tr>\n",
       "      <th>Dummy Regressor</th>\n",
       "      <td>367.236865</td>\n",
       "      <td>373.764373</td>\n",
       "      <td>176.437408</td>\n",
       "      <td>178.652192</td>\n",
       "    </tr>\n",
       "    <tr>\n",
       "      <th>Linear Regression</th>\n",
       "      <td>304.195955</td>\n",
       "      <td>307.323326</td>\n",
       "      <td>128.037428</td>\n",
       "      <td>128.554745</td>\n",
       "    </tr>\n",
       "    <tr>\n",
       "      <th>Ridge Regression</th>\n",
       "      <td>304.196034</td>\n",
       "      <td>307.327225</td>\n",
       "      <td>128.004239</td>\n",
       "      <td>128.521558</td>\n",
       "    </tr>\n",
       "    <tr>\n",
       "      <th>Random Forest Regression</th>\n",
       "      <td>82.419440</td>\n",
       "      <td>205.167463</td>\n",
       "      <td>32.033996</td>\n",
       "      <td>85.502185</td>\n",
       "    </tr>\n",
       "  </tbody>\n",
       "</table>\n",
       "</div>"
      ],
      "text/plain": [
       "                                 RMSE                      MAE            \n",
       "                         Training Set Testing Set Training Set Testing Set\n",
       "Dummy Regressor            367.236865  373.764373   176.437408  178.652192\n",
       "Linear Regression          304.195955  307.323326   128.037428  128.554745\n",
       "Ridge Regression           304.196034  307.327225   128.004239  128.521558\n",
       "Random Forest Regression    82.419440  205.167463    32.033996   85.502185"
      ]
     },
     "execution_count": 79,
     "metadata": {},
     "output_type": "execute_result"
    }
   ],
   "source": [
    "# put together the values for the metrics for each model\n",
    "data = [(rmse_tr_dr,rmse_te_dr,mae_tr_dr,mae_te_dr),(rmse_tr_lr,rmse_te_lr,mae_tr_lr,mae_te_lr),\n",
    "        (rmse_tr_rd,rmse_te_rd,mae_tr_rd,mae_te_rd),(rmse_tr_rf,rmse_te_rf,mae_tr_rf,mae_te_rf)]\n",
    "\n",
    "# create a dataframe with the metric values for each model\n",
    "mux = pd.MultiIndex.from_product([['RMSE','MAE'], ['Training Set','Testing Set']])\n",
    "df = pd.DataFrame(data, index=['Dummy Regressor','Linear Regression','Ridge Regression','Random Forest Regression'],\n",
    "                  columns=mux)\n",
    "df"
   ]
  }
 ],
 "metadata": {
  "kernelspec": {
   "display_name": "Python 3 (ipykernel)",
   "language": "python",
   "name": "python3"
  },
  "language_info": {
   "codemirror_mode": {
    "name": "ipython",
    "version": 3
   },
   "file_extension": ".py",
   "mimetype": "text/x-python",
   "name": "python",
   "nbconvert_exporter": "python",
   "pygments_lexer": "ipython3",
   "version": "3.9.7"
  }
 },
 "nbformat": 4,
 "nbformat_minor": 5
}
